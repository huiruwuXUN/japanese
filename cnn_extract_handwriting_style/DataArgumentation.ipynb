{
 "cells": [
  {
   "cell_type": "code",
   "execution_count": 5,
   "id": "9faf149c",
   "metadata": {},
   "outputs": [],
   "source": [
    "# Folder paths\n",
    "# input_folder = \"C:\\\\Users\\\\JimDzh\\\\Desktop\\\\clustering\\\\data3\\\\B\"  # 包含原始图像的文件夹\n",
    "# output_folder = \"C:\\\\Users\\\\JimDzh\\\\Desktop\\\\clustering\\\\data3\\\\B_a\"  # 保存处理后图像的文件夹\n",
    "\n",
    "import os\n",
    "import cv2\n",
    "import random\n",
    "\n",
    "# Define the image processing function\n",
    "def preprocess_image(image_path, output_folder):\n",
    "    # Read the original image\n",
    "    original_image = cv2.imread(image_path)\n",
    "    image_name = os.path.basename(image_path)\n",
    "    \n",
    "    # Save the original image\n",
    "    original_output_path = os.path.join(output_folder, \"original_\" + image_name)\n",
    "    cv2.imwrite(original_output_path, original_image)\n",
    "    \n",
    "    # Horizontal flip\n",
    "    flipped_horizontal = cv2.flip(original_image, 1)\n",
    "    horizontal_output_path = os.path.join(output_folder, \"horizontal_\" + image_name)\n",
    "    cv2.imwrite(horizontal_output_path, flipped_horizontal)\n",
    "\n",
    "    # Vertical flip\n",
    "    flipped_vertical = cv2.flip(original_image, 0)\n",
    "    vertical_output_path = os.path.join(output_folder, \"vertical_\" + image_name)\n",
    "    cv2.imwrite(vertical_output_path, flipped_vertical)\n",
    "\n",
    "    # Random scaling\n",
    "    scale_factor = random.uniform(0.8, 1.2)\n",
    "    new_height = int(original_image.shape[0] * scale_factor)\n",
    "    new_width = int(original_image.shape[1] * scale_factor)\n",
    "    scaled_image = cv2.resize(original_image, (new_width, new_height))\n",
    "    scaled_output_path = os.path.join(output_folder, \"scaled_\" + image_name)\n",
    "    cv2.imwrite(scaled_output_path, scaled_image)\n",
    "\n",
    "# Folder paths\n",
    "input_folder = \"D:\\\\cvLearning\\\\clustering\\\\data3_new\\\\yongsong_new_black\"  # Folder containing the original images\n",
    "output_folder = \"D:\\\\cvLearning\\\\clustering\\\\data3_new_da\\\\yongsong_new\"  # Folder to save the processed images\n",
    "\n",
    "# Create the folder to save the processed images\n",
    "os.makedirs(output_folder, exist_ok=True)\n",
    "\n",
    "# Preprocess each image in the folder and save to the new folder\n",
    "for filename in os.listdir(input_folder):\n",
    "    if filename.endswith(('.jpg', '.jpeg', '.png')):\n",
    "        image_path = os.path.join(input_folder, filename)\n",
    "        preprocess_image(image_path, output_folder)\n",
    "\n",
    "\n"
   ]
  },
  {
   "cell_type": "code",
   "execution_count": null,
   "id": "5ee55017",
   "metadata": {},
   "outputs": [],
   "source": []
  }
 ],
 "metadata": {
  "kernelspec": {
   "display_name": "Python 3 (ipykernel)",
   "language": "python",
   "name": "python3"
  },
  "language_info": {
   "codemirror_mode": {
    "name": "ipython",
    "version": 3
   },
   "file_extension": ".py",
   "mimetype": "text/x-python",
   "name": "python",
   "nbconvert_exporter": "python",
   "pygments_lexer": "ipython3",
   "version": "3.11.4"
  }
 },
 "nbformat": 4,
 "nbformat_minor": 5
}
