{
  "nbformat": 4,
  "nbformat_minor": 0,
  "metadata": {
    "colab": {
      "provenance": []
    },
    "kernelspec": {
      "name": "python3",
      "display_name": "Python 3"
    },
    "language_info": {
      "name": "python"
    }
  },
  "cells": [
    {
      "cell_type": "code",
      "source": [
        "from google.colab import drive\n",
        "drive.mount('/content/drive')"
      ],
      "metadata": {
        "colab": {
          "base_uri": "https://localhost:8080/"
        },
        "id": "xPGhOmBTlkdg",
        "outputId": "c6a05f4a-04d9-49b9-d10c-d8306c8a5d82"
      },
      "execution_count": 2,
      "outputs": [
        {
          "output_type": "stream",
          "name": "stdout",
          "text": [
            "Mounted at /content/drive\n"
          ]
        }
      ]
    },
    {
      "cell_type": "code",
      "source": [
        "import os\n",
        "from pathlib import Path\n",
        "import cv2\n",
        "import numpy as np\n",
        "import pandas as pd\n",
        "from sklearn.cluster import DBSCAN\n",
        "import matplotlib.pyplot as plt"
      ],
      "metadata": {
        "id": "PsOXrpsdlTyP"
      },
      "execution_count": 3,
      "outputs": []
    },
    {
      "cell_type": "code",
      "source": [
        "\n",
        "\n",
        "ROOT = Path(\"/content/drive/MyDrive/samples_segmented_chars/p1_upload_skeletonized\")\n",
        "IMAGE_EXTS = {\".png\"}\n",
        "\n",
        "# corner detector params (Shi–Tomasi)\n",
        "MAX_CORNERS = 256          # cap per image; raise if needed\n",
        "QUALITY = 0.01             # 0..1; higher = stricter\n",
        "MIN_DIST = 1               # GFTT built-in suppression distance (px)\n",
        "BLOCK_SIZE = 3             # window for covariance matrix; 3 is good for thin skeletons\n",
        "USE_HARRIS = False         # True sometimes helps on bold strokes\n",
        "\n",
        "# cluster/merge params\n",
        "# fallback if you don't want size-adaptive: MERGE_EPS_PX = 3\n",
        "MERGE_EPS_PX_IF_NONE = None  # set to int to fix, or keep None to auto-scale by image size\n",
        "\n",
        "# debug overlay samples\n",
        "SAVE_DEBUG_OVERLAY = False\n",
        "DEBUG_OUT_DIR = Path(\"/content/corner_debug\")\n",
        "DEBUG_SAMPLE_EVERY = 50  # overlay 1 out of N images"
      ],
      "metadata": {
        "id": "0rvNJwDvlX4T"
      },
      "execution_count": 4,
      "outputs": []
    },
    {
      "cell_type": "code",
      "source": [
        "#--- helper ---\n",
        "def list_images(root: Path):\n",
        "    for p in root.rglob(\"*\"):\n",
        "        if p.suffix.lower() in IMAGE_EXTS and p.is_file():\n",
        "            yield p\n",
        "\n",
        "def ensure_binary_skeleton(img_gray: np.ndarray) -> np.ndarray:\n",
        "    \"\"\"\n",
        "    Expect already skeletonized images (1-px strokes). If not guaranteed,\n",
        "    at least binarize safely. We assume foreground is dark on light bg -> invert.\n",
        "    Returns a binary image with strokes=255, background=0 (what GFTT expects best).\n",
        "    \"\"\"\n",
        "    if img_gray.dtype != np.uint8:\n",
        "        img_gray = img_gray.astype(np.uint8)\n",
        "    # Adaptive threshold often safer than fixed for scans\n",
        "    bw = cv2.adaptiveThreshold(img_gray, 255, cv2.ADAPTIVE_THRESH_MEAN_C,\n",
        "                               cv2.THRESH_BINARY_INV, 15, 10)\n",
        "    return bw  # 255 on strokes, 0 bg\n",
        "\n",
        "def detect_corners_gftt(skel_255: np.ndarray,\n",
        "                        max_corners=MAX_CORNERS,\n",
        "                        quality=QUALITY,\n",
        "                        min_dist=MIN_DIST,\n",
        "                        block_size=BLOCK_SIZE,\n",
        "                        use_harris=USE_HARRIS):\n",
        "    \"\"\"\n",
        "    skel_255: binary skeleton (0/255). Returns N x 2 float32 array (x,y).\n",
        "    \"\"\"\n",
        "    # GoodFeaturesToTrack expects 8-bit single channel\n",
        "    pts = cv2.goodFeaturesToTrack(\n",
        "        image=skel_255,\n",
        "        maxCorners=max_corners,\n",
        "        qualityLevel=quality,\n",
        "        minDistance=min_dist,\n",
        "        blockSize=block_size,\n",
        "        useHarrisDetector=use_harris,\n",
        "        k=0.04\n",
        "    )\n",
        "    if pts is None:\n",
        "        return np.zeros((0, 2), dtype=np.float32)\n",
        "    pts = pts.reshape(-1, 2)  # (x, y)\n",
        "    return pts.astype(np.float32)\n",
        "\n",
        "def merge_close_points_dbscan(points_xy: np.ndarray, eps_px: float) -> np.ndarray:\n",
        "    \"\"\"\n",
        "    Merge nearby detections into a single corner using DBSCAN.\n",
        "    Returns cluster centers (mean) as M x 2 float32.\n",
        "    \"\"\"\n",
        "    if points_xy.shape[0] == 0:\n",
        "        return points_xy\n",
        "    clustering = DBSCAN(eps=eps_px, min_samples=1, metric='euclidean').fit(points_xy)\n",
        "    labels = clustering.labels_\n",
        "    merged = []\n",
        "    for lab in np.unique(labels):\n",
        "        merged.append(points_xy[labels == lab].mean(axis=0))\n",
        "    return np.vstack(merged).astype(np.float32)\n",
        "\n",
        "def autodetect_merge_eps(h, w, fallback=3):\n",
        "    # Simple size-aware rule of thumb: ~0.4% of the max dimension, clamped to [2, 6]\n",
        "    eps = int(round(0.004 * max(h, w)))\n",
        "    eps = max(2, min(6, eps))\n",
        "    return eps if MERGE_EPS_PX_IF_NONE is None else MERGE_EPS_PX_IF_NONE\n",
        "\n",
        "def overlay_points(img_gray: np.ndarray, pts_raw: np.ndarray, pts_merged: np.ndarray) -> np.ndarray:\n",
        "    \"\"\"\n",
        "    Overlay raw (red) and merged (green) points on a BGR preview.\n",
        "    \"\"\"\n",
        "    vis = cv2.cvtColor(img_gray, cv2.COLOR_GRAY2BGR)\n",
        "    for (x, y) in pts_raw:\n",
        "        cv2.circle(vis, (int(round(x)), int(round(y))), 3, (0, 0, 255), 1)   # red\n",
        "    for (x, y) in pts_merged:\n",
        "        cv2.circle(vis, (int(round(x)), int(round(y))), 3, (0, 255, 0), 1)   # green\n",
        "    return vis"
      ],
      "metadata": {
        "id": "4X_CsMGXlbYf"
      },
      "execution_count": 5,
      "outputs": []
    },
    {
      "cell_type": "code",
      "source": [
        "#--- main funcs ---\n",
        "def run_corner_stats(root: Path):\n",
        "    rows = []\n",
        "    os.makedirs(DEBUG_OUT_DIR, exist_ok=True)\n",
        "\n",
        "    for i, img_path in enumerate(list_images(root)):\n",
        "        # load grayscale\n",
        "        gray = cv2.imread(str(img_path), cv2.IMREAD_GRAYSCALE)\n",
        "        if gray is None:\n",
        "            continue\n",
        "        H, W = gray.shape[:2]\n",
        "\n",
        "        # make sure it's binary skeleton 0/255 (white strokes)\n",
        "        skel255 = ensure_binary_skeleton(gray)  # if already skeleton, this will just binarize/invert\n",
        "\n",
        "        # detect corners\n",
        "        pts_raw = detect_corners_gftt(skel255)\n",
        "\n",
        "        # merge within eps\n",
        "        eps = autodetect_merge_eps(H, W)\n",
        "        pts_merged = merge_close_points_dbscan(pts_raw, eps_px=eps)\n",
        "\n",
        "        # record\n",
        "        rows.append({\n",
        "            \"file\": str(img_path),\n",
        "            \"height\": H,\n",
        "            \"width\": W,\n",
        "            \"merge_eps_px\": eps,\n",
        "            \"corners_raw\": int(pts_raw.shape[0]),\n",
        "            \"corners_merged\": int(pts_merged.shape[0])\n",
        "        })\n",
        "\n",
        "        # optional visual debug\n",
        "        if SAVE_DEBUG_OVERLAY and (i % DEBUG_SAMPLE_EVERY == 0):\n",
        "            vis = overlay_points(gray, pts_raw, pts_merged)\n",
        "            outp = DEBUG_OUT_DIR / f\"dbg_{i:05d}.png\"\n",
        "            cv2.imwrite(str(outp), vis)\n",
        "\n",
        "    df = pd.DataFrame(rows)\n",
        "    return df\n"
      ],
      "metadata": {
        "id": "ILsCPDHglfm6"
      },
      "execution_count": 6,
      "outputs": []
    },
    {
      "cell_type": "code",
      "source": [
        "#--- visual data ---\n",
        "df = run_corner_stats(ROOT)\n",
        "\n",
        "print(df.head())\n",
        "print(f\"\\nTotal images: {len(df)}\")\n",
        "\n",
        "# Save CSV\n",
        "out_csv = Path(\"/content/corner_counts.csv\")\n",
        "df.to_csv(out_csv, index=False)\n",
        "print(f\"Saved: {out_csv}\")\n",
        "\n",
        "# Plot distribution of merged-corner counts\n",
        "plt.figure(figsize=(8,4))\n",
        "plt.hist(df[\"corners_merged\"], bins=range(0, df[\"corners_merged\"].max()+2), edgecolor='k', align='left')\n",
        "plt.xlabel(\"Corners per image (merged)\")\n",
        "plt.ylabel(\"Frequency\")\n",
        "plt.title(\"Corner count distribution\")\n",
        "plt.tight_layout()\n",
        "plt.show()\n"
      ],
      "metadata": {
        "colab": {
          "base_uri": "https://localhost:8080/",
          "height": 685
        },
        "id": "pq-Pu1xMliIp",
        "outputId": "ad3b1a4e-aeca-4392-edff-f5c2c38fa9b4"
      },
      "execution_count": 7,
      "outputs": [
        {
          "output_type": "stream",
          "name": "stdout",
          "text": [
            "                                                file  height  width  \\\n",
            "0  /content/drive/MyDrive/samples_segmented_chars...      65     36   \n",
            "1  /content/drive/MyDrive/samples_segmented_chars...      42     45   \n",
            "2  /content/drive/MyDrive/samples_segmented_chars...      44     32   \n",
            "3  /content/drive/MyDrive/samples_segmented_chars...      41     31   \n",
            "4  /content/drive/MyDrive/samples_segmented_chars...      45     24   \n",
            "\n",
            "   merge_eps_px  corners_raw  corners_merged  \n",
            "0             2           62              54  \n",
            "1             2           59              50  \n",
            "2             2           43              38  \n",
            "3             2           36              28  \n",
            "4             2           38              28  \n",
            "\n",
            "Total images: 3613\n",
            "Saved: /content/corner_counts.csv\n"
          ]
        },
        {
          "output_type": "display_data",
          "data": {
            "text/plain": [
              "<Figure size 800x400 with 1 Axes>"
            ],
            "image/png": "[encoded data removed]"
          },
          "metadata": {}
        }
      ]
    },
    {
      "cell_type": "code",
      "source": [
        "from pathlib import Path\n",
        "import cv2\n",
        "\n",
        "# Load and ensure binary (white=255 on black)\n",
        "img_path = Path(\"/content/drive/MyDrive/samples_segmented_chars/p1_upload_skeletonized/RC04844/page_1/c200.png\")\n",
        "gray = cv2.imread(img_path, cv2.IMREAD_GRAYSCALE)\n",
        "skeleton = (gray > 0).astype(np.uint8) * 255\n",
        "\n",
        "# Detect corners\n",
        "corners = detect_junctions(skeleton)\n",
        "print(f\"Detected corners: {len(corners)}\")\n",
        "\n",
        "# Visualize\n",
        "vis = overlay_color_dots(skeleton, corners)\n",
        "\n",
        "plt.figure(figsize=(3, 3))\n",
        "plt.imshow(cv2.cvtColor(vis, cv2.COLOR_BGR2RGB))\n",
        "plt.title(f\"{len(corners)} corners\")\n",
        "plt.axis(\"off\")\n",
        "plt.show()\n",
        "\n"
      ],
      "metadata": {
        "colab": {
          "base_uri": "https://localhost:8080/",
          "height": 307
        },
        "id": "ZD-uHtfcoMpY",
        "outputId": "e04b5459-8034-4e93-9ffc-c4a6a196f328"
      },
      "execution_count": 20,
      "outputs": [
        {
          "output_type": "stream",
          "name": "stdout",
          "text": [
            "Detected corners: 26\n"
          ]
        },
        {
          "output_type": "display_data",
          "data": {
            "text/plain": [
              "<Figure size 300x300 with 1 Axes>"
            ],
            "image/png": "[encoded data removed]"
          },
          "metadata": {}
        }
      ]
    },
    {
      "cell_type": "code",
      "source": [
        "import cv2, numpy as np, matplotlib.pyplot as plt\n",
        "from pathlib import Path\n",
        "from scipy.ndimage import convolve\n",
        "\n",
        "# ---------- helpers ----------\n",
        "NB8 = np.array([[1,1,1],[1,0,1],[1,1,1]], np.uint8)\n",
        "\n",
        "def ensure_binary_skeleton(gray: np.ndarray) -> np.ndarray:\n",
        "    \"\"\"Return 0/255 skeleton with strokes white. If already 0/255, keep (invert if needed).\"\"\"\n",
        "    if gray.dtype != np.uint8: gray = gray.astype(np.uint8)\n",
        "    u = set(np.unique(gray).tolist())\n",
        "    if u.issubset({0,255}):\n",
        "        return gray if np.mean(gray) < 127 else cv2.bitwise_not(gray)\n",
        "    # fallback binarization\n",
        "    _, bw = cv2.threshold(255 - gray, 0, 255, cv2.THRESH_BINARY + cv2.THRESH_OTSU)\n",
        "    return bw\n",
        "\n",
        "def degree8(B01):  # count 8-neighbors\n",
        "    return convolve(B01, NB8, mode='constant')\n",
        "\n",
        "def connected_components(mask01):\n",
        "    num, lab = cv2.connectedComponents(mask01.astype(np.uint8), connectivity=8)\n",
        "    return num, lab\n",
        "\n",
        "# ---------- graph extraction: nodes (junctions & endpoints), paths between nodes ----------\n",
        "def extract_graph(B255):\n",
        "    B01 = (B255 > 0).astype(np.uint8)\n",
        "    H, W = B01.shape\n",
        "    deg = degree8(B01)\n",
        "\n",
        "    is_junc = (B01==1) & (deg >= 3)\n",
        "    is_end  = (B01==1) & (deg == 1)\n",
        "    is_node = (B01==1) & (deg != 2)\n",
        "\n",
        "    # collapse adjacent junction pixels -> one centroid each\n",
        "    nj, lab_j = connected_components(is_junc)\n",
        "    junc = []\n",
        "    for lid in range(1, nj):\n",
        "        ys, xs = np.where(lab_j == lid)\n",
        "        junc.append((int(round(xs.mean())), int(round(ys.mean()))))\n",
        "    junc = np.array(junc, dtype=np.int32) if junc else np.zeros((0,2), np.int32)\n",
        "\n",
        "    # endpoints (collapse as well)\n",
        "    ne, lab_e = connected_components(is_end)\n",
        "    ends = []\n",
        "    for lid in range(1, ne):\n",
        "        ys, xs = np.where(lab_e == lid)\n",
        "        ends.append((int(round(xs.mean())), int(round(ys.mean()))))\n",
        "    ends = np.array(ends, dtype=np.int32) if ends else np.zeros((0,2), np.int32)\n",
        "\n",
        "    # neighbor generator\n",
        "    def nbrs(y,x):\n",
        "        for dy,dx in [(-1,-1),(-1,0),(-1,1),(0,-1),(0,1),(1,-1),(1,0),(1,1)]:\n",
        "            ny, nx = y+dy, x+dx\n",
        "            if 0<=ny<H and 0<=nx<W and B01[ny,nx]==1:\n",
        "                yield ny, nx\n",
        "\n",
        "    node_pix = set(map(tuple, np.argwhere(is_node)))\n",
        "    deg_arr = deg\n",
        "    paths = []\n",
        "    seen_edges = set()\n",
        "\n",
        "    for (ny, nx) in node_pix:\n",
        "        for (py, px) in list(nbrs(ny, nx)):\n",
        "            ekey = tuple(sorted([(ny,nx),(py,px)]))\n",
        "            if ekey in seen_edges:\n",
        "                continue\n",
        "            path = [(nx, ny)]  # (x,y)\n",
        "            prev = (ny, nx); curr = (py, px)\n",
        "            seen_edges.add(ekey)\n",
        "            while True:\n",
        "                path.append((curr[1], curr[0]))\n",
        "                if deg_arr[curr] != 2:\n",
        "                    break\n",
        "                nxts = [q for q in nbrs(*curr) if q != prev]\n",
        "                if not nxts: break\n",
        "                nxt = nxts[0]\n",
        "                seen_edges.add(tuple(sorted([curr, nxt])))\n",
        "                prev, curr = curr, nxt\n",
        "            paths.append(np.array(path, dtype=np.int32))\n",
        "\n",
        "    return junc, ends, paths\n",
        "\n",
        "# ---------- chain-code corner detection on paths (suppresses aliasing) ----------\n",
        "STEP8 = np.array([[1,0],[1,1],[0,1],[-1,1],[-1,0],[-1,-1],[0,-1],[1,-1]], dtype=int)\n",
        "\n",
        "def chain_codes(poly: np.ndarray) -> np.ndarray:\n",
        "    d = poly[1:] - poly[:-1]\n",
        "    codes = np.empty(len(d), dtype=int)\n",
        "    for i,(dx,dy) in enumerate(d):\n",
        "        if dx==0 and dy==0: codes[i]=0; continue\n",
        "        sx = 0 if dx==0 else (1 if dx>0 else -1)\n",
        "        sy = 0 if dy==0 else (1 if dy>0 else -1)\n",
        "        step = np.array([sx,sy])\n",
        "        for c in range(8):\n",
        "            if (STEP8[c] == step).all():\n",
        "                codes[i]=c; break\n",
        "    return codes\n",
        "\n",
        "def circular_mode_filter(codes: np.ndarray, w:int=5) -> np.ndarray:\n",
        "    if len(codes)==0: return codes\n",
        "    k = max(1, w//2)\n",
        "    out = codes.copy()\n",
        "    for i in range(len(codes)):\n",
        "        a = max(0, i-k); b = min(len(codes), i+k+1)\n",
        "        vals, cnts = np.unique(codes[a:b], return_counts=True)\n",
        "        out[i] = vals[np.argmax(cnts)]\n",
        "    return out\n",
        "\n",
        "def compress_runs(codes: np.ndarray):\n",
        "    if len(codes)==0: return np.array([0]), np.array([len(codes)]), np.array([0])\n",
        "    starts=[0]; dirs=[codes[0]]\n",
        "    for i in range(1,len(codes)):\n",
        "        if codes[i]!=codes[i-1]:\n",
        "            starts.append(i); dirs.append(codes[i])\n",
        "    starts = np.array(starts, int)\n",
        "    lens = np.diff(np.append(starts, len(codes)))\n",
        "    dirs = np.array(dirs, int)\n",
        "    return starts, lens, dirs\n",
        "\n",
        "def dir_delta(a:int, b:int) -> int:  # 0..4 (steps of 45°)\n",
        "    d = abs(a-b)%8\n",
        "    return min(d, 8-d)\n",
        "\n",
        "def detect_path_corners_chain(path: np.ndarray,\n",
        "                              dir_window:int=7, min_run_px:int=6,\n",
        "                              theta_steps:int=4, nms_sep:int=6) -> list:\n",
        "    \"\"\"\n",
        "    Return list of (x,y) corner points on a single path.\n",
        "    - dir_window: majority filter on direction codes (smooth jaggies)\n",
        "    - min_run_px: require at least this many pixels straight on each side\n",
        "    - theta_steps: direction change threshold in 45° steps (4≈90°, 3≈67.5°)\n",
        "    - nms_sep: minimal separation along path indices\n",
        "    \"\"\"\n",
        "    if len(path) < (min_run_px*2 + 2): return []\n",
        "    codes = chain_codes(path)\n",
        "    codes_s = circular_mode_filter(codes, w=dir_window)\n",
        "    starts, lens, dirs = compress_runs(codes_s)\n",
        "\n",
        "    idx_candidates = []\n",
        "    for r in range(1, len(starts)):\n",
        "        L = lens[r-1]; R = lens[r]\n",
        "        if L < min_run_px or R < min_run_px: continue\n",
        "        if dir_delta(dirs[r-1], dirs[r]) >= theta_steps:\n",
        "            idx_candidates.append(starts[r])\n",
        "\n",
        "    idx_candidates.sort()\n",
        "    kept = []\n",
        "    last = -10**9\n",
        "    for i in idx_candidates:\n",
        "        if i - last >= nms_sep:\n",
        "            kept.append(i); last = i\n",
        "\n",
        "    return [tuple(path[i]) for i in kept]\n",
        "\n",
        "def detect_bend_corners_on_paths(paths,\n",
        "                                 dir_window=7, min_run_px=6,\n",
        "                                 theta_steps=4, nms_sep=6):\n",
        "    pts=[]\n",
        "    for P in paths:\n",
        "        pts.extend(detect_path_corners_chain(P, dir_window, min_run_px, theta_steps, nms_sep))\n",
        "    return np.array(pts, np.int32) if pts else np.zeros((0,2), np.int32)\n",
        "\n",
        "# ---------- visualization ----------\n",
        "def overlay_dots(skel255, pts, color):\n",
        "    vis = cv2.cvtColor(skel255, cv2.COLOR_GRAY2BGR)\n",
        "    for (x,y) in pts:\n",
        "        vis[y, x] = color  # 1‑px colored dot\n",
        "    return vis\n",
        "\n",
        "def show_corners_single(gray,\n",
        "                        dir_window=7, min_run_px=6,\n",
        "                        theta_steps=4, nms_sep=6):\n",
        "    skel = ensure_binary_skeleton(gray)\n",
        "    junc, ends, paths = extract_graph(skel)\n",
        "    bend = detect_bend_corners_on_paths(paths, dir_window, min_run_px, theta_steps, nms_sep)\n",
        "\n",
        "    vis = cv2.cvtColor(skel, cv2.COLOR_GRAY2BGR)\n",
        "    for (x,y) in junc: vis[y,x] = (255, 0,255)  # magenta junctions\n",
        "    for (x,y) in bend: vis[y,x] = (0,255,255)   # cyan bends\n",
        "\n",
        "    total = len(junc) + len(bend)\n",
        "    plt.figure(figsize=(4,5))\n",
        "    plt.imshow(cv2.cvtColor(vis, cv2.COLOR_BGR2RGB))\n",
        "    plt.title(f\"{total} corners\")\n",
        "    plt.axis('off'); plt.show()\n",
        "\n",
        "    print(f\"junctions: {len(junc)} | bends: {len(bend)} | total: {total}\")\n",
        "    return junc, bend, vis\n"
      ],
      "metadata": {
        "id": "dikhStp1u5L2"
      },
      "execution_count": 29,
      "outputs": []
    },
    {
      "cell_type": "code",
      "source": [
        "img_path = Path(\"/content/drive/MyDrive/samples_segmented_chars/p1_upload_skeletonized/RC04844/page_1/c200.png\")\n",
        "gray = cv2.imread(str(img_path), cv2.IMREAD_GRAYSCALE)\n",
        "junc, bend, vis = show_corners_single(\n",
        "    gray,\n",
        "    dir_window=7,   # ↑ for more smoothing of stair-steps\n",
        "    min_run_px=6,   # ↑ to require longer straight segments\n",
        "    theta_steps=4,  # 4≈90°; 3≈67.5°. Raise to be stricter.\n",
        "    nms_sep=6       # ↑ to suppress very close duplicates\n",
        ")\n"
      ],
      "metadata": {
        "colab": {
          "base_uri": "https://localhost:8080/",
          "height": 461
        },
        "id": "O0LZGYPFu7wN",
        "outputId": "d7999f4b-c010-4765-a21a-1f4212fe1063"
      },
      "execution_count": 30,
      "outputs": [
        {
          "output_type": "display_data",
          "data": {
            "text/plain": [
              "<Figure size 400x500 with 1 Axes>"
            ],
            "image/png": "[encoded data removed]"
          },
          "metadata": {}
        },
        {
          "output_type": "stream",
          "name": "stdout",
          "text": [
            "junctions: 8 | bends: 0 | total: 8\n"
          ]
        }
      ]
    },
    {
      "cell_type": "code",
      "source": [
        "import pandas as pd\n",
        "\n",
        "ROOT = Path(\"/content/drive/MyDrive/samples_segmented_chars/p1_upload_skeletonized/\")\n",
        "OUT  = Path(\"/content/drive/MyDrive/samples_segmented_chars/skeleton_corner_overlays/\"); OUT.mkdir(parents=True, exist_ok=True)\n",
        "exts = {\".png\"}\n",
        "\n",
        "rows = []\n",
        "for p in ROOT.rglob(\"*\"):\n",
        "    if p.suffix.lower() not in exts: continue\n",
        "    g = cv2.imread(str(p), cv2.IMREAD_GRAYSCALE)\n",
        "    if g is None: continue\n",
        "    junc, bend, vis = show_corners_single(g, dir_window=7, min_run_px=6, theta_steps=4, nms_sep=6)\n",
        "    cv2.imwrite(str(OUT / (p.stem + \"_corners.png\"+f\"_c{len(junc)+len(bend)}\")), vis)\n",
        "    rows.append({\"file\": str(p), \"junctions\": len(junc), \"bends\": len(bend), \"total\": len(junc)+len(bend)})\n",
        "\n",
        "df = pd.DataFrame(rows)\n",
        "df.to_csv(OUT / \"corner_counts.csv\", index=False)\n",
        "#print(\"Saved:\", OUT)"
      ],
      "metadata": {
        "id": "E6JUVI4hwIG2"
      },
      "execution_count": null,
      "outputs": []
    }
  ]
}