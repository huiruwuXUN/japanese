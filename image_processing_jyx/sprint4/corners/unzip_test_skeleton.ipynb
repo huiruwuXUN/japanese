{
  "nbformat": 4,
  "nbformat_minor": 0,
  "metadata": {
    "colab": {
      "provenance": []
    },
    "kernelspec": {
      "name": "python3",
      "display_name": "Python 3"
    },
    "language_info": {
      "name": "python"
    }
  },
  "cells": [
    {
      "cell_type": "code",
      "execution_count": 6,
      "metadata": {
        "colab": {
          "base_uri": "https://localhost:8080/"
        },
        "id": "5H9aLu3kq9Qs",
        "outputId": "e6f554aa-211e-42c4-88f0-21f7df597642"
      },
      "outputs": [
        {
          "output_type": "stream",
          "name": "stdout",
          "text": [
            "Drive already mounted at /content/drive; to attempt to forcibly remount, call drive.mount(\"/content/drive\", force_remount=True).\n"
          ]
        }
      ],
      "source": [
        "from google.colab import drive\n",
        "drive.mount('/content/drive')\n"
      ]
    },
    {
      "cell_type": "code",
      "source": [
        "dataset_dir = '/content/drive/MyDrive/samples_segmented_chars'\n"
      ],
      "metadata": {
        "id": "U1WKHU-ZrBqJ"
      },
      "execution_count": 9,
      "outputs": []
    },
    {
      "cell_type": "code",
      "source": [
        "import os\n",
        "\n",
        "tar_files = [f for f in os.listdir(dataset_dir) if f.endswith('.tar')]\n",
        "print(tar_files)\n",
        "\n"
      ],
      "metadata": {
        "colab": {
          "base_uri": "https://localhost:8080/"
        },
        "id": "Nf8xAIHyrDj-",
        "outputId": "9ceadab8-7f37-4ef8-a03a-a28d7a759903"
      },
      "execution_count": 10,
      "outputs": [
        {
          "output_type": "stream",
          "name": "stdout",
          "text": [
            "['p1_upload.tar']\n"
          ]
        }
      ]
    },
    {
      "cell_type": "code",
      "source": [
        "\n",
        "import tarfile\n",
        "\n",
        "for tar_name in tar_files:\n",
        "    tar_path = os.path.join(dataset_dir, tar_name)\n",
        "    extract_dir = dataset_dir\n",
        "\n",
        "    os.makedirs(extract_dir, exist_ok=True)\n",
        "\n",
        "    with tarfile.open(tar_path, 'r') as tar:\n",
        "        tar.extractall(path=extract_dir)\n",
        "\n",
        "    print(f'Extracted {tar_name} to {extract_dir}')"
      ],
      "metadata": {
        "colab": {
          "base_uri": "https://localhost:8080/"
        },
        "id": "2PyfHjHZrJjj",
        "outputId": "c57a893f-bd16-4016-d5c7-64b25b913adf"
      },
      "execution_count": 11,
      "outputs": [
        {
          "output_type": "stream",
          "name": "stdout",
          "text": [
            "Extracted p1_upload.tar to /content/drive/MyDrive/samples_segmented_chars\n"
          ]
        }
      ]
    },
    {
      "cell_type": "code",
      "source": [
        "import os\n",
        "import cv2\n",
        "import numpy as np\n",
        "from skimage.morphology import skeletonize\n",
        "from skimage.util import invert\n",
        "from PIL import Image\n",
        "from tqdm import tqdm\n",
        "\n",
        "def skeletonize_image(img_path):\n",
        "    # Load grayscale\n",
        "    img = cv2.imread(img_path, cv2.IMREAD_GRAYSCALE)\n",
        "\n",
        "    if img is None:\n",
        "        raise ValueError(f\"Could not load image: {img_path}\")\n",
        "\n",
        "\n",
        "\n",
        "    binary = (img == 0).astype(np.uint8)\n",
        "\n",
        "    # Skeletonize\n",
        "    skeleton = skeletonize(binary).astype(np.uint8) * 255  # convert to 0-255\n",
        "\n",
        "    return skeleton\n",
        "\n",
        "\n",
        "def process_dataset(input_root, output_root):\n",
        "    for root, _, files in os.walk(input_root):\n",
        "        for fname in files:\n",
        "            if not fname.lower().endswith('.png'):\n",
        "                continue\n",
        "            in_path = os.path.join(root, fname)\n",
        "            rel_path = os.path.relpath(in_path, input_root)\n",
        "            out_path = os.path.join(output_root, rel_path)\n",
        "\n",
        "            try:\n",
        "                img = cv2.imread(in_path,cv2.IMREAD_GRAYSCALE)\n",
        "                if img is None:\n",
        "                  raise ValueError(f\"Could not load image: {img_path}\")\n",
        "                img_gray = np.array(img)\n",
        "                skeleton = preprocess_and_skeletonize(img_gray,apply_close=True)\n",
        "\n",
        "                # Make sure output folder exists\n",
        "                os.makedirs(os.path.dirname(out_path), exist_ok=True)\n",
        "\n",
        "                # Save result\n",
        "                Image.fromarray(skeleton).save(out_path)\n",
        "            except Exception as e:\n",
        "                print(f\"Error processing {in_path}: {e}\")\n",
        "\n",
        "    print(f\"All skeletonized images saved to: {output_root}\")\n"
      ],
      "metadata": {
        "id": "Melf-UZ83Qxl"
      },
      "execution_count": 25,
      "outputs": []
    },
    {
      "cell_type": "code",
      "source": [
        "img_path = \"/content/drive/MyDrive/samples_segmented_chars/p1_upload/RC04846/page_1/c199.png\"\n",
        "img = cv2.imread(img_path,cv2.IMREAD_GRAYSCALE)\n",
        "if img is None:\n",
        "    raise ValueError(f\"Could not load image: {img_path}\")"
      ],
      "metadata": {
        "id": "hdd0eqDciA_n"
      },
      "execution_count": 24,
      "outputs": []
    },
    {
      "cell_type": "code",
      "source": [
        "input_dir = \"/content/drive/MyDrive/samples_segmented_chars/p1_upload\"\n",
        "output_dir = \"/content/drive/MyDrive/samples_segmented_chars/p1_upload_skeletonized_nb\"\n",
        "process_dataset(input_dir, output_dir)"
      ],
      "metadata": {
        "colab": {
          "base_uri": "https://localhost:8080/"
        },
        "id": "HI3M11nehzgH",
        "outputId": "9480df42-9221-4958-bf55-24301c40b641"
      },
      "execution_count": 26,
      "outputs": [
        {
          "output_type": "stream",
          "name": "stdout",
          "text": [
            "All skeletonized images saved to: /content/drive/MyDrive/samples_segmented_chars/p1_upload_skeletonized\n"
          ]
        }
      ]
    },
    {
      "cell_type": "code",
      "source": [
        "import cv2\n",
        "import numpy as np\n",
        "import matplotlib.pyplot as plt\n",
        "from skimage.morphology import skeletonize\n",
        "from skimage.util import invert\n",
        "from PIL import Image\n",
        "import cv2.ximgproc as xip\n",
        "\n",
        "from skimage.morphology import medial_axis\n",
        "\n",
        "\n",
        "\n",
        "def preprocess_and_skeletonize(img, apply_blur=False, apply_erosion=False, apply_close=False):\n",
        "    img_proc = img.copy()\n",
        "\n",
        "    # Optional: blur to reduce aliasing\n",
        "    if apply_blur:\n",
        "        img = cv2.GaussianBlur(img, (1,1), 0)\n",
        "\n",
        "   # binary = (img == 0).astype(np.uint8)\n",
        "    binary = (img == 0).astype(np.uint8)*255\n",
        "    if apply_close:\n",
        "        kernel = np.ones((2, 2), np.uint8)\n",
        "        binary = cv2.morphologyEx(binary, cv2.MORPH_CLOSE, kernel, iterations=1)\n",
        "\n",
        "    # Optional: erode thick strokes\n",
        "    if apply_erosion:\n",
        "        kernel = np.ones((2, 2), np.uint8)\n",
        "        binary = cv2.erode(binary.astype(np.uint8), kernel, iterations=1)\n",
        "\n",
        "    # Skeletonize\n",
        "    #skeleton = skeletonize(binary).astype(np.uint8) * 255\n",
        "    skeleton = xip.thinning(binary)\n",
        "    return skeleton\n",
        "\n",
        "\n"
      ],
      "metadata": {
        "id": "-zQ5Jb9a_zwV"
      },
      "execution_count": 33,
      "outputs": []
    },
    {
      "cell_type": "code",
      "source": [
        "# === Load a sample image ===\n",
        "img_path = \"/content/drive/MyDrive/samples_segmented_chars/p1_upload/RC04844/page_1/c200.png\"  # Replace with your image path\n",
        "img_gray = cv2.imread(img_path, cv2.IMREAD_GRAYSCALE)\n",
        "#img_gray = cv2.resize(img_gray, (128, 128), interpolation=cv2.INTER_NEAREST)  # Normalize\n",
        "img_gray = np.array(img_gray)\n",
        "binary = (img_gray == 0).astype(np.uint8)\n",
        "\n",
        "plt.imshow(binary, cmap='gray')\n",
        "plt.title(\"Binary Image\")\n",
        "plt.show()\n",
        "\n"
      ],
      "metadata": {
        "colab": {
          "base_uri": "https://localhost:8080/",
          "height": 452
        },
        "id": "Cj3xE_G83RAq",
        "outputId": "5cdbef0e-0b44-4b79-d89f-08c8b2c897a3"
      },
      "execution_count": 34,
      "outputs": [
        {
          "output_type": "display_data",
          "data": {
            "text/plain": [
              "<Figure size 640x480 with 1 Axes>"
            ],
            "image/png": "[encoded data removed]"
          },
          "metadata": {}
        }
      ]
    },
    {
      "cell_type": "code",
      "source": [
        "\n",
        "skeleton_orig   = preprocess_and_skeletonize(img_gray, apply_blur=False)\n",
        "skeleton_blur   = preprocess_and_skeletonize(img_gray, apply_blur=True)\n",
        "skeleton_erode  = preprocess_and_skeletonize(img_gray, apply_erosion=True)\n",
        "skeleton_close = preprocess_and_skeletonize(img_gray, apply_close=True)\n",
        "skeleton_close_erode = preprocess_and_skeletonize(img_gray, apply_erosion=True, apply_close=True)\n",
        "\n",
        "skeleton_blur_close_erode = preprocess_and_skeletonize(img_gray, apply_blur= True, apply_erosion=True, apply_close=True)\n",
        "\n",
        "# --- Display side by side ---\n",
        "fig, axs = plt.subplots(1, 7, figsize=(16, 4))\n",
        "axs[0].imshow(img_gray, cmap='gray')\n",
        "axs[0].set_title(\"Original\")\n",
        "axs[1].imshow(skeleton_orig, cmap='gray')\n",
        "axs[1].set_title(\"No Preprocessing\")\n",
        "axs[2].imshow(skeleton_blur, cmap='gray')\n",
        "axs[2].set_title(\"Gaussian Blur\")\n",
        "axs[3].imshow(skeleton_erode, cmap='gray')\n",
        "axs[3].set_title(\"Erosion\")\n",
        "axs[4].imshow(skeleton_close, cmap='gray')\n",
        "axs[4].set_title(\"Close\")\n",
        "axs[5].imshow(skeleton_close_erode, cmap='gray')\n",
        "axs[5].set_title(\"Erosion Close\")\n",
        "axs[6].imshow(skeleton_blur_close_erode, cmap='gray')\n",
        "axs[6].set_title(\"Blur Close Erosion\")\n",
        "plt.tight_layout()\n",
        "plt.show()\n"
      ],
      "metadata": {
        "colab": {
          "base_uri": "https://localhost:8080/",
          "height": 328
        },
        "id": "qrFhorUi_60R",
        "outputId": "2dad4bde-c89b-42e0-e04e-a4b83bce585b"
      },
      "execution_count": 35,
      "outputs": [
        {
          "output_type": "display_data",
          "data": {
            "text/plain": [
              "<Figure size 1600x400 with 7 Axes>"
            ],
            "image/png": "[encoded data removed]"
          },
          "metadata": {}
        }
      ]
    },
    {
      "cell_type": "code",
      "source": [
        "import cv2\n",
        "import numpy as np\n",
        "import matplotlib.pyplot as plt\n",
        "from skimage.morphology import skeletonize\n",
        "from skimage.util import invert\n",
        "from PIL import Image\n",
        "import cv2.ximgproc as xip\n",
        "\n",
        "from skimage.morphology import medial_axis\n",
        "\n",
        "def thinning_opencv(binary_255):\n",
        "    \"\"\"OpenCV's thinning to 1-pixel skeleton.\"\"\"\n",
        "    return xip.thinning(binary_255)\n",
        "\n",
        "def medial_axis_skeleton(binary):\n",
        "    \"\"\"Medial axis skeleton from skimage.\"\"\"\n",
        "\n",
        "    binary_bool = (binary > 0).astype(bool)\n",
        "    skeleton = medial_axis(binary_bool)\n",
        "    return (skeleton.astype(np.uint8) * 255)\n",
        "\n",
        "def soft_thinning(binary, keep_fraction=0.3):\n",
        "    \"\"\"Soft thinning using distance transform and fraction threshold.\"\"\"\n",
        "\n",
        "\n",
        "    # Distance transform (foreground distance to background)\n",
        "    dist = cv2.distanceTransform(binary, distanceType=cv2.DIST_L2, maskSize=3)\n",
        "\n",
        "    # Normalize distance to [0, 1]\n",
        "    dist_norm = cv2.normalize(dist, None, 0, 1.0, cv2.NORM_MINMAX)\n",
        "\n",
        "\n",
        "    # Keep central area of strokes\n",
        "    _, thinned = cv2.threshold(dist_norm, keep_fraction, 1.0, cv2.THRESH_BINARY)\n",
        "\n",
        "    return (thinned * 255).astype(np.uint8)\n",
        "\n",
        "import cv2\n",
        "import numpy as np\n",
        "\n",
        "def soft_thinning_adapt(binary, keep_fraction=0.3, recombine=True, min_kernel_size=3,skeletonize=False):\n",
        "\n",
        "    \"\"\"\n",
        "    Adaptive soft thinning using distance transform.\n",
        "\n",
        "    Parameters:\n",
        "        binary (np.ndarray): Binary image (uint8, 0 and 255).\n",
        "        keep_fraction (float): Fraction of stroke width to retain (0.01–0.1 typical).\n",
        "        skeletonize (bool): If True, apply Zhang-Suen skeletonization after thinning.\n",
        "        visualize (bool): If True, return intermediate maps for debugging.\n",
        "\n",
        "    Returns:\n",
        "        np.ndarray: Thinned binary image (uint8, 0 and 255).\n",
        "        Optional: dict of intermediate maps if visualize=True\n",
        "    \"\"\"\n",
        "    # Ensure binary is 0 and 1\n",
        "    binary = (binary > 0).astype(np.uint8)\n",
        "\n",
        "    # Step 1: Distance transform (foreground distance to background)\n",
        "    dist = cv2.distanceTransform(binary, distanceType=cv2.DIST_L2, maskSize=3)\n",
        "\n",
        "    # Step 2: Normalize distance to [0, 1]\n",
        "    dist_norm = cv2.normalize(dist, None, 0, 1.0, cv2.NORM_MINMAX)\n",
        "\n",
        "    # Step 3: Threshold to keep central stroke regions\n",
        "    _, thinned = cv2.threshold(dist_norm, keep_fraction, 1.0, cv2.THRESH_BINARY)\n",
        "\n",
        "    # Step 4: Convert to uint8 binary\n",
        "    thinned = (thinned * 255).astype(np.uint8)\n",
        "\n",
        "    # Step 5: Optional skeletonization\n",
        "    if skeletonize:\n",
        "        try:\n",
        "            thinned = cv2.ximgproc.thinning(thinned, thinningType=cv2.ximgproc.THINNING_ZHANGSUEN)\n",
        "        except AttributeError:\n",
        "            raise ImportError(\"cv2.ximgproc.thinning requires OpenCV-contrib modules.\")\n",
        "\n",
        "\n",
        "    return thinned\n",
        "\n",
        "\n",
        "# === Main logic ===\n",
        "\n",
        "# Load image (ensure it's grayscale)\n",
        "img_path = \"/content/drive/MyDrive/seg_chars/p1/p1/RC05225/page_4/c355.png\"  # Replace with your image path\n",
        "img_gray = cv2.imread(img_path, cv2.IMREAD_GRAYSCALE)\n",
        "\n",
        "binary = (img_gray == 0).astype(np.uint8)\n",
        "binary_255 = (img_gray==0).astype(np.uint8)*255\n",
        "\n",
        "# Process using three methods\n",
        "\n",
        "thin_xip     = thinning_opencv(binary_255)\n",
        "thin_medial  = medial_axis_skeleton(binary)\n",
        "thin_soft    = soft_thinning(binary, keep_fraction=0.3)\n",
        "thin_soft_adapt = soft_thinning_adapt(binary, keep_fraction=0.3,skeletonize=True)\n",
        "\n",
        "# Comparison\n",
        "fig, axs = plt.subplots(1, 5, figsize=(20, 5))\n",
        "axs[0].imshow(img_gray, cmap='gray')\n",
        "axs[0].set_title(\"Original Grayscale\")\n",
        "axs[1].imshow(thin_xip, cmap='gray')\n",
        "axs[1].set_title(\"xip.thinning (1-pixel)\")\n",
        "axs[2].imshow(thin_medial, cmap='gray')\n",
        "axs[2].set_title(\"Medial Axis\")\n",
        "axs[3].imshow(thin_soft, cmap='gray')\n",
        "axs[3].set_title(\"Soft Thinning (keep=0.3)\")\n",
        "axs[4].set_title(\"Soft Thinning Adapt (keep=0.3)\")\n",
        "axs[4].imshow(thin_soft_adapt, cmap='gray')\n",
        "\n",
        "for ax in axs:\n",
        "    ax.axis('off')\n",
        "\n",
        "plt.tight_layout()\n",
        "plt.show()"
      ],
      "metadata": {
        "colab": {
          "base_uri": "https://localhost:8080/",
          "height": 407
        },
        "id": "mYMPaOXySwvs",
        "outputId": "cfb8b964-c1e1-4301-fa5e-b6311d4fba54"
      },
      "execution_count": 113,
      "outputs": [
        {
          "output_type": "display_data",
          "data": {
            "text/plain": [
              "<Figure size 2000x500 with 5 Axes>"
            ],
            "image/png": "[encoded data removed]"
          },
          "metadata": {}
        }
      ]
    },
    {
      "cell_type": "code",
      "source": [
        "input_dir = \"/content/drive/MyDrive/samples_segmented_chars/p1_upload\"\n",
        "output_dir = \"/content/drive/MyDrive/samples_segmented_chars/p1_upload_skeletonized\"\n",
        "process_dataset(input_dir, output_dir)"
      ],
      "metadata": {
        "id": "fRy6OeSgYOTd"
      },
      "execution_count": null,
      "outputs": []
    }
  ]
}