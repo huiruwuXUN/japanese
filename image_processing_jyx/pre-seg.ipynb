{
 "cells": [
  {
   "cell_type": "code",
   "execution_count": 35,
   "metadata": {},
   "outputs": [],
   "source": [
    "import cv2\n",
    "import numpy as np\n",
    "import matplotlib.pyplot as plt\n",
    "import os\n",
    "\n",
    "def load_image(image_path):\n",
    "    \"\"\"loads image from image_path\"\"\"\n",
    "    return cv2.imread(image_path, cv2.IMREAD_COLOR)\n",
    "\n",
    "def convert_to_grayscale(image):\n",
    "    \"\"\"converts BGR image to grayscale.\"\"\"\n",
    "    return cv2.cvtColor(image, cv2.COLOR_BGR2GRAY)\n",
    "\n",
    "def apply_gaussian_blur(image, kernel_size=(5, 5)):\n",
    "    \"\"\"applies Gaussian blur\"\"\"\n",
    "    return cv2.GaussianBlur(image, kernel_size, 0)\n",
    "\n",
    "def apply_otsu_thresholding(image):\n",
    "    \"\"\"applies Otsu's thresholding\"\"\"\n",
    "    _, binarized = cv2.threshold(image, 0, 255, cv2.THRESH_BINARY + cv2.THRESH_OTSU)\n",
    "    return binarized\n",
    "\n",
    "def save_image(image, input_path, output_folder):\n",
    "    \"\"\"saves image\"\"\"\n",
    "    filename = os.path.basename(input_path) \n",
    "    output_path = os.path.join(output_folder, filename) \n",
    "    os.makedirs(output_folder, exist_ok=True) \n",
    "    #save without compression\n",
    "    cv2.imwrite(output_path, image, [cv2.IMWRITE_PNG_COMPRESSION, 0])\n",
    "\n",
    "    return output_path \n",
    "\n",
    "def display_images(original, processed, titles=(\"Original\", \"Processed\")):\n",
    "    \"\"\"side by side comparison\"\"\"\n",
    "    plt.figure(figsize=(10, 5))\n",
    "    plt.subplot(1, 2, 1)\n",
    "    plt.imshow(original, cmap='gray')\n",
    "    plt.title(titles[0])\n",
    "    plt.axis(\"off\")\n",
    "\n",
    "    plt.subplot(1, 2, 2)\n",
    "    plt.imshow(processed, cmap='gray')\n",
    "    plt.title(titles[1])\n",
    "    plt.axis(\"off\")\n",
    "\n",
    "    plt.show()\n",
    "\n",
    "def process_all_images(input_root_folder, output_root_folder):\n",
    "    \"\"\"process with all images\"\"\"\n",
    "    for root, _, files in os.walk(input_root_folder):\n",
    "        # determine output directory\n",
    "        relative_path = os.path.relpath(root, input_root_folder)\n",
    "        output_folder = os.path.join(output_root_folder, relative_path)\n",
    "         #ensures the path exists\n",
    "        os.makedirs(output_folder, exist_ok=True) \n",
    "\n",
    "        png_files = [file for file in files if file.lower().endswith(\".png\")]       \n",
    "        if not png_files:\n",
    "            print(f\"No PNG images found in {root}\")\n",
    "            continue\n",
    "        \n",
    "        for file in png_files:\n",
    "            input_image_path = os.path.join(root, file)\n",
    "\n",
    "            # load and process\n",
    "            image = load_image(input_image_path)\n",
    "            gray_image = convert_to_grayscale(image)\n",
    "            blurred_image = apply_gaussian_blur(gray_image)\n",
    "            binarized_image = apply_otsu_thresholding(blurred_image)\n",
    "\n",
    "            save_image(binarized_image, input_image_path, output_folder)\n",
    "           # print(f\"Processed: {input_image_path}\")\n",
    "\n"
   ]
  },
  {
   "cell_type": "code",
   "execution_count": 36,
   "metadata": {},
   "outputs": [
    {
     "name": "stdout",
     "output_type": "stream",
     "text": [
      "No PNG images found in image_processing_jyx\\img1\n",
      "No PNG images found in image_processing_jyx\\img1\\RC04845\n"
     ]
    }
   ],
   "source": [
    "input_folder = \"image_processing_jyx\\\\img1\"  \n",
    "output_folder = \"image_processing_jyx\\\\output1\"\n",
    "process_all_images(input_folder, output_folder)\n",
    "\n",
    "#print(f\"Processing complete. All images saved in: {output_folder}\")"
   ]
  }
 ],
 "metadata": {
  "kernelspec": {
   "display_name": "comp6670",
   "language": "python",
   "name": "python3"
  },
  "language_info": {
   "codemirror_mode": {
    "name": "ipython",
    "version": 3
   },
   "file_extension": ".py",
   "mimetype": "text/x-python",
   "name": "python",
   "nbconvert_exporter": "python",
   "pygments_lexer": "ipython3",
   "version": "3.12.9"
  }
 },
 "nbformat": 4,
 "nbformat_minor": 2
}
