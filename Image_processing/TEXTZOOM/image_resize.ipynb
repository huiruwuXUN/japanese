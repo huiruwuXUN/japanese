{
 "cells": [
  {
   "cell_type": "code",
   "execution_count": 1,
   "id": "e5e72453-e09f-4479-8b7d-dc6dba4d8f2f",
   "metadata": {},
   "outputs": [
    {
     "name": "stdout",
     "output_type": "stream",
     "text": [
      "Resized and saved: resized_images\\1.1.jpg\n",
      "Resized and saved: resized_images\\1.2.jpg\n",
      "Resized and saved: resized_images\\10.1.jpg\n",
      "Resized and saved: resized_images\\10.2.jpg\n",
      "Resized and saved: resized_images\\2.1.jpg\n",
      "Resized and saved: resized_images\\2.2.jpg\n",
      "Resized and saved: resized_images\\3.1.jpg\n",
      "Resized and saved: resized_images\\3.2.jpg\n",
      "Resized and saved: resized_images\\4.1.jpg\n",
      "Resized and saved: resized_images\\4.2.jpg\n",
      "Resized and saved: resized_images\\5.1.jpg\n",
      "Resized and saved: resized_images\\5.2.jpg\n",
      "Resized and saved: resized_images\\6.1.jpg\n",
      "Resized and saved: resized_images\\6.2.jpg\n",
      "Resized and saved: resized_images\\7.1.jpg\n",
      "Resized and saved: resized_images\\7.2.jpg\n",
      "Resized and saved: resized_images\\8.1.jpg\n",
      "Resized and saved: resized_images\\8.2.jpg\n",
      "Resized and saved: resized_images\\9.1.jpg\n",
      "Resized and saved: resized_images\\9.2.jpg\n",
      "Resized and saved: resized_images\\pic1.jpg\n"
     ]
    }
   ],
   "source": [
    "import cv2\n",
    "import os\n",
    "\n",
    "# Input and output folder paths\n",
    "input_folder = 'seg_shadow'\n",
    "output_folder = 'resized_images'\n",
    "\n",
    "# Create the output folder if it doesn't exist\n",
    "if not os.path.exists(output_folder):\n",
    "    os.makedirs(output_folder)\n",
    "\n",
    "# Iterate over each file in the input folder\n",
    "for filename in os.listdir(input_folder):\n",
    "    # Construct the full path to the image\n",
    "    img_path = os.path.join(input_folder, filename)\n",
    "    \n",
    "    # Check if the file is an image (optional, you can adjust based on your needs)\n",
    "    if filename.endswith('.jpg') or filename.endswith('.png'):\n",
    "        # Load the image\n",
    "        img = cv2.imread(img_path)\n",
    "\n",
    "        # Check if image is loaded successfully\n",
    "        if img is not None:\n",
    "            # Resize the image to the expected input size\n",
    "            img_resized = cv2.resize(img, (128, 32))\n",
    "\n",
    "            # Save the resized image to the output folder\n",
    "            output_path = os.path.join(output_folder, filename)\n",
    "            cv2.imwrite(output_path, img_resized)\n",
    "            print(f\"Resized and saved: {output_path}\")\n",
    "        else:\n",
    "            print(f\"Failed to load: {img_path}\")\n"
   ]
  },
  {
   "cell_type": "code",
   "execution_count": null,
   "id": "814f233d-b08f-4755-a434-c4d43ffbad78",
   "metadata": {},
   "outputs": [],
   "source": []
  }
 ],
 "metadata": {
  "kernelspec": {
   "display_name": "Python 3 (ipykernel)",
   "language": "python",
   "name": "python3"
  },
  "language_info": {
   "codemirror_mode": {
    "name": "ipython",
    "version": 3
   },
   "file_extension": ".py",
   "mimetype": "text/x-python",
   "name": "python",
   "nbconvert_exporter": "python",
   "pygments_lexer": "ipython3",
   "version": "3.10.9"
  }
 },
 "nbformat": 4,
 "nbformat_minor": 5
}
