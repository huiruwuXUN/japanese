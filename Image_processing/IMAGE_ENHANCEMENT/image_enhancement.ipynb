{
 "cells": [
  {
   "cell_type": "code",
   "execution_count": 3,
   "id": "2cf5bc7f-b447-41a7-862e-edf81f0854c3",
   "metadata": {},
   "outputs": [
    {
     "name": "stdout",
     "output_type": "stream",
     "text": [
      "Saved enhanced image: C:/Users/vaibh/TextZoom/seg_image_preprocess\\enhanced_high_contrast_image_1.jpg\n",
      "Saved enhanced image: C:/Users/vaibh/TextZoom/seg_image_preprocess\\enhanced_high_contrast_image_2.jpg\n",
      "Saved enhanced image: C:/Users/vaibh/TextZoom/seg_image_preprocess\\enhanced_high_contrast_image_3.jpg\n",
      "Saved enhanced image: C:/Users/vaibh/TextZoom/seg_image_preprocess\\enhanced_high_contrast_image_4.jpg\n",
      "Saved enhanced image: C:/Users/vaibh/TextZoom/seg_image_preprocess\\enhanced_high_contrast_image_5.jpg\n",
      "Saved enhanced image: C:/Users/vaibh/TextZoom/seg_image_preprocess\\enhanced_high_contrast_image_6.jpg\n",
      "Saved enhanced image: C:/Users/vaibh/TextZoom/seg_image_preprocess\\enhanced_high_contrast_image_7.jpg\n",
      "Saved enhanced image: C:/Users/vaibh/TextZoom/seg_image_preprocess\\enhanced_high_contrast_image_8.jpg\n",
      "Saved enhanced image: C:/Users/vaibh/TextZoom/seg_image_preprocess\\enhanced_high_contrast_image_9.jpg\n",
      "Saved enhanced image: C:/Users/vaibh/TextZoom/seg_image_preprocess\\enhanced_high_contrast_image_10.jpg\n",
      "Saved enhanced image: C:/Users/vaibh/TextZoom/seg_image_preprocess\\enhanced_high_contrast_image_11.jpg\n",
      "Saved enhanced image: C:/Users/vaibh/TextZoom/seg_image_preprocess\\enhanced_high_contrast_image_12.jpg\n",
      "Saved enhanced image: C:/Users/vaibh/TextZoom/seg_image_preprocess\\enhanced_high_contrast_image_13.jpg\n",
      "Saved enhanced image: C:/Users/vaibh/TextZoom/seg_image_preprocess\\enhanced_high_contrast_image_14.jpg\n",
      "Saved enhanced image: C:/Users/vaibh/TextZoom/seg_image_preprocess\\enhanced_high_contrast_image_15.jpg\n",
      "Saved enhanced image: C:/Users/vaibh/TextZoom/seg_image_preprocess\\enhanced_high_contrast_image_16.jpg\n",
      "Saved enhanced image: C:/Users/vaibh/TextZoom/seg_image_preprocess\\enhanced_high_contrast_image_17.jpg\n",
      "Saved enhanced image: C:/Users/vaibh/TextZoom/seg_image_preprocess\\enhanced_high_contrast_image_18.jpg\n",
      "Saved enhanced image: C:/Users/vaibh/TextZoom/seg_image_preprocess\\enhanced_high_contrast_image_19.jpg\n",
      "Saved enhanced image: C:/Users/vaibh/TextZoom/seg_image_preprocess\\enhanced_high_contrast_image_20.jpg\n",
      "Saved enhanced image: C:/Users/vaibh/TextZoom/seg_image_preprocess\\enhanced_high_contrast_image_21.jpg\n"
     ]
    }
   ],
   "source": [
    "from PIL import Image, ImageEnhance, ImageFilter\n",
    "import os\n",
    "\n",
    "# Directory where your images are stored. Please change the directory names accordingly.\n",
    "image_dir = \"C:/Users/vaibh/TextZoom/seg_shadow\"\n",
    "# Directory where you want to save the enhanced images. Please change the directory names accordingly.\n",
    "output_dir = \"C:/Users/vaibh/TextZoom/seg_image_preprocess\"\n",
    "\n",
    "# Create the output directory if it doesn't exist\n",
    "if not os.path.exists(output_dir):\n",
    "    os.makedirs(output_dir)\n",
    "\n",
    "# Supported image file extensions\n",
    "supported_extensions = ['.jpg', '.jpeg', '.png', '.bmp', '.tiff']\n",
    "\n",
    "# Get all image file paths in the input directory\n",
    "file_paths = [os.path.join(image_dir, file) for file in os.listdir(image_dir)\n",
    "              if os.path.splitext(file)[1].lower() in supported_extensions]\n",
    "\n",
    "# Enhance the contrast between the characters and the background for better visibility\n",
    "for i, file_path in enumerate(file_paths):\n",
    "    img = Image.open(file_path)\n",
    "    \n",
    "    # Convert to grayscale\n",
    "    img_gray = img.convert('L')\n",
    "    \n",
    "    # Apply contrast enhancement to darken characters and brighten background\n",
    "    contrast_enhancer = ImageEnhance.Contrast(img_gray)\n",
    "    img_high_contrast = contrast_enhancer.enhance(3.0)  # Higher contrast\n",
    "\n",
    "    # Apply sharpness enhancement to make the characters more defined\n",
    "    sharpness_enhancer = ImageEnhance.Sharpness(img_high_contrast)\n",
    "    img_sharpened = sharpness_enhancer.enhance(2.5)\n",
    "    \n",
    "    # Save the enhanced image with a new name in the output directory\n",
    "    output_path = os.path.join(output_dir, os.path.basename(file_path))\n",
    "    img_sharpened.save(output_path)\n",
    "\n",
    "    print(f\"Saved enhanced image: {output_path}\")"
   ]
  },
  {
   "cell_type": "code",
   "execution_count": null,
   "id": "dad4c92c-f7b1-4bbd-b6f4-f74006624bd6",
   "metadata": {},
   "outputs": [],
   "source": []
  }
 ],
 "metadata": {
  "kernelspec": {
   "display_name": "Python 3 (ipykernel)",
   "language": "python",
   "name": "python3"
  },
  "language_info": {
   "codemirror_mode": {
    "name": "ipython",
    "version": 3
   },
   "file_extension": ".py",
   "mimetype": "text/x-python",
   "name": "python",
   "nbconvert_exporter": "python",
   "pygments_lexer": "ipython3",
   "version": "3.10.9"
  }
 },
 "nbformat": 4,
 "nbformat_minor": 5
}
