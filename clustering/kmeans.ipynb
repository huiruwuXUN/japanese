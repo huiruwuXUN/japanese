{
 "cells": [
  {
   "cell_type": "markdown",
   "metadata": {},
   "source": [
    "## K-means"
   ]
  },
  {
   "cell_type": "code",
   "execution_count": 3,
   "metadata": {},
   "outputs": [
    {
     "name": "stdout",
     "output_type": "stream",
     "text": [
      "Requirement already satisfied: numpy in c:\\users\\jinpaiduizhang\\anaconda3\\lib\\site-packages (1.21.6)\n",
      "Requirement already satisfied: matplotlib in c:\\users\\jinpaiduizhang\\anaconda3\\lib\\site-packages (3.1.1)\n",
      "Requirement already satisfied: cycler>=0.10 in c:\\users\\jinpaiduizhang\\anaconda3\\lib\\site-packages (from matplotlib) (0.10.0)\n",
      "Requirement already satisfied: kiwisolver>=1.0.1 in c:\\users\\jinpaiduizhang\\anaconda3\\lib\\site-packages (from matplotlib) (1.1.0)\n",
      "Requirement already satisfied: pyparsing!=2.0.4,!=2.1.2,!=2.1.6,>=2.0.1 in c:\\users\\jinpaiduizhang\\anaconda3\\lib\\site-packages (from matplotlib) (2.4.2)\n",
      "Requirement already satisfied: python-dateutil>=2.1 in c:\\users\\jinpaiduizhang\\anaconda3\\lib\\site-packages (from matplotlib) (2.8.0)\n",
      "Requirement already satisfied: numpy>=1.11 in c:\\users\\jinpaiduizhang\\anaconda3\\lib\\site-packages (from matplotlib) (1.21.6)\n",
      "Requirement already satisfied: six in c:\\users\\jinpaiduizhang\\anaconda3\\lib\\site-packages (from cycler>=0.10->matplotlib) (1.12.0)\n",
      "Requirement already satisfied: setuptools in c:\\users\\jinpaiduizhang\\anaconda3\\lib\\site-packages (from kiwisolver>=1.0.1->matplotlib) (41.4.0)\n"
     ]
    }
   ],
   "source": [
    "import time\n",
    "import sys\n",
    "! pip install numpy\n",
    "import numpy as np\n",
    "! pip install matplotlib\n",
    "import matplotlib.pyplot as plt\n",
    "\n",
    "import math\n",
    "import os\n",
    "from matplotlib.pyplot import imread\n",
    "# from mpl_toolkits.mplot3d import Axes3D #This is for 3d scatter plots.\n",
    "\n",
    "import cv2\n",
    "import functools\n",
    "from sklearn.decomposition import PCA\n"
   ]
  },
  {
   "cell_type": "markdown",
   "metadata": {},
   "source": [
    "\n",
    "These programming exercises will focus on K-means clustering. \n",
    "\n",
    "If you're unsure of how k-means works, read this very helpful and freely available online breakdown from Stanford's CS221 course; https://stanford.edu/~cpiech/cs221/handouts/kmeans.html\n"
   ]
  },
  {
   "cell_type": "code",
   "execution_count": 5,
   "metadata": {},
   "outputs": [
    {
     "data": {
      "text/plain": [
       "array([255, 255, 255, ..., 255, 255, 255], dtype=uint8)"
      ]
     },
     "execution_count": 5,
     "metadata": {},
     "output_type": "execute_result"
    }
   ],
   "source": [
    "train_images = []\n",
    "path = \"../output\"\n",
    "for file in os.listdir(path):\n",
    "    if file.endswith(\".jpg\"):\n",
    "        im = cv2.imread(path + \"/\" + file)\n",
    "        y = list(im.ravel())\n",
    "        y = np.array(y)\n",
    "        #im =imread(path + \"/\" + file)\n",
    "        train_images.append(y)\n",
    "# plt.imshow(train_images[0])  #not using since it is 1D array\n",
    "# plt.show()\n",
    "train_images[0]"
   ]
  },
  {
   "cell_type": "code",
   "execution_count": 6,
   "metadata": {},
   "outputs": [
    {
     "data": {
      "text/plain": [
       "PCA(copy=True, iterated_power='auto', n_components=496, random_state=2023,\n",
       "    svd_solver='auto', tol=0.0, whiten=False)"
      ]
     },
     "execution_count": 6,
     "metadata": {},
     "output_type": "execute_result"
    }
   ],
   "source": [
    "#X = np.load(\"./data.npy\")\n",
    "X = np.array(train_images)\n",
    "m,n = X.shape\n",
    "pca = PCA(n_components = min(m,n),random_state=2023)\n",
    "Y = X.T\n",
    "pca.fit(X)\n",
    "\n",
    "\n",
    "# k=4"
   ]
  },
  {
   "cell_type": "code",
   "execution_count": 7,
   "metadata": {},
   "outputs": [
    {
     "name": "stdout",
     "output_type": "stream",
     "text": [
      "(496, 496)\n"
     ]
    }
   ],
   "source": [
    "X_pca = pca.transform(X)\n",
    "print(X_pca.shape)\n",
    "X= X_pca"
   ]
  },
  {
   "cell_type": "markdown",
   "metadata": {},
   "source": [
    "\n",
    "K-means is a special, simple case of the Expectation Maximisation (EM) algorithm.\n",
    "\n",
    "This simplified EM (k-means), is divided into two steps.\n",
    "\n",
    "The **E-Step**, where for every sample in your dataset you find which \"centroid\" that datapoint is closest to that sample, and record that information.\n",
    "\n",
    "The **M-Step**, where you move each \"centroid\" to the center of the samples which were found to be closest to it in the **E-Step**.\n",
    "\n",
    "Each *centroid* is simply an estimated mean of a cluster. If you have $1$ centroid, then this centroid will become the mean of all your data.\n",
    "\n",
    "Centroids are initially random values, and the k-means algorithm attempts to modify them so that each one represents the center of a cluster.\n",
    "\n",
    "We have implemented a centroids initialization function."
   ]
  },
  {
   "cell_type": "code",
   "execution_count": 8,
   "metadata": {},
   "outputs": [],
   "source": [
    "from random import sample\n",
    "def initialise_parameters(m, X):\n",
    "    C = sample(list(X), k=m)\n",
    "    return np.array(C)\n",
    "\n",
    "# C = initialise_parameters(4, X)\n",
    "# print(C)\n"
   ]
  },
  {
   "cell_type": "markdown",
   "metadata": {},
   "source": [
    "\n",
    "\n",
    "---\n",
    "   **1.1:** $E\\_step(C, X) = L$, where $L$ is a matrix of the same dimension of the dataset $X$.\n",
    "   \n",
    "   This function is is the **E-Step** \n",
    "\n",
    "---"
   ]
  },
  {
   "cell_type": "code",
   "execution_count": 9,
   "metadata": {},
   "outputs": [],
   "source": [
    "def distance(centre,sample):\n",
    "    return(math.sqrt(np.sum((centre-sample)**2)))\n",
    "#     return(math.sqrt((centre[0]-sample[0])**2+(centre[1]-sample[1])**2))\n",
    "def E_step(C, X):\n",
    "    L = np.zeros(X.shape)\n",
    "    for i in range(0, X.shape[0]):\n",
    "        ags = np.argmin(np.linalg.norm(C - X[i], axis = 1))\n",
    "        L[i] = C[ags]\n",
    "    return L\n",
    "# L = E_step(C, X)/\n",
    "\n",
    "# fig = plt.figure(figsize=(16, 10))\n",
    "# ax = fig.add_subplot(111, projection='3d')\n",
    "# ax.scatter(L[:, 0], L[:, 1],L[:,2\"])\n",
    "# plt.show()\n",
    "# print(L)"
   ]
  },
  {
   "cell_type": "markdown",
   "metadata": {},
   "source": [
    "**TASK 1.2:** Create a function $M\\_step(C, X, L) = C$ which returns $C$ modified so that each centroid in $C$ is placed in the middle of the samples assigned to it. This is the **M-Step**.\n",
    "\n",
    "In other words, make each centroid in $C$ the average of all the samples which were found to be closest to it during the **E-step**. This is also called the \"update step\" for K-means.\n",
    "\n",
    "---\n",
    "\n",
    "**HINT:** https://docs.scipy.org/doc/numpy/reference/generated/numpy.array_equal.html"
   ]
  },
  {
   "cell_type": "code",
   "execution_count": 10,
   "metadata": {},
   "outputs": [],
   "source": [
    "def M_step(C, X, L):\n",
    "    new_C = np.zeros(C.shape)\n",
    "    for i in range(0, C.shape[0]):\n",
    "        centroid = C[i]\n",
    "        count = np.count_nonzero(np.all(L == centroid, axis = 1))\n",
    "        new_C[i] = np.sum(X[np.all(L == C[i], axis = 1)], axis = 0) / count\n",
    "    return new_C\n",
    "\n",
    "# print('Before:')\n",
    "# print(C)\n",
    "# print('\\nAfter:')\n",
    "# new_C = M_step(C, X, L)\n",
    "# print(new_C)"
   ]
  },
  {
   "cell_type": "markdown",
   "metadata": {},
   "source": [
    "Implement $kmeans(X, m, threshold) = C, L$ which takes a dataset $X$ (of any dimension) and a scalar value $m$ and a scalar $threshold$ as input. "
   ]
  },
  {
   "cell_type": "code",
   "execution_count": 11,
   "metadata": {},
   "outputs": [
    {
     "name": "stdout",
     "output_type": "stream",
     "text": [
      "Done\n"
     ]
    }
   ],
   "source": [
    "\n",
    "def kmeans(X, m, threshold):\n",
    "    L = np.zeros(X.shape)\n",
    "    C = initialise_parameters(m, X)\n",
    "    diff = float('inf')\n",
    "    loss_prev = float('inf')\n",
    "    while diff > threshold:\n",
    "        L = E_step(C, X)\n",
    "        loss_cur = np.sum((np.linalg.norm(X - L, axis=1)**2))\n",
    "        diff = abs(loss_prev - loss_cur)\n",
    "        loss_prev = loss_cur\n",
    "        C = M_step(C, X, L)\n",
    "    # due to the fact that we pair the data point and cluster centroid\n",
    "    # by the value in L match the value in C, we need to do E_step one more time\n",
    "    L = E_step(C, X)\n",
    "    return C, L\n",
    "\n",
    "# C_final, L_final = kmeans(X, k, 1e-6)\n",
    "\n",
    "print('Done')\n",
    "# print(C_final)\n",
    "def allocator(X, L, c):\n",
    "    cluster = []\n",
    "    for i in range(L.shape[0]):\n",
    "        if np.array_equal(L[i, :], c):\n",
    "            cluster.append(X[i, :])\n",
    "    return np.asarray(cluster)\n"
   ]
  },
  {
   "cell_type": "code",
   "execution_count": 12,
   "metadata": {},
   "outputs": [],
   "source": [
    "def evaluation(X, L_final, C_final):\n",
    "    length = 0\n",
    "    total_distance = 0 #evaluation\n",
    "    density = 0\n",
    "    for i in range(k):\n",
    "        cluster = allocator(X, L_final, C_final[i, :])\n",
    "#         print(\"the \"+str(i)+\" cluster is: \"+str(cluster[:,i]))\n",
    "        length += len(cluster)\n",
    "        for d in range(cluster.shape[0]):\n",
    "            total_distance += distance(C_final[i,:],cluster[d,:])\n",
    "        density += total_distance/len(cluster)\n",
    "    density = total_distance/k\n",
    "    return length,total_distance,density\n",
    "# length,total_distance = evaluation(X, L_final, C_final)\n",
    "# print(\"sum \"+str(length))\n",
    "# print(\"The distance is \"+ str(total_distance))"
   ]
  },
  {
   "cell_type": "code",
   "execution_count": 13,
   "metadata": {},
   "outputs": [
    {
     "name": "stdout",
     "output_type": "stream",
     "text": [
      "1 2 3 4 5 6 7 8 9 10 11 12 13 14 15 16 17 18 19 20 21 22 23 24 25 26 27 28 29 30 31 32 33 34 35 36 37 38 39 40 41 42 43 44 45 46 47 48 49 "
     ]
    },
    {
     "data": {
      "image/png": "[encoded data removed]",
      "text/plain": [
       "<Figure size 1152x720 with 1 Axes>"
      ]
     },
     "metadata": {
      "needs_background": "light"
     },
     "output_type": "display_data"
    },
    {
     "data": {
      "image/png": "[encoded data removed]",
      "text/plain": [
       "<Figure size 1152x720 with 1 Axes>"
      ]
     },
     "metadata": {
      "needs_background": "light"
     },
     "output_type": "display_data"
    }
   ],
   "source": [
    "xaxis = []\n",
    "yaxis = []\n",
    "densityaxis = []\n",
    "wrongtimes = 0\n",
    "for i in range(1,50):\n",
    "    xaxis.append(i)\n",
    "    k = i\n",
    "    C_final, L_final = kmeans(X, k, 1e-6)\n",
    "    length,total_distance,density = evaluation(X, L_final, C_final)\n",
    "    yaxis.append(total_distance)\n",
    "    densityaxis.append(density)\n",
    "    print(k,end = \" \")\n",
    "    if(length!=X.shape[0]):\n",
    "        print(\"Error, when i = \"+str(i)+\" the clusters start overlapping: \"+str(length))\n",
    "        wrongtimes += 1\n",
    "    else:\n",
    "        wrongtimes = 0\n",
    "    \n",
    "    if(wrongtimes>=5):\n",
    "        break\n",
    "        \n",
    "fig = plt.figure(figsize=(16, 10))\n",
    "plt.plot(xaxis,yaxis)\n",
    "plt.xlabel(\"Number of potential cluster\")\n",
    "plt.ylabel(\"Sum of distance from each dot to centrial.\")\n",
    "plt.show()\n",
    "fig = plt.figure(figsize=(16, 10))\n",
    "plt.plot(xaxis,densityaxis)\n",
    "plt.xlabel(\"Number of potential cluster\")\n",
    "plt.ylabel(\"sparseness\")\n",
    "plt.show()"
   ]
  },
  {
   "cell_type": "code",
   "execution_count": 14,
   "metadata": {},
   "outputs": [],
   "source": [
    "import pandas as pd\n",
    "darray = np.array(densityaxis) # start at cluster 1\n",
    "outcome = np.zeros(darray.shape[0]-1) \n",
    "for i in range(outcome.shape[0]): #start at cluster 2\n",
    "    outcome[i] = (darray[i+1] - darray[i])/darray[i]\n",
    "outcome = outcome.tolist()"
   ]
  },
  {
   "cell_type": "code",
   "execution_count": 15,
   "metadata": {},
   "outputs": [
    {
     "data": {
      "text/plain": [
       "[<matplotlib.lines.Line2D at 0x200807917c8>]"
      ]
     },
     "execution_count": 15,
     "metadata": {},
     "output_type": "execute_result"
    },
    {
     "data": {
      "image/png": "[encoded data removed]",
      "text/plain": [
       "<Figure size 432x288 with 1 Axes>"
      ]
     },
     "metadata": {
      "needs_background": "light"
     },
     "output_type": "display_data"
    }
   ],
   "source": [
    "plt.plot(xaxis[1:],outcome)"
   ]
  },
  {
   "cell_type": "code",
   "execution_count": 63,
   "metadata": {},
   "outputs": [
    {
     "name": "stdout",
     "output_type": "stream",
     "text": [
      "clusters: \n",
      "[array([ 21,  22,  23, 123, 124, 125, 126, 185, 230, 231, 264, 267, 294,\n",
      "        312, 313, 314, 315, 326, 327, 328, 329, 351, 352, 353, 354, 355,\n",
      "        362, 364, 368, 369, 370, 371, 378, 379, 380, 381, 385, 386, 387,\n",
      "        388, 394, 396, 397, 398, 399, 400, 402, 406, 407, 408, 410, 411,\n",
      "        412, 413, 414, 418, 430, 431, 432, 433, 447, 461, 473, 488])\n",
      " array([ 13,  14,  42,  56, 135, 150, 163, 245, 246, 289, 292, 310, 434,\n",
      "        435, 449, 451, 479])\n",
      " array([  0,   3,   4,   5,   6,   8,  16,  31,  83,  94, 120, 141, 144,\n",
      "        152, 153, 158, 208, 228, 229, 234, 235, 238, 284, 296, 304, 311,\n",
      "        319, 320, 323, 324, 325, 330, 331, 333, 339, 340, 342, 343, 344,\n",
      "        357, 358, 361, 367, 374, 375, 376, 377, 382, 390, 405, 416, 417,\n",
      "        436, 453, 459, 463, 465, 467, 469])\n",
      " array([  2,   9,  10,  11,  12,  15,  24,  25,  26,  27,  36,  37,  38,\n",
      "         39,  47,  48,  49,  50,  58,  59,  60,  61,  76,  77,  78,  79,\n",
      "         87,  88,  89,  90, 108, 109, 110, 111, 130, 131, 132, 133, 147,\n",
      "        148, 149, 151, 154, 155, 156, 157, 164, 165, 166, 167, 172, 173,\n",
      "        174, 175, 178, 179, 180, 181, 182, 183, 191, 192, 193, 194, 204,\n",
      "        205, 206, 207, 224, 225, 226, 227, 239, 240, 241, 242, 244, 287,\n",
      "        337, 338, 444, 445, 446, 476, 480, 481])\n",
      " array([ 20,  67,  70,  71,  72,  73,  74,  82,  85,  86,  95, 100, 101,\n",
      "        102, 103, 104, 105, 114, 115, 116, 117, 118, 119, 127, 128, 138,\n",
      "        139, 140, 142, 145, 168, 169, 170, 171, 176, 177, 196, 197, 199,\n",
      "        217, 218, 253, 254, 278, 281, 317, 318, 332, 349, 360, 383, 437,\n",
      "        438, 450, 458, 483, 484, 485, 490, 494])\n",
      " array([ 28,  29,  51,  52,  62,  63,  64,  65,  68,  69,  84, 106, 107,\n",
      "        161, 202, 203, 209, 210, 236, 237, 243, 271, 276, 277, 285, 286,\n",
      "        288, 297, 335, 363, 428, 482, 493])\n",
      " array([  1,  34,  35,  40,  41,  43,  44,  53,  75, 188, 259, 295, 321,\n",
      "        322, 334, 336, 389, 401, 404, 442, 464, 470, 486, 487, 489, 495])\n",
      " array([ 54,  55,  57, 137, 162, 184, 186, 290, 291, 307, 308, 309, 345,\n",
      "        346, 347, 348, 359, 393, 448])\n",
      " array([  7,  17,  18,  19,  30,  32,  33,  45,  46,  66,  80,  81,  91,\n",
      "         92,  93,  96,  97,  98,  99, 112, 113, 121, 122, 129, 134, 136,\n",
      "        143, 159, 160, 187, 189, 190, 195, 198, 200, 201, 211, 212, 213,\n",
      "        214, 215, 216, 219, 220, 221, 222, 223, 232, 233, 251, 252, 265,\n",
      "        266, 268, 269, 270, 279, 280, 282, 283, 293, 298, 299, 300, 301,\n",
      "        302, 303, 305, 306, 316, 341, 350, 356, 365, 366, 372, 373, 384,\n",
      "        391, 392, 395, 403, 409, 415, 419, 429, 439, 440, 441, 443, 452,\n",
      "        460, 462, 466, 468, 471, 472, 474, 475, 491, 492])\n",
      " array([146, 247, 248, 249, 250, 255, 256, 257, 258, 260, 261, 262, 263,\n",
      "        272, 273, 274, 275, 420, 421, 422, 423, 424, 425, 426, 427, 454,\n",
      "        455, 456, 457, 477, 478])                                       ]\n"
     ]
    },
    {
     "name": "stderr",
     "output_type": "stream",
     "text": [
      "C:\\Users\\jinpaiduizhang\\Anaconda3\\lib\\site-packages\\ipykernel_launcher.py:24: VisibleDeprecationWarning: Creating an ndarray from ragged nested sequences (which is a list-or-tuple of lists-or-tuples-or ndarrays with different lengths or shapes) is deprecated. If you meant to do this, you must specify 'dtype=object' when creating the ndarray.\n"
     ]
    }
   ],
   "source": [
    "# one time cluster\n",
    "\n",
    "\n",
    "k=10 # Use this to see the cluster circumstance in specific cluster number\n",
    "\n",
    "\n",
    "\n",
    "C_f, L_f = kmeans(X, k, 1e-6)\n",
    "total_img = []\n",
    "def allocator2(X,L, c):\n",
    "    cluster = []\n",
    "    idlist = []\n",
    "    for i in range(L.shape[0]):\n",
    "        if np.array_equal(L[i, :], c):\n",
    "            cluster.append(X[i, :])\n",
    "            idlist.append(i)\n",
    "    return idlist\n",
    "for i in range(k):\n",
    "#     print(\"In cluster: \"+str(i))\n",
    "    idlist = allocator2(X,L_f,C_f[i, :])\n",
    "#     print(idlist)\n",
    "    total_img.append(np.array(idlist))\n",
    "    \n",
    "total_img = np.array(total_img)\n",
    "\n",
    "# index of images\n",
    "print(\"clusters: \")\n",
    "print(total_img)"
   ]
  },
  {
   "cell_type": "code",
   "execution_count": 62,
   "metadata": {},
   "outputs": [
    {
     "name": "stdout",
     "output_type": "stream",
     "text": [
      "J03.jpg\n",
      "J100-4.jpg\n",
      "J107-1.jpg\n",
      "J107-3.jpg\n",
      "J113-4.jpg\n",
      "J118-1.jpg\n",
      "J118-3.jpg\n",
      "J121-1.jpg\n",
      "J121-4.jpg\n",
      "J130-1.jpg\n",
      "J130-2.jpg\n",
      "J147-1.jpg\n",
      "J147-2.jpg\n",
      "J147-3.jpg\n",
      "J147-4.jpg\n",
      "J155-1.jpg\n",
      "J155-4.jpg\n",
      "J163-2.jpg\n",
      "J163-3.jpg\n",
      "J168-1.jpg\n",
      "J168-2.jpg\n",
      "J168-3.jpg\n",
      "J168-4.jpg\n",
      "J172-1.jpg\n",
      "J172-3.jpg\n",
      "J172-4.jpg\n",
      "J175-2.jpg\n",
      "J175-4.jpg\n",
      "J177-1.jpg\n",
      "J178-1.jpg\n",
      "J178-3.jpg\n",
      "J178-4.jpg\n",
      "J181-1.jpg\n",
      "J181-2.jpg\n",
      "J256-1.jpg\n",
      "J256-2.jpg\n"
     ]
    }
   ],
   "source": [
    "\n",
    "def showimg(x): #show one image\n",
    "    i = 0 # file 0 is a directory created by ipynb.\n",
    "    for file in os.listdir(path):\n",
    "        if file.endswith(\".jpg\"):\n",
    "            if(x == i): \n",
    "                im = cv2.imread(path + \"/\" +file)\n",
    "                print(str(file))\n",
    "                break\n",
    "            else:\n",
    "                i += 1\n",
    "    return im\n",
    "def see_a_cluster(total_img, x):\n",
    "    for i in total_img[x]:\n",
    "        showimg(i)\n",
    "\n",
    "# see the first cluster    \n",
    "see_a_cluster(total_img,0) #(0 is index of cluster, change it to see different cluster)\n"
   ]
  }
 ],
 "metadata": {
  "kernelspec": {
   "display_name": "Python 3",
   "language": "python",
   "name": "python3"
  },
  "language_info": {
   "codemirror_mode": {
    "name": "ipython",
    "version": 3
   },
   "file_extension": ".py",
   "mimetype": "text/x-python",
   "name": "python",
   "nbconvert_exporter": "python",
   "pygments_lexer": "ipython3",
   "version": "3.7.4"
  }
 },
 "nbformat": 4,
 "nbformat_minor": 4
}
