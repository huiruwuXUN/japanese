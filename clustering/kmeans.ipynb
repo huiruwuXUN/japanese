{
 "cells": [
  {
   "cell_type": "markdown",
   "metadata": {},
   "source": [
    "## K-means"
   ]
  },
  {
   "cell_type": "code",
   "execution_count": 1,
   "metadata": {},
   "outputs": [
    {
     "name": "stdout",
     "output_type": "stream",
     "text": [
      "Requirement already satisfied: numpy in c:\\users\\jinpaiduizhang\\anaconda3\\lib\\site-packages (1.21.6)\n",
      "Requirement already satisfied: matplotlib in c:\\users\\jinpaiduizhang\\anaconda3\\lib\\site-packages (3.1.1)\n",
      "Requirement already satisfied: cycler>=0.10 in c:\\users\\jinpaiduizhang\\anaconda3\\lib\\site-packages (from matplotlib) (0.10.0)\n",
      "Requirement already satisfied: kiwisolver>=1.0.1 in c:\\users\\jinpaiduizhang\\anaconda3\\lib\\site-packages (from matplotlib) (1.1.0)\n",
      "Requirement already satisfied: pyparsing!=2.0.4,!=2.1.2,!=2.1.6,>=2.0.1 in c:\\users\\jinpaiduizhang\\anaconda3\\lib\\site-packages (from matplotlib) (2.4.2)\n",
      "Requirement already satisfied: python-dateutil>=2.1 in c:\\users\\jinpaiduizhang\\anaconda3\\lib\\site-packages (from matplotlib) (2.8.0)\n",
      "Requirement already satisfied: numpy>=1.11 in c:\\users\\jinpaiduizhang\\anaconda3\\lib\\site-packages (from matplotlib) (1.21.6)\n",
      "Requirement already satisfied: six in c:\\users\\jinpaiduizhang\\anaconda3\\lib\\site-packages (from cycler>=0.10->matplotlib) (1.12.0)\n",
      "Requirement already satisfied: setuptools in c:\\users\\jinpaiduizhang\\anaconda3\\lib\\site-packages (from kiwisolver>=1.0.1->matplotlib) (41.4.0)\n",
      "Requirement already satisfied: patchify in c:\\users\\jinpaiduizhang\\anaconda3\\lib\\site-packages (0.2.3)\n",
      "Requirement already satisfied: numpy<2,>=1 in c:\\users\\jinpaiduizhang\\anaconda3\\lib\\site-packages (from patchify) (1.21.6)\n",
      "Requirement already satisfied: torchvision in c:\\users\\jinpaiduizhang\\anaconda3\\lib\\site-packages (0.14.1)\n",
      "Requirement already satisfied: typing-extensions in c:\\users\\jinpaiduizhang\\anaconda3\\lib\\site-packages (from torchvision) (4.5.0)\n",
      "Requirement already satisfied: numpy in c:\\users\\jinpaiduizhang\\anaconda3\\lib\\site-packages (from torchvision) (1.21.6)\n",
      "Requirement already satisfied: requests in c:\\users\\jinpaiduizhang\\anaconda3\\lib\\site-packages (from torchvision) (2.22.0)\n",
      "Requirement already satisfied: torch==1.13.1 in c:\\users\\jinpaiduizhang\\anaconda3\\lib\\site-packages (from torchvision) (1.13.1)\n",
      "Requirement already satisfied: pillow!=8.3.*,>=5.3.0 in c:\\users\\jinpaiduizhang\\anaconda3\\lib\\site-packages (from torchvision) (6.2.0)\n",
      "Requirement already satisfied: chardet<3.1.0,>=3.0.2 in c:\\users\\jinpaiduizhang\\anaconda3\\lib\\site-packages (from requests->torchvision) (3.0.4)\n",
      "Requirement already satisfied: idna<2.9,>=2.5 in c:\\users\\jinpaiduizhang\\anaconda3\\lib\\site-packages (from requests->torchvision) (2.8)\n",
      "Requirement already satisfied: urllib3!=1.25.0,!=1.25.1,<1.26,>=1.21.1 in c:\\users\\jinpaiduizhang\\anaconda3\\lib\\site-packages (from requests->torchvision) (1.24.2)\n",
      "Requirement already satisfied: certifi>=2017.4.17 in c:\\users\\jinpaiduizhang\\anaconda3\\lib\\site-packages (from requests->torchvision) (2019.9.11)\n"
     ]
    }
   ],
   "source": [
    "import time\n",
    "import sys\n",
    "! pip install numpy\n",
    "import numpy as np\n",
    "! pip install matplotlib\n",
    "import matplotlib.pyplot as plt\n",
    "\n",
    "import math\n",
    "import os\n",
    "from matplotlib.pyplot import imread\n",
    "! pip install patchify\n",
    "from patchify import patchify\n",
    "\n",
    "from mpl_toolkits.mplot3d import Axes3D #This is for 3d scatter plots.\n",
    "import random\n",
    "random.seed(1)\n",
    "import cv2\n",
    "import functools\n",
    "import os\n",
    "! pip install torchvision\n",
    "import torchvision.models as models\n",
    "import torchvision.transforms as transforms\n",
    "from PIL import Image, ImageOps\n",
    "from matplotlib import pyplot as plt\n",
    "from torch import nn\n"
   ]
  },
  {
   "cell_type": "markdown",
   "metadata": {},
   "source": [
    "\n",
    "These programming exercises will focus on K-means clustering. \n",
    "\n",
    "If you're unsure of how k-means works, read this very helpful and freely available online breakdown from Stanford's CS221 course; https://stanford.edu/~cpiech/cs221/handouts/kmeans.html\n"
   ]
  },
  {
   "cell_type": "code",
   "execution_count": 2,
   "metadata": {},
   "outputs": [
    {
     "name": "stderr",
     "output_type": "stream",
     "text": [
      "C:\\Users\\jinpaiduizhang\\Anaconda3\\lib\\site-packages\\sklearn\\linear_model\\least_angle.py:30: DeprecationWarning: `np.float` is a deprecated alias for the builtin `float`. To silence this warning, use `float` by itself. Doing this will not modify any behavior and is safe. If you specifically wanted the numpy scalar type, use `np.float64` here.\n",
      "Deprecated in NumPy 1.20; for more details and guidance: https://numpy.org/devdocs/release/1.20.0-notes.html#deprecations\n",
      "  method='lar', copy_X=True, eps=np.finfo(np.float).eps,\n",
      "C:\\Users\\jinpaiduizhang\\Anaconda3\\lib\\site-packages\\sklearn\\linear_model\\least_angle.py:167: DeprecationWarning: `np.float` is a deprecated alias for the builtin `float`. To silence this warning, use `float` by itself. Doing this will not modify any behavior and is safe. If you specifically wanted the numpy scalar type, use `np.float64` here.\n",
      "Deprecated in NumPy 1.20; for more details and guidance: https://numpy.org/devdocs/release/1.20.0-notes.html#deprecations\n",
      "  method='lar', copy_X=True, eps=np.finfo(np.float).eps,\n",
      "C:\\Users\\jinpaiduizhang\\Anaconda3\\lib\\site-packages\\sklearn\\linear_model\\least_angle.py:284: DeprecationWarning: `np.float` is a deprecated alias for the builtin `float`. To silence this warning, use `float` by itself. Doing this will not modify any behavior and is safe. If you specifically wanted the numpy scalar type, use `np.float64` here.\n",
      "Deprecated in NumPy 1.20; for more details and guidance: https://numpy.org/devdocs/release/1.20.0-notes.html#deprecations\n",
      "  eps=np.finfo(np.float).eps, copy_Gram=True, verbose=0,\n",
      "C:\\Users\\jinpaiduizhang\\Anaconda3\\lib\\site-packages\\sklearn\\linear_model\\least_angle.py:862: DeprecationWarning: `np.float` is a deprecated alias for the builtin `float`. To silence this warning, use `float` by itself. Doing this will not modify any behavior and is safe. If you specifically wanted the numpy scalar type, use `np.float64` here.\n",
      "Deprecated in NumPy 1.20; for more details and guidance: https://numpy.org/devdocs/release/1.20.0-notes.html#deprecations\n",
      "  eps=np.finfo(np.float).eps, copy_X=True, fit_path=True,\n",
      "C:\\Users\\jinpaiduizhang\\Anaconda3\\lib\\site-packages\\sklearn\\linear_model\\least_angle.py:1101: DeprecationWarning: `np.float` is a deprecated alias for the builtin `float`. To silence this warning, use `float` by itself. Doing this will not modify any behavior and is safe. If you specifically wanted the numpy scalar type, use `np.float64` here.\n",
      "Deprecated in NumPy 1.20; for more details and guidance: https://numpy.org/devdocs/release/1.20.0-notes.html#deprecations\n",
      "  eps=np.finfo(np.float).eps, copy_X=True, fit_path=True,\n",
      "C:\\Users\\jinpaiduizhang\\Anaconda3\\lib\\site-packages\\sklearn\\linear_model\\least_angle.py:1127: DeprecationWarning: `np.float` is a deprecated alias for the builtin `float`. To silence this warning, use `float` by itself. Doing this will not modify any behavior and is safe. If you specifically wanted the numpy scalar type, use `np.float64` here.\n",
      "Deprecated in NumPy 1.20; for more details and guidance: https://numpy.org/devdocs/release/1.20.0-notes.html#deprecations\n",
      "  eps=np.finfo(np.float).eps, positive=False):\n",
      "C:\\Users\\jinpaiduizhang\\Anaconda3\\lib\\site-packages\\sklearn\\linear_model\\least_angle.py:1362: DeprecationWarning: `np.float` is a deprecated alias for the builtin `float`. To silence this warning, use `float` by itself. Doing this will not modify any behavior and is safe. If you specifically wanted the numpy scalar type, use `np.float64` here.\n",
      "Deprecated in NumPy 1.20; for more details and guidance: https://numpy.org/devdocs/release/1.20.0-notes.html#deprecations\n",
      "  max_n_alphas=1000, n_jobs=None, eps=np.finfo(np.float).eps,\n",
      "C:\\Users\\jinpaiduizhang\\Anaconda3\\lib\\site-packages\\sklearn\\linear_model\\least_angle.py:1602: DeprecationWarning: `np.float` is a deprecated alias for the builtin `float`. To silence this warning, use `float` by itself. Doing this will not modify any behavior and is safe. If you specifically wanted the numpy scalar type, use `np.float64` here.\n",
      "Deprecated in NumPy 1.20; for more details and guidance: https://numpy.org/devdocs/release/1.20.0-notes.html#deprecations\n",
      "  max_n_alphas=1000, n_jobs=None, eps=np.finfo(np.float).eps,\n",
      "C:\\Users\\jinpaiduizhang\\Anaconda3\\lib\\site-packages\\sklearn\\linear_model\\least_angle.py:1738: DeprecationWarning: `np.float` is a deprecated alias for the builtin `float`. To silence this warning, use `float` by itself. Doing this will not modify any behavior and is safe. If you specifically wanted the numpy scalar type, use `np.float64` here.\n",
      "Deprecated in NumPy 1.20; for more details and guidance: https://numpy.org/devdocs/release/1.20.0-notes.html#deprecations\n",
      "  eps=np.finfo(np.float).eps, copy_X=True, positive=False):\n",
      "C:\\Users\\jinpaiduizhang\\Anaconda3\\lib\\site-packages\\sklearn\\decomposition\\online_lda.py:29: DeprecationWarning: `np.float` is a deprecated alias for the builtin `float`. To silence this warning, use `float` by itself. Doing this will not modify any behavior and is safe. If you specifically wanted the numpy scalar type, use `np.float64` here.\n",
      "Deprecated in NumPy 1.20; for more details and guidance: https://numpy.org/devdocs/release/1.20.0-notes.html#deprecations\n",
      "  EPS = np.finfo(np.float).eps\n"
     ]
    },
    {
     "data": {
      "text/plain": [
       "array([255, 255, 255, ..., 255, 255, 255], dtype=uint8)"
      ]
     },
     "execution_count": 2,
     "metadata": {},
     "output_type": "execute_result"
    }
   ],
   "source": [
    "from sklearn.decomposition import PCA\n",
    "import os\n",
    "from matplotlib.pyplot import imread\n",
    "train_images = []\n",
    "path = \"../output\"\n",
    "for file in os.listdir(path):\n",
    "    if file.endswith(\".jpg\"):\n",
    "        im = cv2.imread(path + \"/\" + file)\n",
    "        y = list(im.ravel())\n",
    "        y = np.array(y)\n",
    "        #im =imread(path + \"/\" + file)\n",
    "        train_images.append(y)\n",
    "# plt.imshow(train_images[0])  #not using since it is 1D array\n",
    "# plt.show()\n",
    "train_images[0]"
   ]
  },
  {
   "cell_type": "code",
   "execution_count": 3,
   "metadata": {},
   "outputs": [
    {
     "data": {
      "text/plain": [
       "PCA(copy=True, iterated_power='auto', n_components=496, random_state=2023,\n",
       "    svd_solver='auto', tol=0.0, whiten=False)"
      ]
     },
     "execution_count": 3,
     "metadata": {},
     "output_type": "execute_result"
    }
   ],
   "source": [
    "#X = np.load(\"./data.npy\")\n",
    "X = np.array(train_images)\n",
    "m,n = X.shape\n",
    "pca = PCA(n_components = min(m,n),random_state=2023)\n",
    "Y = X.T\n",
    "pca.fit(X)\n",
    "\n",
    "# k=4"
   ]
  },
  {
   "cell_type": "code",
   "execution_count": 4,
   "metadata": {},
   "outputs": [
    {
     "name": "stdout",
     "output_type": "stream",
     "text": [
      "(496, 496)\n"
     ]
    }
   ],
   "source": [
    "X_pca = pca.transform(X)\n",
    "print(X_pca.shape)\n",
    "X= X_pca"
   ]
  },
  {
   "cell_type": "markdown",
   "metadata": {},
   "source": [
    "\n",
    "K-means is a special, simple case of the Expectation Maximisation (EM) algorithm.\n",
    "\n",
    "This simplified EM (k-means), is divided into two steps.\n",
    "\n",
    "The **E-Step**, where for every sample in your dataset you find which \"centroid\" that datapoint is closest to that sample, and record that information.\n",
    "\n",
    "The **M-Step**, where you move each \"centroid\" to the center of the samples which were found to be closest to it in the **E-Step**.\n",
    "\n",
    "Each *centroid* is simply an estimated mean of a cluster. If you have $1$ centroid, then this centroid will become the mean of all your data.\n",
    "\n",
    "Centroids are initially random values, and the k-means algorithm attempts to modify them so that each one represents the center of a cluster.\n",
    "\n",
    "We have implemented a centroids initialization function."
   ]
  },
  {
   "cell_type": "code",
   "execution_count": 5,
   "metadata": {},
   "outputs": [],
   "source": [
    "from random import sample\n",
    "def initialise_parameters(m, X):\n",
    "    C = sample(list(X), k=m)\n",
    "    return np.array(C)\n",
    "\n",
    "# C = initialise_parameters(4, X)\n",
    "# print(C)\n"
   ]
  },
  {
   "cell_type": "markdown",
   "metadata": {},
   "source": [
    "\n",
    "\n",
    "---\n",
    "   **1.1:** $E\\_step(C, X) = L$, where $L$ is a matrix of the same dimension of the dataset $X$.\n",
    "   \n",
    "   This function is is the **E-Step** \n",
    "\n",
    "---"
   ]
  },
  {
   "cell_type": "code",
   "execution_count": 6,
   "metadata": {},
   "outputs": [],
   "source": [
    "def distance(centre,sample):\n",
    "    return(math.sqrt(np.sum((centre-sample)**2)))\n",
    "#     return(math.sqrt((centre[0]-sample[0])**2+(centre[1]-sample[1])**2))\n",
    "def E_step(C, X):\n",
    "    L = np.zeros(X.shape)\n",
    "    for i in range(0, X.shape[0]):\n",
    "        ags = np.argmin(np.linalg.norm(C - X[i], axis = 1))\n",
    "        L[i] = C[ags]\n",
    "    return L\n",
    "# L = E_step(C, X)/\n",
    "\n",
    "# fig = plt.figure(figsize=(16, 10))\n",
    "# ax = fig.add_subplot(111, projection='3d')\n",
    "# ax.scatter(L[:, 0], L[:, 1],L[:,2\"])\n",
    "# plt.show()\n",
    "# print(L)"
   ]
  },
  {
   "cell_type": "markdown",
   "metadata": {},
   "source": [
    "**TASK 1.2:** Create a function $M\\_step(C, X, L) = C$ which returns $C$ modified so that each centroid in $C$ is placed in the middle of the samples assigned to it. This is the **M-Step**.\n",
    "\n",
    "In other words, make each centroid in $C$ the average of all the samples which were found to be closest to it during the **E-step**. This is also called the \"update step\" for K-means.\n",
    "\n",
    "---\n",
    "\n",
    "**HINT:** https://docs.scipy.org/doc/numpy/reference/generated/numpy.array_equal.html"
   ]
  },
  {
   "cell_type": "code",
   "execution_count": 7,
   "metadata": {},
   "outputs": [],
   "source": [
    "def M_step(C, X, L):\n",
    "    new_C = np.zeros(C.shape)\n",
    "    for i in range(0, C.shape[0]):\n",
    "        centroid = C[i]\n",
    "        count = np.count_nonzero(np.all(L == centroid, axis = 1))\n",
    "        new_C[i] = np.sum(X[np.all(L == C[i], axis = 1)], axis = 0) / count\n",
    "    return new_C\n",
    "\n",
    "# print('Before:')\n",
    "# print(C)\n",
    "# print('\\nAfter:')\n",
    "# new_C = M_step(C, X, L)\n",
    "# print(new_C)"
   ]
  },
  {
   "cell_type": "markdown",
   "metadata": {},
   "source": [
    "Implement $kmeans(X, m, threshold) = C, L$ which takes a dataset $X$ (of any dimension) and a scalar value $m$ and a scalar $threshold$ as input. "
   ]
  },
  {
   "cell_type": "code",
   "execution_count": 8,
   "metadata": {},
   "outputs": [
    {
     "name": "stdout",
     "output_type": "stream",
     "text": [
      "\n",
      "Final Parameters:\n"
     ]
    }
   ],
   "source": [
    "\n",
    "def kmeans(X, m, threshold):\n",
    "    L = np.zeros(X.shape)\n",
    "    C = initialise_parameters(m, X)\n",
    "    diff = float('inf')\n",
    "    loss_prev = float('inf')\n",
    "    while diff > threshold:\n",
    "        L = E_step(C, X)\n",
    "        loss_cur = np.sum((np.linalg.norm(X - L, axis=1)**2))\n",
    "        diff = abs(loss_prev - loss_cur)\n",
    "        loss_prev = loss_cur\n",
    "        C = M_step(C, X, L)\n",
    "    # due to the fact that we pair the data point and cluster centroid\n",
    "    # by the value in L match the value in C, we need to do E_step one more time\n",
    "    L = E_step(C, X)\n",
    "    return C, L\n",
    "\n",
    "# C_final, L_final = kmeans(X, k, 1e-6)\n",
    "\n",
    "print('\\nFinal Parameters:')\n",
    "# print(C_final)\n",
    "def allocator(X, L, c):\n",
    "    cluster = []\n",
    "    for i in range(L.shape[0]):\n",
    "        if np.array_equal(L[i, :], c):\n",
    "            cluster.append(X[i, :])\n",
    "    return np.asarray(cluster)\n"
   ]
  },
  {
   "cell_type": "code",
   "execution_count": 9,
   "metadata": {},
   "outputs": [],
   "source": [
    "def evaluation(X, L_final, C_final):\n",
    "    length = 0\n",
    "    total_distance = 0 #evaluation\n",
    "    for i in range(k):\n",
    "        cluster = allocator(X, L_final, C_final[i, :])\n",
    "#         print(\"the \"+str(i)+\" cluster is: \"+str(cluster[:,i]))\n",
    "        length += len(cluster)\n",
    "        for d in range(cluster.shape[0]):\n",
    "            total_distance += distance(C_final[i,:],cluster[d,:])\n",
    "    \n",
    "    return length,total_distance\n",
    "# length,total_distance = evaluation(X, L_final, C_final)\n",
    "# print(\"sum \"+str(length))\n",
    "# print(\"The distance is \"+ str(total_distance))"
   ]
  },
  {
   "cell_type": "code",
   "execution_count": 15,
   "metadata": {},
   "outputs": [
    {
     "name": "stdout",
     "output_type": "stream",
     "text": [
      "8 when cluster = 8evaluation outcome is: 11144254.572216941\n",
      "9 when cluster = 9evaluation outcome is: 10897883.668272763\n",
      "10 when cluster = 10evaluation outcome is: 10940706.660851035\n",
      "11 when cluster = 11evaluation outcome is: 10782062.50632595\n",
      "12 when cluster = 12evaluation outcome is: 10655511.898069628\n",
      "13 when cluster = 13evaluation outcome is: 10588273.766482065\n",
      "14 when cluster = 14evaluation outcome is: 10425028.15065911\n",
      "15 when cluster = 15evaluation outcome is: 10566368.616669348\n",
      "16 when cluster = 16evaluation outcome is: 10324153.739490025\n",
      "17 when cluster = 17evaluation outcome is: 10312526.643050965\n",
      "18 when cluster = 18evaluation outcome is: 10265343.519583318\n",
      "19 when cluster = 19evaluation outcome is: 10020790.539341489\n"
     ]
    },
    {
     "data": {
      "image/png": "[encoded data removed]",
      "text/plain": [
       "<Figure size 1152x720 with 1 Axes>"
      ]
     },
     "metadata": {
      "needs_background": "light"
     },
     "output_type": "display_data"
    }
   ],
   "source": [
    "xaxis = []\n",
    "yaxis = []\n",
    "wrongtimes = 0\n",
    "for i in range(8,20):\n",
    "    xaxis.append(i)\n",
    "    k = i\n",
    "    C_final, L_final = kmeans(X, k, 1e-6)\n",
    "    length,total_distance = evaluation(X, L_final, C_final)\n",
    "    yaxis.append(total_distance)\n",
    "    print(k,end = \" \")\n",
    "    if(length!=X.shape[0]):\n",
    "        print(\"Error, when i = \"+str(i)+\" the clusters start overlapping: \"+str(length))\n",
    "        wrongtimes += 1\n",
    "    else:\n",
    "        print(\"when cluster = \"+str(k)+ \"evaluation outcome is: \"+str(total_distance))\n",
    "        wrongtimes = 0\n",
    "    \n",
    "    if(wrongtimes>=5):\n",
    "        break\n",
    "        \n",
    "fig = plt.figure(figsize=(16, 10))\n",
    "plt.plot(xaxis,yaxis)\n",
    "plt.show()"
   ]
  },
  {
   "cell_type": "code",
   "execution_count": 13,
   "metadata": {},
   "outputs": [
    {
     "data": {
      "text/plain": [
       "[13919534.645874582,\n",
       " 13142963.037445504,\n",
       " 12371424.027790403,\n",
       " 12134316.425108725,\n",
       " 12060524.967911735,\n",
       " 11328955.563477516,\n",
       " 11191475.785520628,\n",
       " 10994184.736310164,\n",
       " 10871694.265812716,\n",
       " 10789263.676105438,\n",
       " 10576513.16412319,\n",
       " 10525746.195083572,\n",
       " 10333200.441340882,\n",
       " 10358272.861433754,\n",
       " 10648045.69741975,\n",
       " 10436494.845371531,\n",
       " 10243836.557645874,\n",
       " 10145287.160824101,\n",
       " 10216822.740370922,\n",
       " 9989471.946566893]"
      ]
     },
     "execution_count": 13,
     "metadata": {},
     "output_type": "execute_result"
    }
   ],
   "source": [
    "yaxis[:20]"
   ]
  }
 ],
 "metadata": {
  "kernelspec": {
   "display_name": "Python 3",
   "language": "python",
   "name": "python3"
  },
  "language_info": {
   "codemirror_mode": {
    "name": "ipython",
    "version": 3
   },
   "file_extension": ".py",
   "mimetype": "text/x-python",
   "name": "python",
   "nbconvert_exporter": "python",
   "pygments_lexer": "ipython3",
   "version": "3.7.4"
  }
 },
 "nbformat": 4,
 "nbformat_minor": 4
}
