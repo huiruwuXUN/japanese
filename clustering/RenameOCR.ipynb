{
 "cells": [
  {
   "cell_type": "code",
   "execution_count": 15,
   "id": "4490f611-0076-4548-8d1e-395efb60b2d9",
   "metadata": {
    "collapsed": true,
    "jupyter": {
     "outputs_hidden": true
    },
    "tags": []
   },
   "outputs": [
    {
     "name": "stdout",
     "output_type": "stream",
     "text": [
      "Error: [WinError 123] 文件名、目录名或卷标语法不正确。: '../../pilot data/data\\\\B\\\\B_1_33.jpg' -> '../../pilot data/data\\\\B\\\\*__B_1_33.jpg.jpg'. Skipping B_1_33.jpg\n",
      "Error: [WinError 3] 系统找不到指定的路径。: '../../pilot data/data\\\\B\\\\B_1_43.jpg' -> '../../pilot data/data\\\\B\\\\11/__B_1_43.jpg.jpg'. Skipping B_1_43.jpg\n",
      "Error: [WinError 123] 文件名、目录名或卷标语法不正确。: '../../pilot data/data\\\\B\\\\B_4_154.jpg' -> '../../pilot data/data\\\\B\\\\\"__B_4_154.jpg.jpg'. Skipping B_4_154.jpg\n",
      "Error: [WinError 123] 文件名、目录名或卷标语法不正确。: '../../pilot data/data\\\\C\\\\C_3_0.jpg' -> '../../pilot data/data\\\\C\\\\1?་__C_3_0.jpg.jpg'. Skipping C_3_0.jpg\n",
      "Error: [WinError 123] 文件名、目录名或卷标语法不正确。: '../../pilot data/data\\\\Denvour\\\\53.jpg' -> '../../pilot data/data\\\\Denvour\\\\\"__53.jpg.jpg'. Skipping 53.jpg\n",
      "Error: [WinError 123] 文件名、目录名或卷标语法不正确。: '../../pilot data/data\\\\Grant\\\\43.jpg' -> '../../pilot data/data\\\\Grant\\\\|-__43.jpg.jpg'. Skipping 43.jpg\n"
     ]
    }
   ],
   "source": [
    "import os\n",
    "import pandas as pd\n",
    "\n",
    "def rename_images_with_excel_mapping(excel_file, image_folder):\n",
    "    # Read the Excel file\n",
    "    mapping_df = pd.read_excel(excel_file)\n",
    "    \n",
    "    # Iterate through each row in the Excel file\n",
    "    for index, row in mapping_df.iterrows():\n",
    "        folder_name = row[0]\n",
    "        current_name = row[1]\n",
    "        new_name = row[2]\n",
    "        \n",
    "        # Get the full path of the folder containing images\n",
    "        folder_path = os.path.join(image_folder, folder_name)\n",
    "        \n",
    "        # Check if the folder exists\n",
    "        if os.path.exists(folder_path):\n",
    "            # Traverse through files in the folder\n",
    "            for file in os.listdir(folder_path):\n",
    "                if file == current_name:\n",
    "                    # Get the full path of the current image file\n",
    "                    current_file_path = os.path.join(folder_path, file)\n",
    "                    \n",
    "                    # Construct the new file name with an index and ensure it ends with '.jpg'\n",
    "                    _, ext = os.path.splitext(file)\n",
    "                    new_file_name = f\"{new_name}__{current_name}.jpg\"\n",
    "                    \n",
    "                    # Construct the new file path with the replaced name\n",
    "                    new_file_path = os.path.join(folder_path, new_file_name)\n",
    "                    \n",
    "                    try:\n",
    "                        # Rename the image file\n",
    "                        os.rename(current_file_path, new_file_path)\n",
    "                        \n",
    "                    except Exception as e:\n",
    "                        print(f\"Error: {e}. Skipping {current_name}\")\n",
    "                    break  # Break once the file is renamed to avoid unnecessary iterations\n",
    "        else:\n",
    "            print(f\"Folder {folder_name} not found in the specified image folder.\")\n",
    "\n",
    "\n",
    "if __name__ == \"__main__\":\n",
    "    # Specify the paths to the Excel file and the image folder\n",
    "    excel_file = '../pilotdata_output.xlsx'  # Change this to your Excel file name\n",
    "    image_folder = '../../pilot data/data'  # Change this to your image folder\n",
    "    \n",
    "    # Call the function to rename images\n",
    "    rename_images_with_excel_mapping(excel_file, image_folder)\n"
   ]
  },
  {
   "cell_type": "code",
   "execution_count": 19,
   "id": "f3b32e55-ce33-4550-8eb4-d077f0928096",
   "metadata": {
    "tags": []
   },
   "outputs": [
    {
     "name": "stdout",
     "output_type": "stream",
     "text": [
      "accuracy: 0.5636363636363637\n"
     ]
    }
   ],
   "source": [
    "print(f'accuracy: {1-240/550}')"
   ]
  }
 ],
 "metadata": {
  "kernelspec": {
   "display_name": "Python 3 (ipykernel)",
   "language": "python",
   "name": "python3"
  },
  "language_info": {
   "codemirror_mode": {
    "name": "ipython",
    "version": 3
   },
   "file_extension": ".py",
   "mimetype": "text/x-python",
   "name": "python",
   "nbconvert_exporter": "python",
   "pygments_lexer": "ipython3",
   "version": "3.11.5"
  }
 },
 "nbformat": 4,
 "nbformat_minor": 5
}
