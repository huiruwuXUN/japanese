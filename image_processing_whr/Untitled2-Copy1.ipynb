{
 "cells": [
  {
   "cell_type": "code",
   "execution_count": null,
   "id": "25839cbb-8c45-4157-8f9e-2a737786a16b",
   "metadata": {},
   "outputs": [],
   "source": [
    "from PIL import Image\n",
    "import matplotlib.pyplot as plt\n",
    "import os\n",
    "import cv2\n",
    "import numpy as np\n",
    "from PIL import Image\n",
    "import matplotlib.pyplot as plt\n",
    "\n",
    "#Step 1: Load the original image\n",
    "image_path = \"/mnt/data/page_1(1).png\"\n",
    "image = Image.open(image_path)\n",
    "width, height = image.size\n",
    "\n",
    "#Step 2: Display the original image with horizontal and vertical axis annotations (every 100 pixels)\n",
    "fig, ax = plt.subplots(figsize=(10, 15))\n",
    "ax.imshow(image)\n",
    "\n",
    "#Set to display a grid line every 100 pixels\n",
    "x_ticks = list(range(0, width + 1, 100))\n",
    "y_ticks = list(range(0, height + 1, 100))\n",
    "ax.set_xticks(x_ticks)\n",
    "ax.set_yticks(y_ticks)\n",
    "ax.grid(True, which='both', linestyle='--', linewidth=0.5)\n",
    "plt.title(Image pixel coordinate annotation (every 100 pixels))\n",
    "plt.show()"
   ]
  },
  {
   "cell_type": "code",
   "execution_count": null,
   "id": "68d8cd34-a117-4f1b-9bb2-22f10f99da67",
   "metadata": {},
   "outputs": [],
   "source": [
    "#Step 3: Manually determined boundary line position (from observation results)\n",
    "cut1=720 # End of Part 1\n",
    "cut2=1300 # End of Part 2"
   ]
  },
  {
   "cell_type": "code",
   "execution_count": null,
   "id": "634ff141-4806-4664-9b03-6040ff6f1c34",
   "metadata": {},
   "outputs": [],
   "source": [
    "#Step 4: Perform cutting\n",
    "part1 = image.crop((0, 0, width, cut1))\n",
    "part2 = image.crop((0, cut1, width, cut2))\n",
    "part3 = image.crop((0, cut2, width, height))\n",
    "\n",
    "#Step 5: Save the cut image\n",
    "part1_path = \"/mnt/data/page_1_part1_final.png\"\n",
    "part2_path = \"/mnt/data/page_1_part2_final.png\"\n",
    "part3_path = \"/mnt/data/page_1_part3_final.png\"\n",
    "\n",
    "part1.save(part1_path)\n",
    "part2.save(part2_path)\n",
    "part3.save(part3_path)\n",
    "\n",
    "#Output path for download or further use\n",
    "print(\"Cutting completed:\")\n",
    "print(\"Part 1:\", part1_path)\n",
    "print(\"Part 2:\", part2_path)\n",
    "print(\"Part 3:\", part3_path)"
   ]
  },
  {
   "cell_type": "code",
   "execution_count": null,
   "id": "0c4720ac-852f-44a5-9116-72a2c63526cf",
   "metadata": {},
   "outputs": [],
   "source": [
    "#Tool functions: Display images and annotate coordinate axes\n",
    "def show_image_with_grid(image, title):\n",
    "    width, height = image.size\n",
    "    fig, ax = plt.subplots(figsize=(10, 10))\n",
    "    ax.imshow(image)\n",
    "    ax.set_xticks(range(0, width + 1, 100))\n",
    "    ax.set_yticks(range(0, height + 1, 100))\n",
    "    ax.grid(True, linestyle='--', linewidth=0.5)\n",
    "    ax.set_title(title)\n",
    "    plt.show()\n",
    "\n",
    "#Display three images and add coordinate axis annotations\n",
    "show_image_with_grid (Part 1, \"Part 1 (Horizontal Cutting)\")\n",
    "show_image_with_grid (Part 2, \"Part 2 (Horizontal Cutting)\")\n",
    "show_image_with_grid (Part 3, \"Part 3 (Horizontal Cutting)\")\n"
   ]
  }
 ],
 "metadata": {
  "kernelspec": {
   "display_name": "Python 3 (ipykernel)",
   "language": "python",
   "name": "python3"
  },
  "language_info": {
   "codemirror_mode": {
    "name": "ipython",
    "version": 3
   },
   "file_extension": ".py",
   "mimetype": "text/x-python",
   "name": "python",
   "nbconvert_exporter": "python",
   "pygments_lexer": "ipython3",
   "version": "3.11.5"
  }
 },
 "nbformat": 4,
 "nbformat_minor": 5
}
