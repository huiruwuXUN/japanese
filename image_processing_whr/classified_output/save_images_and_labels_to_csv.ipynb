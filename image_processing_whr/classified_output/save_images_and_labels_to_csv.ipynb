{
 "cells": [
  {
   "cell_type": "code",
   "execution_count": null,
   "id": "e50f4f9f",
   "metadata": {},
   "outputs": [],
   "source": [
    "import os\n",
    "import pandas as pd\n",
    "\n",
    "def save_images_and_labels_to_csv(base_folder, csv_path='all_images_with_label.csv'):\n",
    "    \"\"\"\n",
    "    递归遍历base_folder下所有图片，自动识别label，输出csv\n",
    "    \"\"\"\n",
    "    results = []\n",
    "    for root, dirs, files in os.walk(base_folder):\n",
    "        for fname in files:\n",
    "            if fname.lower().endswith('.png'):\n",
    "                rel_path = os.path.relpath(os.path.join(root, fname), base_folder)\n",
    "                # 假定label为第一层子文件夹名\n",
    "                parts = rel_path.split(os.sep)\n",
    "                label = parts[0] if len(parts) > 1 else ''\n",
    "                results.append([rel_path.replace('\\\\', '/'), label])\n",
    "    df = pd.DataFrame(results, columns=['filename', 'label'])\n",
    "    df.to_csv(csv_path, index=False)\n",
    "    print(f\"已将 {len(results)} 个图片及标签保存到 {csv_path}\")\n",
    "\n",
    "# 用法举例\n",
    "save_images_and_labels_to_csv('classified_output', 'all_images_with_label.csv')\n"
   ]
  }
 ],
 "metadata": {
  "language_info": {
   "name": "python"
  }
 },
 "nbformat": 4,
 "nbformat_minor": 5
}
