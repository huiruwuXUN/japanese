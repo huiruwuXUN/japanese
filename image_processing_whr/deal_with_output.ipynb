{
 "cells": [
  {
   "cell_type": "code",
   "execution_count": 1,
   "id": "96e28369",
   "metadata": {},
   "outputs": [],
   "source": [
    "import pandas as pd\n",
    "\n",
    "def update_label_in_csv(csv_path, idx, new_label):\n",
    "    \"\"\"\n",
    "    将csv中 filename 为 page_1\\\\c{idx}.png 的 label 改为 new_label\n",
    "\n",
    "    :param csv_path: CSV文件路径\n",
    "    :param idx: 编号（如2，对应 page_1\\c2.png）\n",
    "    :param new_label: 要更改的新label，如 'kanji' 或 'non_kanji'\n",
    "    \"\"\"\n",
    "    # 读取 csv 文件\n",
    "    df = pd.read_csv(csv_path, sep='\\t', header=None, names=['filename', 'label'])\n",
    "\n",
    "    # 构造文件名\n",
    "    target_filename = f'page_1\\\\c{idx}.png'\n",
    "\n",
    "    # 查找对应的行并修改 label\n",
    "    mask = df['filename'] == target_filename\n",
    "    if mask.any():\n",
    "        df.loc[mask, 'label'] = new_label\n",
    "        print(f\"已将 {target_filename} 的 label 改为 {new_label}\")\n",
    "    else:\n",
    "        print(f\"没有找到 {target_filename} 这一行。\")\n",
    "\n",
    "    # 保存修改后的 csv，覆盖原文件\n",
    "    df.to_csv(csv_path, sep='\\t', header=False, index=False)\n",
    "\n"
   ]
  },
  {
   "cell_type": "code",
   "execution_count": null,
   "id": "2b06d618",
   "metadata": {},
   "outputs": [],
   "source": [
    "\n",
    "# # 例子：把 page_1\\c2.png 的 label 改为 non_kanji\n",
    "# csv_file = 'page_1.csv'\n",
    "# update_label_in_csv(csv_file, 2, 'non_kanji')"
   ]
  }
 ],
 "metadata": {
  "kernelspec": {
   "display_name": "Python (myenv)",
   "language": "python",
   "name": "myenv"
  },
  "language_info": {
   "codemirror_mode": {
    "name": "ipython",
    "version": 3
   },
   "file_extension": ".py",
   "mimetype": "text/x-python",
   "name": "python",
   "nbconvert_exporter": "python",
   "pygments_lexer": "ipython3",
   "version": "3.11.5"
  }
 },
 "nbformat": 4,
 "nbformat_minor": 5
}
