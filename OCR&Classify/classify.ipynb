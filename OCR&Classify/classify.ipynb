{
 "cells": [
  {
   "cell_type": "code",
   "execution_count": null,
   "id": "7b90c35e",
   "metadata": {},
   "outputs": [
    {
     "name": "stdout",
     "output_type": "stream",
     "text": [
      "分类完成！结果保存在: output_classified\n"
     ]
    }
   ],
   "source": [
    "import os\n",
    "import json\n",
    "import shutil\n",
    "import re\n",
    "\n",
    "def is_kanji(char):\n",
    "    \"\"\"Check if a character is a Japanese Kanji (Chinese character)\"\"\"\n",
    "    return bool(re.fullmatch(r'[\\u4e00-\\u9faf\\u3400-\\u4dbf]', char))\n",
    "\n",
    "def classify_kanji(input_root, output_root):\n",
    "    \"\"\"\n",
    "    Classify characters into Kanji and non-Kanji based on JSON files\n",
    "    :param input_root: Root directory containing JSON files (original structure)\n",
    "    :param output_root: Root directory for classified output\n",
    "    \"\"\"\n",
    "    for root, dirs, files in os.walk(input_root):\n",
    "        for filename in files:\n",
    "            if filename.endswith('.json'):\n",
    "                json_path = os.path.join(root, filename)\n",
    "                \n",
    "                # Read JSON file\n",
    "                with open(json_path, 'r', encoding='utf-8') as f:\n",
    "                    try:\n",
    "                        data = json.load(f)\n",
    "                        char = data.get('character', '').strip()\n",
    "                    except json.JSONDecodeError:\n",
    "                        print(f\"Invalid JSON file: {json_path}\")\n",
    "                        continue\n",
    "\n",
    "                if not char:\n",
    "                    print(f\"Empty character or invalid data: {json_path}\")\n",
    "                    continue\n",
    "\n",
    "                # Determine classification\n",
    "                category = 'kanji' if is_kanji(char) else 'no_kanji'\n",
    "                \n",
    "                # Build output path (preserve original structure, add category folder)\n",
    "                relative_path = os.path.relpath(root, input_root)\n",
    "                output_dir = os.path.join(output_root, relative_path, category)\n",
    "                os.makedirs(output_dir, exist_ok=True)\n",
    "\n",
    "                # Copy JSON file to corresponding category folder\n",
    "                output_path = os.path.join(output_dir, filename)\n",
    "                shutil.copy2(json_path, output_path)\n",
    "\n",
    "                # Optional: Copy corresponding image file (assuming same name, different extension)\n",
    "                img_extensions = ['.png', '.jpg', '.jpeg']\n",
    "                for ext in img_extensions:\n",
    "                    img_path = json_path.replace('.json', ext)\n",
    "                    if os.path.exists(img_path):\n",
    "                        shutil.copy2(img_path, output_path.replace('.json', ext))\n",
    "\n",
    "    print(\"Classification complete! Results saved in:\", output_root)\n",
    "\n",
    "# Usage example\n",
    "input_root = \"path/to/your/json_files\"  # Replace with your JSON root directory\n",
    "output_root = \"path/to/output_classified\"  # Replace with output directory\n",
    "classify_kanji(input_root, output_root)"
   ]
  }
 ],
 "metadata": {
  "kernelspec": {
   "display_name": "base",
   "language": "python",
   "name": "python3"
  },
  "language_info": {
   "codemirror_mode": {
    "name": "ipython",
    "version": 3
   },
   "file_extension": ".py",
   "mimetype": "text/x-python",
   "name": "python",
   "nbconvert_exporter": "python",
   "pygments_lexer": "ipython3",
   "version": "3.12.3"
  }
 },
 "nbformat": 4,
 "nbformat_minor": 5
}
