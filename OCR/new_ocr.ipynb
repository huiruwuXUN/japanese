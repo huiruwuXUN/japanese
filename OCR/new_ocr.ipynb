{
 "cells": [
  {
   "cell_type": "code",
   "execution_count": 2,
   "id": "f71a4f63-5b55-4235-9631-0c402505f490",
   "metadata": {
    "tags": []
   },
   "outputs": [],
   "source": [
    "from google.cloud import vision\n",
    "from google.oauth2 import service_account\n",
    "\n",
    "# Specify the path to your credentials.json file\n",
    "credentials_path = '../../credentials.json'\n",
    "\n",
    "# Create a credentials object\n",
    "credentials = service_account.Credentials.from_service_account_file(credentials_path)\n",
    "\n",
    "# Instantiate the ImageAnnotatorClient\n",
    "client = vision.ImageAnnotatorClient(credentials=credentials)\n"
   ]
  },
  {
   "cell_type": "code",
   "execution_count": 14,
   "id": "ba69062b-8dea-414a-bf18-86d8b90e0f35",
   "metadata": {
    "tags": []
   },
   "outputs": [
    {
     "name": "stdout",
     "output_type": "stream",
     "text": [
      "\n",
      "Block confidence: 0.7055476903915405\n",
      "\n",
      "Paragraph confidence: 0.7055476903915405\n",
      "Word text: 100 (confidence: 0.7055476903915405)\n",
      "\tSymbol: 1 (confidence: 0.6134715676307678)\n",
      "\tSymbol: 0 (confidence: 0.6245896816253662)\n",
      "\tSymbol: 0 (confidence: 0.8785817623138428)\n",
      "next\n",
      "\n",
      "Block confidence: 0.987746000289917\n",
      "\n",
      "Paragraph confidence: 0.987746000289917\n",
      "Word text: 豫 (confidence: 0.987746000289917)\n",
      "\tSymbol: 豫 (confidence: 0.987746000289917)\n",
      "next\n",
      "done\n"
     ]
    }
   ],
   "source": [
    "def detect_document(path):\n",
    "    \"\"\"Detects document features in an image.\"\"\"\n",
    "    from google.cloud import vision\n",
    "\n",
    "    client = vision.ImageAnnotatorClient(credentials=credentials)\n",
    "\n",
    "    with open(path, \"rb\") as image_file:\n",
    "        content = image_file.read()\n",
    "\n",
    "    image = vision.Image(content=content)\n",
    "\n",
    "    response = client.document_text_detection(image=image)\n",
    "\n",
    "    for page in response.full_text_annotation.pages:\n",
    "        for block in page.blocks:\n",
    "            print(f\"\\nBlock confidence: {block.confidence}\\n\")\n",
    "\n",
    "            for paragraph in block.paragraphs:\n",
    "                print(\"Paragraph confidence: {}\".format(paragraph.confidence))\n",
    "\n",
    "                for word in paragraph.words:\n",
    "                    word_text = \"\".join([symbol.text for symbol in word.symbols])\n",
    "                    print(\n",
    "                        \"Word text: {} (confidence: {})\".format(\n",
    "                            word_text, word.confidence\n",
    "                        )\n",
    "                    )\n",
    "                    \n",
    "                    for symbol in word.symbols:\n",
    "                        print(\n",
    "                            \"\\tSymbol: {} (confidence: {})\".format(\n",
    "                                symbol.text, symbol.confidence\n",
    "                            )\n",
    "                        )\n",
    "                print(\"next\")\n",
    "\n",
    "    if response.error.message:\n",
    "        raise Exception(\n",
    "            \"{}\\nFor more info on error messages, check: \"\n",
    "            \"https://cloud.google.com/apis/design/errors\".format(response.error.message)\n",
    "        )\n"
   ]
  },
  {
   "cell_type": "code",
   "execution_count": 15,
   "id": "e06ca489-32c6-4107-87bb-183ac6947973",
   "metadata": {
    "tags": []
   },
   "outputs": [],
   "source": [
    "import os"
   ]
  },
  {
   "cell_type": "code",
   "execution_count": 17,
   "id": "55007d97-5440-4fc6-b7e2-034a25ad577b",
   "metadata": {},
   "outputs": [
    {
     "name": "stdout",
     "output_type": "stream",
     "text": [
      "\n",
      "Block confidence: 0.9947631359100342\n",
      "\n",
      "Paragraph confidence: 0.9947631359100342\n",
      "Word text: 敢 (confidence: 0.9947631359100342)\n",
      "\tSymbol: 敢 (confidence: 0.9947631359100342)\n",
      "next\n",
      "done\n",
      "done\n",
      "done\n",
      "done\n",
      "done\n",
      "done\n",
      "\n",
      "Block confidence: 0.7055476903915405\n",
      "\n",
      "Paragraph confidence: 0.7055476903915405\n",
      "Word text: 100 (confidence: 0.7055476903915405)\n",
      "\tSymbol: 1 (confidence: 0.6134715676307678)\n",
      "\tSymbol: 0 (confidence: 0.6245896816253662)\n",
      "\tSymbol: 0 (confidence: 0.8785817623138428)\n",
      "next\n",
      "\n",
      "Block confidence: 0.987746000289917\n",
      "\n",
      "Paragraph confidence: 0.987746000289917\n",
      "Word text: 豫 (confidence: 0.987746000289917)\n",
      "\tSymbol: 豫 (confidence: 0.987746000289917)\n",
      "next\n",
      "done\n",
      "\n",
      "Block confidence: 0.6754751801490784\n",
      "\n",
      "Paragraph confidence: 0.6754751801490784\n",
      "Word text: - (confidence: 0.6754751801490784)\n",
      "\tSymbol: - (confidence: 0.6754751801490784)\n",
      "next\n",
      "done\n"
     ]
    }
   ],
   "source": [
    "dirpath = \"testocr/\"\n",
    "for i in os.listdir(dirpath):\n",
    "    \n",
    "    detect_document(dirpath +i)\n",
    "    print(\"done\")"
   ]
  },
  {
   "cell_type": "code",
   "execution_count": null,
   "id": "f9b431ca-b5b3-4524-a677-448475b8e50e",
   "metadata": {},
   "outputs": [],
   "source": []
  }
 ],
 "metadata": {
  "kernelspec": {
   "display_name": "Python 3 (ipykernel)",
   "language": "python",
   "name": "python3"
  },
  "language_info": {
   "codemirror_mode": {
    "name": "ipython",
    "version": 3
   },
   "file_extension": ".py",
   "mimetype": "text/x-python",
   "name": "python",
   "nbconvert_exporter": "python",
   "pygments_lexer": "ipython3",
   "version": "3.11.5"
  }
 },
 "nbformat": 4,
 "nbformat_minor": 5
}
