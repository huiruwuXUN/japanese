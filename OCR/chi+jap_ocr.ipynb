{
 "cells": [
  {
   "cell_type": "code",
   "execution_count": 50,
   "id": "46339b2d-916f-467b-b5ed-804f990e1fc0",
   "metadata": {
    "tags": []
   },
   "outputs": [],
   "source": [
    "from transformers import AutoTokenizer, VisionEncoderDecoderModel\n",
    "\n",
    "tokenizer = AutoTokenizer.from_pretrained(\"kha-white/manga-ocr-base\")\n",
    "model = VisionEncoderDecoderModel.from_pretrained(\"kha-white/manga-ocr-base\")\n",
    "\n",
    "#Jap OCR"
   ]
  },
  {
   "cell_type": "code",
   "execution_count": 51,
   "id": "2654d96e-7a02-4785-b8ff-d424dff440da",
   "metadata": {},
   "outputs": [
    {
     "name": "stdout",
     "output_type": "stream",
     "text": [
      "CUDA: False\n",
      "PaddlePaddle device: cpu\n"
     ]
    }
   ],
   "source": [
    "import paddle\n",
    "\n",
    "print(\"CUDA:\", paddle.device.is_compiled_with_cuda())\n",
    "print(\"PaddlePaddle device:\", paddle.device.get_device())\n",
    "\n",
    "#Chi OCR"
   ]
  },
  {
   "cell_type": "code",
   "execution_count": 55,
   "id": "99e52817-148f-4e73-a64c-081c4e668751",
   "metadata": {},
   "outputs": [
    {
     "name": "stdout",
     "output_type": "stream",
     "text": [
      "['敢', None, '豫', '八', '日', '十', '何', None, '何']\n"
     ]
    }
   ],
   "source": [
    "from PIL import Image\n",
    "import paddle\n",
    "import os\n",
    "from paddleocr import PaddleOCR\n",
    "import matplotlib.pyplot as plt\n",
    "import numpy as np\n",
    "\n",
    "def resize_image(image_path, scale_factor=0.5):\n",
    "    \"\"\"\n",
    "    resize image may help chinese ocr accuracy\n",
    "    \"\"\"\n",
    "    with Image.open(image_path) as img:\n",
    "        original_size = img.size\n",
    "        new_size = (int(original_size[0] * scale_factor), int(original_size[1] * scale_factor))\n",
    "        resized_img = img.resize(new_size, Image.LANCZOS)\n",
    "        return resized_img\n",
    "\n",
    "def chi_ocr(image_path):\n",
    "    image = Image.open(image_path)\n",
    "    result = ocr.ocr(np.array(image), cls=True)\n",
    "    res = result[-1] #get last character\n",
    "    if res is None: # need resize\n",
    "        image1 = resize_image(image_path)\n",
    "        image1_np = np.array(image1)\n",
    "        res = ocr.ocr(image1_np, cls=True)[-1]#get last character\n",
    "    # extract text info only\n",
    "    if res is not None:\n",
    "        for line in res:\n",
    "            for word_info in line:\n",
    "                if isinstance(word_info, tuple): \n",
    "                    text, confidence = word_info\n",
    "                    return text\n",
    "    else:\n",
    "        return None\n",
    "\n",
    "img_path = 'testocr/1.jpg'  \n",
    "folder_path = 'testocr'\n",
    "ocr = PaddleOCR(use_angle_cls=True, use_gpu=False, show_log=False)  \n",
    "results1 = []\n",
    "for i in os.listdir(folder_path):\n",
    "    if i.endswith(('.jpg', '.jpeg', '.png', '.bmp')):\n",
    "        results1.append(chi_ocr(os.path.join(folder_path,i)))\n",
    "print(results1)\n"
   ]
  },
  {
   "cell_type": "code",
   "execution_count": 54,
   "id": "2b2016fb-17ca-449d-be6e-794b5c798691",
   "metadata": {
    "tags": []
   },
   "outputs": [
    {
     "name": "stdout",
     "output_type": "stream",
     "text": [
      "['え', 'え', 'か', 'へ 、', 'で', 'に', 'は', 'は', 'へ', 'ち', 'w o r d s']\n"
     ]
    }
   ],
   "source": [
    "import os\n",
    "from PIL import Image\n",
    "import torch\n",
    "import torchvision.transforms as transforms\n",
    "from torchvision.transforms import Resize, ToTensor\n",
    "from tqdm import tqdm\n",
    "import openpyxl\n",
    "\n",
    "def jap_ocr(image_path):\n",
    "    image = Image.open(image_path)\n",
    "    resize = Resize((224, 224))\n",
    "    image = resize(image)\n",
    "    image_tensor = transform(image)\n",
    "    image_tensor = image_tensor.unsqueeze(0)\n",
    "    \n",
    "    generated_ids = model.generate(image_tensor)\n",
    "    generated_text = tokenizer.batch_decode(generated_ids, skip_special_tokens=True)[0]\n",
    "    return generated_text\n",
    "    \n",
    "dirpath = \"testocr2/\"\n",
    "results2 = []\n",
    "transform = transforms.Compose([\n",
    "            transforms.ToTensor(),  # Convert PIL Image to tensor\n",
    "            # Add any additional transformations as needed\n",
    "        ])\n",
    "for i in os.listdir(dirpath):\n",
    "    if i.endswith(('.jpg', '.jpeg', '.png', '.bmp')):\n",
    "        image_path = dirpath + i\n",
    "        results2.append(jap_ocr(image_path))\n",
    "print(results2)"
   ]
  },
  {
   "cell_type": "code",
   "execution_count": 56,
   "id": "2bbf67ad-1ae4-4f04-ae37-497e0d253df7",
   "metadata": {
    "tags": []
   },
   "outputs": [],
   "source": [
    "import pandas as pd\n",
    "import glob\n",
    "\n",
    "# Specify the path to your CSV files\n",
    "path = \"../../pilot data/classifypilot\"  # Update this to the path of your CSV files\n",
    "all_files = glob.glob(path + \"/*.csv\")\n",
    "\n",
    "# List to hold data from each CSV\n",
    "li = []\n",
    "\n",
    "# Loop through all files and read them into a dataframe, then append to the list\n",
    "for filename in all_files:\n",
    "    df = pd.read_csv(filename, index_col=None, header=0)\n",
    "    li.append(df)\n",
    "\n",
    "# Concatenate all dataframes in the list into one dataframe\n",
    "frame = pd.concat(li, axis=0, ignore_index=True)\n",
    "\n",
    "# Optionally, you can save the merged dataframe to a new CSV file\n",
    "frame.to_csv('merged.csv', index=False)"
   ]
  },
  {
   "cell_type": "code",
   "execution_count": 57,
   "id": "3e6c2901-283b-496e-b3e5-89c4ff4cdbc3",
   "metadata": {
    "tags": []
   },
   "outputs": [
    {
     "name": "stderr",
     "output_type": "stream",
     "text": [
      "100%|████████████████████████████████████████████████████████████████████████████████████| 8/8 [06:39<00:00, 49.93s/it]\n"
     ]
    }
   ],
   "source": [
    "import pandas as pd\n",
    "\n",
    "# image_folder_name = 'seg_letter'\n",
    "image_folder_path = '../../pilot data/data/'# dir/dir/image\n",
    "type_classifier = \"merged.csv\"\n",
    "\n",
    "workbook = openpyxl.Workbook()\n",
    "sheet = workbook.active\n",
    "transform = transforms.Compose([\n",
    "            transforms.ToTensor(),  # Convert PIL Image to tensor\n",
    "            # Add any additional transformations as needed\n",
    "        ])\n",
    "label_map = pd.read_csv(type_classifier, index_col=0).to_dict()['Class']\n",
    "result = []\n",
    "for img_dir_name in tqdm(os.listdir(image_folder_path)): \n",
    "    for filename in os.listdir(os.path.join(image_folder_path, img_dir_name)): \n",
    "        if filename.endswith(('.jpg', '.jpeg', '.png', '.bmp')):\n",
    "            image_path = os.path.join(image_folder_path, img_dir_name, filename)\n",
    "            # 根据label_map中的标签选择OCR函数\n",
    "            label = label_map.get(filename)\n",
    "            if label == 'Kana':\n",
    "                text = jap_ocr(image_path)\n",
    "            elif label == 'Kanji':\n",
    "                text = chi_ocr(image_path)\n",
    "            else:\n",
    "                text = \"No OCR due to unknown label\"\n",
    "            result.append((img_dir_name, filename, text))\n",
    "    \n",
    "for (img_dir_name,filename,text) in result:\n",
    "    \n",
    "    sheet.append((img_dir_name,filename,text))\n",
    "        \n",
    "workbook.save(\"../pilot_data_ocr.xlsx\")\n",
    "workbook.close()"
   ]
  },
  {
   "cell_type": "code",
   "execution_count": 59,
   "id": "1951a600-3dce-4573-b607-202d759d5ca8",
   "metadata": {},
   "outputs": [
    {
     "name": "stdout",
     "output_type": "stream",
     "text": [
      "   group     filename  ocr\n",
      "0  group     filename  ocr\n",
      "1      B    B_1_1.jpg    敢\n",
      "2      B   B_1_10.jpg    增\n",
      "3      B  B_1_100.jpg    /\n",
      "4      B  B_1_101.jpg    國\n"
     ]
    }
   ],
   "source": [
    "import pandas as pd\n",
    "df = pd.read_excel('../pilot_data_ocr.xlsx', header=None)\n",
    "df.columns = ['group', 'filename', 'ocr']\n",
    "print(df.head())\n",
    "df.to_excel('../pilot_data_ocr.xlsx', index=False)"
   ]
  }
 ],
 "metadata": {
  "kernelspec": {
   "display_name": "Python 3 (ipykernel)",
   "language": "python",
   "name": "python3"
  },
  "language_info": {
   "codemirror_mode": {
    "name": "ipython",
    "version": 3
   },
   "file_extension": ".py",
   "mimetype": "text/x-python",
   "name": "python",
   "nbconvert_exporter": "python",
   "pygments_lexer": "ipython3",
   "version": "3.11.9"
  }
 },
 "nbformat": 4,
 "nbformat_minor": 5
}
