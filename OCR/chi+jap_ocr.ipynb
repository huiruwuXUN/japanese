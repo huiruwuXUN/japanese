{
 "cells": [
  {
   "cell_type": "code",
   "execution_count": 1,
   "id": "46339b2d-916f-467b-b5ed-804f990e1fc0",
   "metadata": {
    "tags": []
   },
   "outputs": [
    {
     "ename": "ModuleNotFoundError",
     "evalue": "No module named 'transformers'",
     "output_type": "error",
     "traceback": [
      "\u001b[1;31m---------------------------------------------------------------------------\u001b[0m",
      "\u001b[1;31mModuleNotFoundError\u001b[0m                       Traceback (most recent call last)",
      "\u001b[1;32m~\\AppData\\Local\\Temp/ipykernel_2112/1284864898.py\u001b[0m in \u001b[0;36m<module>\u001b[1;34m\u001b[0m\n\u001b[1;32m----> 1\u001b[1;33m \u001b[1;32mfrom\u001b[0m \u001b[0mtransformers\u001b[0m \u001b[1;32mimport\u001b[0m \u001b[0mAutoTokenizer\u001b[0m\u001b[1;33m,\u001b[0m \u001b[0mVisionEncoderDecoderModel\u001b[0m\u001b[1;33m\u001b[0m\u001b[1;33m\u001b[0m\u001b[0m\n\u001b[0m\u001b[0;32m      2\u001b[0m \u001b[1;33m\u001b[0m\u001b[0m\n\u001b[0;32m      3\u001b[0m \u001b[0mtokenizer\u001b[0m \u001b[1;33m=\u001b[0m \u001b[0mAutoTokenizer\u001b[0m\u001b[1;33m.\u001b[0m\u001b[0mfrom_pretrained\u001b[0m\u001b[1;33m(\u001b[0m\u001b[1;34m\"kha-white/manga-ocr-base\"\u001b[0m\u001b[1;33m)\u001b[0m\u001b[1;33m\u001b[0m\u001b[1;33m\u001b[0m\u001b[0m\n\u001b[0;32m      4\u001b[0m \u001b[0mmodel\u001b[0m \u001b[1;33m=\u001b[0m \u001b[0mVisionEncoderDecoderModel\u001b[0m\u001b[1;33m.\u001b[0m\u001b[0mfrom_pretrained\u001b[0m\u001b[1;33m(\u001b[0m\u001b[1;34m\"kha-white/manga-ocr-base\"\u001b[0m\u001b[1;33m)\u001b[0m\u001b[1;33m\u001b[0m\u001b[1;33m\u001b[0m\u001b[0m\n\u001b[0;32m      5\u001b[0m \u001b[1;33m\u001b[0m\u001b[0m\n",
      "\u001b[1;31mModuleNotFoundError\u001b[0m: No module named 'transformers'"
     ]
    }
   ],
   "source": [
    "from transformers import AutoTokenizer, VisionEncoderDecoderModel\n",
    "\n",
    "tokenizer = AutoTokenizer.from_pretrained(\"kha-white/manga-ocr-base\")\n",
    "model = VisionEncoderDecoderModel.from_pretrained(\"kha-white/manga-ocr-base\")\n",
    "\n",
    "#Jap OCR"
   ]
  },
  {
   "cell_type": "code",
   "execution_count": 2,
   "id": "2654d96e-7a02-4785-b8ff-d424dff440da",
   "metadata": {},
   "outputs": [
    {
     "ename": "ModuleNotFoundError",
     "evalue": "No module named 'paddle'",
     "output_type": "error",
     "traceback": [
      "\u001b[1;31m---------------------------------------------------------------------------\u001b[0m",
      "\u001b[1;31mModuleNotFoundError\u001b[0m                       Traceback (most recent call last)",
      "\u001b[1;32m~\\AppData\\Local\\Temp/ipykernel_2112/462210769.py\u001b[0m in \u001b[0;36m<module>\u001b[1;34m\u001b[0m\n\u001b[1;32m----> 1\u001b[1;33m \u001b[1;32mimport\u001b[0m \u001b[0mpaddle\u001b[0m\u001b[1;33m\u001b[0m\u001b[1;33m\u001b[0m\u001b[0m\n\u001b[0m\u001b[0;32m      2\u001b[0m \u001b[1;33m\u001b[0m\u001b[0m\n\u001b[0;32m      3\u001b[0m \u001b[0mprint\u001b[0m\u001b[1;33m(\u001b[0m\u001b[1;34m\"CUDA:\"\u001b[0m\u001b[1;33m,\u001b[0m \u001b[0mpaddle\u001b[0m\u001b[1;33m.\u001b[0m\u001b[0mdevice\u001b[0m\u001b[1;33m.\u001b[0m\u001b[0mis_compiled_with_cuda\u001b[0m\u001b[1;33m(\u001b[0m\u001b[1;33m)\u001b[0m\u001b[1;33m)\u001b[0m\u001b[1;33m\u001b[0m\u001b[1;33m\u001b[0m\u001b[0m\n\u001b[0;32m      4\u001b[0m \u001b[0mprint\u001b[0m\u001b[1;33m(\u001b[0m\u001b[1;34m\"PaddlePaddle device:\"\u001b[0m\u001b[1;33m,\u001b[0m \u001b[0mpaddle\u001b[0m\u001b[1;33m.\u001b[0m\u001b[0mdevice\u001b[0m\u001b[1;33m.\u001b[0m\u001b[0mget_device\u001b[0m\u001b[1;33m(\u001b[0m\u001b[1;33m)\u001b[0m\u001b[1;33m)\u001b[0m\u001b[1;33m\u001b[0m\u001b[1;33m\u001b[0m\u001b[0m\n\u001b[0;32m      5\u001b[0m \u001b[1;33m\u001b[0m\u001b[0m\n",
      "\u001b[1;31mModuleNotFoundError\u001b[0m: No module named 'paddle'"
     ]
    }
   ],
   "source": [
    "import paddle\n",
    "\n",
    "print(\"CUDA:\", paddle.device.is_compiled_with_cuda())\n",
    "print(\"PaddlePaddle device:\", paddle.device.get_device())\n",
    "\n",
    "#Chi OCR"
   ]
  },
  {
   "cell_type": "code",
   "execution_count": 3,
   "id": "99e52817-148f-4e73-a64c-081c4e668751",
   "metadata": {},
   "outputs": [
    {
     "ename": "ModuleNotFoundError",
     "evalue": "No module named 'paddle'",
     "output_type": "error",
     "traceback": [
      "\u001b[1;31m---------------------------------------------------------------------------\u001b[0m",
      "\u001b[1;31mModuleNotFoundError\u001b[0m                       Traceback (most recent call last)",
      "\u001b[1;32m~\\AppData\\Local\\Temp/ipykernel_2112/2759436840.py\u001b[0m in \u001b[0;36m<module>\u001b[1;34m\u001b[0m\n\u001b[0;32m      1\u001b[0m \u001b[1;32mfrom\u001b[0m \u001b[0mPIL\u001b[0m \u001b[1;32mimport\u001b[0m \u001b[0mImage\u001b[0m\u001b[1;33m\u001b[0m\u001b[1;33m\u001b[0m\u001b[0m\n\u001b[1;32m----> 2\u001b[1;33m \u001b[1;32mimport\u001b[0m \u001b[0mpaddle\u001b[0m\u001b[1;33m\u001b[0m\u001b[1;33m\u001b[0m\u001b[0m\n\u001b[0m\u001b[0;32m      3\u001b[0m \u001b[1;32mimport\u001b[0m \u001b[0mos\u001b[0m\u001b[1;33m\u001b[0m\u001b[1;33m\u001b[0m\u001b[0m\n\u001b[0;32m      4\u001b[0m \u001b[1;32mfrom\u001b[0m \u001b[0mpaddleocr\u001b[0m \u001b[1;32mimport\u001b[0m \u001b[0mPaddleOCR\u001b[0m\u001b[1;33m\u001b[0m\u001b[1;33m\u001b[0m\u001b[0m\n\u001b[0;32m      5\u001b[0m \u001b[1;32mimport\u001b[0m \u001b[0mmatplotlib\u001b[0m\u001b[1;33m.\u001b[0m\u001b[0mpyplot\u001b[0m \u001b[1;32mas\u001b[0m \u001b[0mplt\u001b[0m\u001b[1;33m\u001b[0m\u001b[1;33m\u001b[0m\u001b[0m\n",
      "\u001b[1;31mModuleNotFoundError\u001b[0m: No module named 'paddle'"
     ]
    }
   ],
   "source": [
    "from PIL import Image\n",
    "import paddle\n",
    "import os\n",
    "from paddleocr import PaddleOCR\n",
    "import matplotlib.pyplot as plt\n",
    "import numpy as np\n",
    "\n",
    "def resize_image(image_path, scale_factor=0.5):\n",
    "    \"\"\"\n",
    "    resize image may help chinese ocr accuracy\n",
    "    \"\"\"\n",
    "    with Image.open(image_path) as img:\n",
    "        original_size = img.size\n",
    "        new_size = (int(original_size[0] * scale_factor), int(original_size[1] * scale_factor))\n",
    "        resized_img = img.resize(new_size, Image.LANCZOS)\n",
    "        return resized_img\n",
    "\n",
    "def chi_ocr(image_path):\n",
    "    image = Image.open(image_path)\n",
    "    result = ocr.ocr(np.array(image), cls=True)\n",
    "    res = result[-1] #get last character\n",
    "    if res is None: # need resize\n",
    "        image1 = resize_image(image_path)\n",
    "        image1_np = np.array(image1)\n",
    "        res = ocr.ocr(image1_np, cls=True)[-1]#get last character\n",
    "    # extract text info only\n",
    "    if res is not None:\n",
    "        for line in res:\n",
    "            for word_info in line:\n",
    "                if isinstance(word_info, tuple): \n",
    "                    text, confidence = word_info\n",
    "                    return text\n",
    "    else:\n",
    "        return None\n",
    "\n",
    "img_path = 'testocr/1.jpg'  \n",
    "folder_path = 'testocr'\n",
    "ocr = PaddleOCR(use_angle_cls=True, use_gpu=False, show_log=False)  \n",
    "results1 = []\n",
    "for i in os.listdir(folder_path):\n",
    "    if i.endswith(('.jpg', '.jpeg', '.png', '.bmp')):\n",
    "        results1.append(chi_ocr(os.path.join(folder_path,i)))\n",
    "print(results1)\n"
   ]
  },
  {
   "cell_type": "code",
   "execution_count": 4,
   "id": "2b2016fb-17ca-449d-be6e-794b5c798691",
   "metadata": {
    "tags": []
   },
   "outputs": [
    {
     "ename": "ModuleNotFoundError",
     "evalue": "No module named 'torch'",
     "output_type": "error",
     "traceback": [
      "\u001b[1;31m---------------------------------------------------------------------------\u001b[0m",
      "\u001b[1;31mModuleNotFoundError\u001b[0m                       Traceback (most recent call last)",
      "\u001b[1;32m~\\AppData\\Local\\Temp/ipykernel_2112/960906419.py\u001b[0m in \u001b[0;36m<module>\u001b[1;34m\u001b[0m\n\u001b[0;32m      1\u001b[0m \u001b[1;32mimport\u001b[0m \u001b[0mos\u001b[0m\u001b[1;33m\u001b[0m\u001b[1;33m\u001b[0m\u001b[0m\n\u001b[0;32m      2\u001b[0m \u001b[1;32mfrom\u001b[0m \u001b[0mPIL\u001b[0m \u001b[1;32mimport\u001b[0m \u001b[0mImage\u001b[0m\u001b[1;33m\u001b[0m\u001b[1;33m\u001b[0m\u001b[0m\n\u001b[1;32m----> 3\u001b[1;33m \u001b[1;32mimport\u001b[0m \u001b[0mtorch\u001b[0m\u001b[1;33m\u001b[0m\u001b[1;33m\u001b[0m\u001b[0m\n\u001b[0m\u001b[0;32m      4\u001b[0m \u001b[1;32mimport\u001b[0m \u001b[0mtorchvision\u001b[0m\u001b[1;33m.\u001b[0m\u001b[0mtransforms\u001b[0m \u001b[1;32mas\u001b[0m \u001b[0mtransforms\u001b[0m\u001b[1;33m\u001b[0m\u001b[1;33m\u001b[0m\u001b[0m\n\u001b[0;32m      5\u001b[0m \u001b[1;32mfrom\u001b[0m \u001b[0mtorchvision\u001b[0m\u001b[1;33m.\u001b[0m\u001b[0mtransforms\u001b[0m \u001b[1;32mimport\u001b[0m \u001b[0mResize\u001b[0m\u001b[1;33m,\u001b[0m \u001b[0mToTensor\u001b[0m\u001b[1;33m\u001b[0m\u001b[1;33m\u001b[0m\u001b[0m\n",
      "\u001b[1;31mModuleNotFoundError\u001b[0m: No module named 'torch'"
     ]
    }
   ],
   "source": [
    "import os\n",
    "from PIL import Image\n",
    "import torch\n",
    "import torchvision.transforms as transforms\n",
    "from torchvision.transforms import Resize, ToTensor\n",
    "from tqdm import tqdm\n",
    "import openpyxl\n",
    "\n",
    "def jap_ocr(image_path):\n",
    "    image = Image.open(image_path)\n",
    "    resize = Resize((224, 224))\n",
    "    image = resize(image)\n",
    "    image_tensor = transform(image)\n",
    "    image_tensor = image_tensor.unsqueeze(0)\n",
    "    \n",
    "    generated_ids = model.generate(image_tensor)\n",
    "    generated_text = tokenizer.batch_decode(generated_ids, skip_special_tokens=True)[0]\n",
    "    return generated_text\n",
    "    \n",
    "dirpath = \"testocr2/\"\n",
    "results2 = []\n",
    "transform = transforms.Compose([\n",
    "            transforms.ToTensor(),  # Convert PIL Image to tensor\n",
    "            # Add any additional transformations as needed\n",
    "        ])\n",
    "for i in os.listdir(dirpath):\n",
    "    if i.endswith(('.jpg', '.jpeg', '.png', '.bmp')):\n",
    "        image_path = dirpath + i\n",
    "        results2.append(jap_ocr(image_path))\n",
    "print(results2)"
   ]
  },
  {
   "cell_type": "code",
   "execution_count": 5,
   "id": "2bbf67ad-1ae4-4f04-ae37-497e0d253df7",
   "metadata": {
    "tags": []
   },
   "outputs": [],
   "source": [
    "import pandas as pd\n",
    "import glob\n",
    "\n",
    "# Specify the path to your CSV files\n",
    "path = \"../../pilot data/cl_author\"  # Update this to the path of your CSV files\n",
    "all_files = glob.glob(path + \"/*.csv\")\n",
    "\n",
    "# List to hold data from each CSV\n",
    "li = []\n",
    "\n",
    "# Loop through all files and read them into a dataframe, then append to the list\n",
    "for filename in all_files:\n",
    "    df = pd.read_csv(filename, index_col=None, header=0)\n",
    "    li.append(df)\n",
    "\n",
    "# Concatenate all dataframes in the list into one dataframe\n",
    "frame = pd.concat(li, axis=0, ignore_index=True)\n",
    "\n",
    "# Optionally, you can save the merged dataframe to a new CSV file\n",
    "frame.to_csv('merged.csv', index=False)"
   ]
  },
  {
   "cell_type": "code",
   "execution_count": 6,
   "id": "3e6c2901-283b-496e-b3e5-89c4ff4cdbc3",
   "metadata": {
    "tags": []
   },
   "outputs": [
    {
     "ename": "NameError",
     "evalue": "name 'openpyxl' is not defined",
     "output_type": "error",
     "traceback": [
      "\u001b[1;31m---------------------------------------------------------------------------\u001b[0m",
      "\u001b[1;31mNameError\u001b[0m                                 Traceback (most recent call last)",
      "\u001b[1;32m~\\AppData\\Local\\Temp/ipykernel_2112/3671339854.py\u001b[0m in \u001b[0;36m<module>\u001b[1;34m\u001b[0m\n\u001b[0;32m      5\u001b[0m \u001b[0mtype_classifier\u001b[0m \u001b[1;33m=\u001b[0m \u001b[1;34m\"merged.csv\"\u001b[0m\u001b[1;33m\u001b[0m\u001b[1;33m\u001b[0m\u001b[0m\n\u001b[0;32m      6\u001b[0m \u001b[1;33m\u001b[0m\u001b[0m\n\u001b[1;32m----> 7\u001b[1;33m \u001b[0mworkbook\u001b[0m \u001b[1;33m=\u001b[0m \u001b[0mopenpyxl\u001b[0m\u001b[1;33m.\u001b[0m\u001b[0mWorkbook\u001b[0m\u001b[1;33m(\u001b[0m\u001b[1;33m)\u001b[0m\u001b[1;33m\u001b[0m\u001b[1;33m\u001b[0m\u001b[0m\n\u001b[0m\u001b[0;32m      8\u001b[0m \u001b[0msheet\u001b[0m \u001b[1;33m=\u001b[0m \u001b[0mworkbook\u001b[0m\u001b[1;33m.\u001b[0m\u001b[0mactive\u001b[0m\u001b[1;33m\u001b[0m\u001b[1;33m\u001b[0m\u001b[0m\n\u001b[0;32m      9\u001b[0m transform = transforms.Compose([\n",
      "\u001b[1;31mNameError\u001b[0m: name 'openpyxl' is not defined"
     ]
    }
   ],
   "source": [
    "import pandas as pd\n",
    "\n",
    "# image_folder_name = 'seg_letter'\n",
    "image_folder_path = '../../pilot data/data/'# dir/dir/image\n",
    "type_classifier = \"merged.csv\"\n",
    "\n",
    "workbook = openpyxl.Workbook()\n",
    "sheet = workbook.active\n",
    "transform = transforms.Compose([\n",
    "            transforms.ToTensor(),  # Convert PIL Image to tensor\n",
    "            # Add any additional transformations as needed\n",
    "        ])\n",
    "label_map = pd.read_csv(type_classifier, index_col=0).to_dict()['Class']\n",
    "result = []\n",
    "for img_dir_name in tqdm(os.listdir(image_folder_path)): \n",
    "    for filename in os.listdir(os.path.join(image_folder_path, img_dir_name)): \n",
    "        if filename.endswith(('.jpg', '.jpeg', '.png', '.bmp')):\n",
    "            image_path = os.path.join(image_folder_path, img_dir_name, filename)\n",
    "            # OCR\n",
    "            label = label_map.get(filename)\n",
    "            if label == 'Kana':\n",
    "                text = jap_ocr(image_path)\n",
    "            elif label == 'Kanji':\n",
    "                text = chi_ocr(image_path)\n",
    "            else:\n",
    "                text = \"No OCR due to unknown label\"\n",
    "            result.append((img_dir_name, filename, text))\n",
    "    \n",
    "for (img_dir_name,filename,text) in result:\n",
    "    \n",
    "    sheet.append((img_dir_name,filename,text))\n",
    "        \n",
    "workbook.save(\"../pilot_data_ocr.xlsx\")\n",
    "workbook.close()"
   ]
  },
  {
   "cell_type": "code",
   "execution_count": null,
   "id": "1951a600-3dce-4573-b607-202d759d5ca8",
   "metadata": {},
   "outputs": [],
   "source": [
    "import pandas as pd\n",
    "df = pd.read_excel('../pilot_data_ocr.xlsx', header=None)\n",
    "df.columns = ['group', 'filename', 'ocr']\n",
    "print(df.head())\n",
    "df.to_excel('../pilot_data_ocr.xlsx', index=False)"
   ]
  },
  {
   "cell_type": "code",
   "execution_count": null,
   "id": "b6139284",
   "metadata": {},
   "outputs": [],
   "source": []
  }
 ],
 "metadata": {
  "kernelspec": {
   "display_name": "Python 3 (ipykernel)",
   "language": "python",
   "name": "python3"
  },
  "language_info": {
   "codemirror_mode": {
    "name": "ipython",
    "version": 3
   },
   "file_extension": ".py",
   "mimetype": "text/x-python",
   "name": "python",
   "nbconvert_exporter": "python",
   "pygments_lexer": "ipython3",
   "version": "3.9.6"
  },
  "vscode": {
   "interpreter": {
    "hash": "b671c20432fcd147198c92e7f072af9e705f087eb990bee22b07f08caab9f630"
   }
  }
 },
 "nbformat": 4,
 "nbformat_minor": 5
}
