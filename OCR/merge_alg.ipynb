{
 "cells": [
  {
   "cell_type": "code",
   "execution_count": null,
   "id": "04f34367-2816-45cc-a4b7-68efd60ce866",
   "metadata": {},
   "outputs": [],
   "source": [
    "\n",
    "import os\n",
    "import pandas as pd\n",
    "\n",
    "# Define the path to the main directory containing the folders\n",
    "main_dir = '../../pilot data/data/'\n",
    "\n",
    "# Load the Excel file with character information\n",
    "df = pd.read_excel('DBSCAN.xlsx')\n",
    "\n",
    "# Function to calculate the total PCA weight for a folder of images\n",
    "def calculate_total_weight(folder_name, df, common_character_group):\n",
    "    total_weight = 0\n",
    "    folder_path = os.path.join(main_dir, folder_name)\n",
    "    \n",
    "    # Iterate over each file in the folder\n",
    "    for file_name in os.listdir(folder_path):\n",
    "        if file_name.endswith(\".jpg\"):\n",
    "            # Extract character information from the file name (e.g., B_1_2.jpg)\n",
    "            character = file_name.split('_')[0]  # assuming character is the first part\n",
    "            \n",
    "            # If the character is in the common_character_group, calculate its PCA weight\n",
    "            if character in common_character_group:\n",
    "                pca_value = df[df['character'] == character]['PCA'].values\n",
    "                if len(pca_value) > 0:\n",
    "                    total_weight += pca_value[0]\n",
    "    \n",
    "    return total_weight\n",
    "\n",
    "# List of common characters\n",
    "common_character_group = ['は', 'か', 'へ', 'で', 'す', 'あ', 'お','の', 'に', 'を', 'る', 'く', 'し', 'な', 'よ', 'ス', 'ル', '日', '事', '人', '本', '大']\n",
    "\n",
    "# Dictionary to store results\n",
    "folder_weights = {}\n",
    "\n",
    "# Iterate over each folder in the main directory\n",
    "for folder in os.listdir(main_dir):\n",
    "    folder_path = os.path.join(main_dir, folder)\n",
    "    \n",
    "    if os.path.isdir(folder_path):\n",
    "        total_weight = calculate_total_weight(folder, df, common_character_group)\n",
    "        folder_weights[folder] = total_weight\n",
    "\n",
    "# Save results to a CSV file\n",
    "results_df = pd.DataFrame(list(folder_weights.items()), columns=['Folder', 'Total Weight'])\n",
    "results_df.to_csv('folder_weights.csv', index=False)\n",
    "print(\"Results saved to folder_weights.csv\")\n"
   ]
  },
  {
   "cell_type": "code",
   "execution_count": null,
   "id": "4e29ca0a-8cd7-4be2-b508-2e6202916203",
   "metadata": {},
   "outputs": [],
   "source": []
  }
 ],
 "metadata": {
  "kernelspec": {
   "display_name": "zhienv",
   "language": "python",
   "name": "zhienv"
  },
  "language_info": {
   "codemirror_mode": {
    "name": "ipython",
    "version": 3
   },
   "file_extension": ".py",
   "mimetype": "text/x-python",
   "name": "python",
   "nbconvert_exporter": "python",
   "pygments_lexer": "ipython3",
   "version": "3.11.9"
  }
 },
 "nbformat": 4,
 "nbformat_minor": 5
}
