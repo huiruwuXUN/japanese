{
 "cells": [
  {
   "cell_type": "markdown",
   "metadata": {},
   "source": [
    "## K-means"
   ]
  },
  {
   "cell_type": "code",
   "execution_count": 19,
   "metadata": {},
   "outputs": [
    {
     "name": "stdout",
     "output_type": "stream",
     "text": [
      "filename: 0.jpg, output= \n",
      "['道'], filename: 1.jpg, output= \n",
      "['界'], filename: 10.jpg, output= \n",
      "['國'], filename: 102.jpg, output= \n",
      "['w', '*6'], filename: 11.jpg, output= \n",
      "['何'], filename: 12.jpg, output= \n",
      "['10'], filename: 14.jpg, output= \n",
      "['官'], filename: 15.jpg, output= \n",
      "['12'], filename: 17.jpg, output= \n",
      "['數'], filename: 18.jpg, output= \n",
      "['諸'], filename: 2.jpg, output= \n",
      "['來'], filename: 20.jpg, output= \n",
      "['關', 'I'], filename: 21.jpg, output= \n",
      "['道'], filename: 22.jpg, output= \n",
      "['以'], filename: 24.jpg, output= \n",
      "['012'], filename: 25.jpg, output= \n",
      "['既'], filename: 26.jpg, output= \n",
      "['胞'], filename: 27.jpg, output= \n",
      "['ru', 'ce'], filename: 28.jpg, output= \n",
      "['建'], filename: 29.jpg, output= \n",
      "['坐'], filename: 3.jpg, output= \n",
      "['...'], filename: 30.jpg, output= \n",
      "['谷'], filename: 31.jpg, output= \n",
      "['容'], filename: 32.jpg, output= \n",
      "['客'], filename: 33.jpg, output= \n",
      "['人'], filename: 38.jpg, output= \n",
      "['14'], filename: 4.jpg, output= \n",
      "['來'], filename: 41.jpg, output= \n",
      "['現'], filename: 42.jpg, output= \n",
      "['期'], filename: 43.jpg, output= \n",
      "['待'], filename: 46.jpg, output= \n",
      "['祖'], filename: 47.jpg, output= \n",
      "['뵤'], filename: 5.jpg, output= \n",
      "['魔'], filename: 50.jpg, output= \n",
      "['祖'], filename: 53.jpg, output= \n",
      "['取'], filename: 56.jpg, output= \n",
      "['其'], filename: 57.jpg, output= \n",
      "['16'], filename: 58.jpg, output= \n",
      "['米'], filename: 59.jpg, output= \n",
      "['101'], filename: 6.jpg, output= \n",
      "['英'], filename: 60.jpg, output= \n",
      "['酷'], filename: 64.jpg, output= \n",
      "['東', 'Ant'], filename: 65.jpg, output= \n",
      "['好'], filename: 72.jpg, output= \n",
      "['E'], filename: 74.jpg, output= \n",
      "['日'], filename: 76.jpg, output= \n",
      "['本'], filename: 77.jpg, output= \n",
      "['全'], filename: 78.jpg, output= \n",
      "['No'], filename: 79.jpg, output= \n",
      "['仕'], filename: 80.jpg, output= \n",
      "['死'], filename: 82.jpg, output= \n",
      "['孝'], filename: 85.jpg, output= \n",
      "['U'], filename: 89.jpg, output= \n",
      "['\".'], filename: 90.jpg, output= \n",
      "['你', 'XEE', '\"'], filename: 92.jpg, output= \n",
      "['り'], filename: 94.jpg, output= \n",
      "['來'], filename: 97.jpg, output= \n",
      "['ス'], filename: 98.jpg, output= \n",
      "['首'], "
     ]
    }
   ],
   "source": [
    "import os\n",
    "from google.cloud import vision_v1\n",
    "from google.oauth2 import service_account\n",
    "\n",
    "\n",
    "def batch_ocr(image_folder_path, credentials_path):\n",
    "    # Initialize the client\n",
    "    credentials = service_account.Credentials.from_service_account_file(credentials_path)\n",
    "    client = vision_v1.ImageAnnotatorClient(credentials=credentials)\n",
    "\n",
    "    # Initialize an empty list to store the results\n",
    "    results = []\n",
    "\n",
    "    # Iterate through the images in the folder\n",
    "    for filename in os.listdir(image_folder_path):\n",
    "        if filename.endswith(('.jpg', '.jpeg', '.png', '.bmp')):\n",
    "            image_path = os.path.join(image_folder_path, filename)\n",
    "            # Read the image\n",
    "            with open(image_path, 'rb') as image_file:\n",
    "                content = image_file.read()\n",
    "            # Perform OCR on the image\n",
    "            image = vision_v1.Image(content=content)\n",
    "            response = client.text_detection(image=image)\n",
    "\n",
    "            # Extract and store the detected text in a list\n",
    "            texts = response.text_annotations\n",
    "            if texts:\n",
    "                detected_text = texts[0].description.split('\\n')\n",
    "                print(f\"filename: {filename}, output= \"+detected_text,end =\", \")\n",
    "                print(detected_text,end =\", \")\n",
    "                results.append((filename,detected_text))\n",
    "\n",
    "    return results\n",
    "# Example usage:\n",
    "# Replace 'path/to/your/credentials.json' and 'path/to/your/image_folder' with your paths\n",
    "# detected_texts = batch_ocr('path/to/your/image_folder', 'path/to/your/credentials.json')\n",
    "# for i, result in enumerate(detected_texts, start=1):\n",
    "#     print(f\"Text from Image {i}:\")\n",
    "#     for line in result:\n",
    "#         print(line)\n",
    "image_folder_path = '../seg_letter/J02'\n",
    "# Replace with your own Google Cloud credentials JSON file path\n",
    "credentials_path = '../../credentials.json'\n",
    "result = batch_ocr(image_folder_path,credentials_path)"
   ]
  },
  {
   "cell_type": "code",
   "execution_count": 20,
   "metadata": {},
   "outputs": [
    {
     "name": "stdout",
     "output_type": "stream",
     "text": [
      "[('0.jpg', ['道']), ('1.jpg', ['界']), ('10.jpg', ['國']), ('102.jpg', ['w', '*6']), ('11.jpg', ['何']), ('12.jpg', ['10']), ('14.jpg', ['官']), ('15.jpg', ['12']), ('17.jpg', ['數']), ('18.jpg', ['諸']), ('2.jpg', ['來']), ('20.jpg', ['關', 'I']), ('21.jpg', ['道']), ('22.jpg', ['以']), ('24.jpg', ['012']), ('25.jpg', ['既']), ('26.jpg', ['胞']), ('27.jpg', ['ru', 'ce']), ('28.jpg', ['建']), ('29.jpg', ['坐']), ('3.jpg', ['...']), ('30.jpg', ['谷']), ('31.jpg', ['容']), ('32.jpg', ['客']), ('33.jpg', ['人']), ('38.jpg', ['14']), ('4.jpg', ['來']), ('41.jpg', ['現']), ('42.jpg', ['期']), ('43.jpg', ['待']), ('46.jpg', ['祖']), ('47.jpg', ['뵤']), ('5.jpg', ['魔']), ('50.jpg', ['祖']), ('53.jpg', ['取']), ('56.jpg', ['其']), ('57.jpg', ['16']), ('58.jpg', ['米']), ('59.jpg', ['101']), ('6.jpg', ['英']), ('60.jpg', ['酷']), ('64.jpg', ['東', 'Ant']), ('65.jpg', ['好']), ('72.jpg', ['E']), ('74.jpg', ['日']), ('76.jpg', ['本']), ('77.jpg', ['全']), ('78.jpg', ['No']), ('79.jpg', ['仕']), ('80.jpg', ['死']), ('82.jpg', ['孝']), ('85.jpg', ['U']), ('89.jpg', ['\".']), ('90.jpg', ['你', 'XEE', '\"']), ('92.jpg', ['り']), ('94.jpg', ['來']), ('97.jpg', ['ス']), ('98.jpg', ['首'])]\n"
     ]
    }
   ],
   "source": [
    "print(result)"
   ]
  },
  {
   "cell_type": "code",
   "execution_count": 21,
   "metadata": {},
   "outputs": [
    {
     "name": "stdout",
     "output_type": "stream",
     "text": [
      "道\n"
     ]
    }
   ],
   "source": [
    "print(result[0][1][0])"
   ]
  },
  {
   "cell_type": "code",
   "execution_count": 22,
   "metadata": {},
   "outputs": [
    {
     "name": "stdout",
     "output_type": "stream",
     "text": [
      "Moved: 0.jpg to ../../seg_letter_new/J02/['道']\n",
      "Moved: 1.jpg to ../../seg_letter_new/J02/['界']\n",
      "Moved: 10.jpg to ../../seg_letter_new/J02/['國']\n",
      "Moved: 102.jpg to ../../seg_letter_new/J02/['w', '*6']\n",
      "Moved: 11.jpg to ../../seg_letter_new/J02/['何']\n",
      "Moved: 12.jpg to ../../seg_letter_new/J02/['10']\n",
      "Moved: 14.jpg to ../../seg_letter_new/J02/['官']\n",
      "Moved: 15.jpg to ../../seg_letter_new/J02/['12']\n",
      "Moved: 17.jpg to ../../seg_letter_new/J02/['數']\n",
      "Moved: 18.jpg to ../../seg_letter_new/J02/['諸']\n",
      "Moved: 2.jpg to ../../seg_letter_new/J02/['來']\n",
      "Moved: 20.jpg to ../../seg_letter_new/J02/['關', 'I']\n",
      "Moved: 21.jpg to ../../seg_letter_new/J02/['道']\n",
      "Moved: 22.jpg to ../../seg_letter_new/J02/['以']\n",
      "Moved: 24.jpg to ../../seg_letter_new/J02/['012']\n",
      "Moved: 25.jpg to ../../seg_letter_new/J02/['既']\n",
      "Moved: 26.jpg to ../../seg_letter_new/J02/['胞']\n",
      "Moved: 27.jpg to ../../seg_letter_new/J02/['ru', 'ce']\n",
      "Moved: 28.jpg to ../../seg_letter_new/J02/['建']\n",
      "Moved: 29.jpg to ../../seg_letter_new/J02/['坐']\n",
      "Moved: 3.jpg to ../../seg_letter_new/J02/['...']\n",
      "Moved: 30.jpg to ../../seg_letter_new/J02/['谷']\n",
      "Moved: 31.jpg to ../../seg_letter_new/J02/['容']\n",
      "Moved: 32.jpg to ../../seg_letter_new/J02/['客']\n",
      "Moved: 33.jpg to ../../seg_letter_new/J02/['人']\n",
      "Moved: 38.jpg to ../../seg_letter_new/J02/['14']\n",
      "Moved: 4.jpg to ../../seg_letter_new/J02/['來']\n",
      "Moved: 41.jpg to ../../seg_letter_new/J02/['現']\n",
      "Moved: 42.jpg to ../../seg_letter_new/J02/['期']\n",
      "Moved: 43.jpg to ../../seg_letter_new/J02/['待']\n",
      "Moved: 46.jpg to ../../seg_letter_new/J02/['祖']\n",
      "Moved: 47.jpg to ../../seg_letter_new/J02/['뵤']\n",
      "Moved: 5.jpg to ../../seg_letter_new/J02/['魔']\n",
      "Moved: 50.jpg to ../../seg_letter_new/J02/['祖']\n",
      "Moved: 53.jpg to ../../seg_letter_new/J02/['取']\n",
      "Moved: 56.jpg to ../../seg_letter_new/J02/['其']\n",
      "Moved: 57.jpg to ../../seg_letter_new/J02/['16']\n",
      "Moved: 58.jpg to ../../seg_letter_new/J02/['米']\n",
      "Moved: 59.jpg to ../../seg_letter_new/J02/['101']\n",
      "Moved: 6.jpg to ../../seg_letter_new/J02/['英']\n",
      "Moved: 60.jpg to ../../seg_letter_new/J02/['酷']\n",
      "Moved: 64.jpg to ../../seg_letter_new/J02/['東', 'Ant']\n",
      "Moved: 65.jpg to ../../seg_letter_new/J02/['好']\n",
      "Moved: 72.jpg to ../../seg_letter_new/J02/['E']\n",
      "Moved: 74.jpg to ../../seg_letter_new/J02/['日']\n",
      "Moved: 76.jpg to ../../seg_letter_new/J02/['本']\n",
      "Moved: 77.jpg to ../../seg_letter_new/J02/['全']\n",
      "Moved: 78.jpg to ../../seg_letter_new/J02/['No']\n",
      "Moved: 79.jpg to ../../seg_letter_new/J02/['仕']\n",
      "Moved: 80.jpg to ../../seg_letter_new/J02/['死']\n",
      "Moved: 82.jpg to ../../seg_letter_new/J02/['孝']\n",
      "Moved: 85.jpg to ../../seg_letter_new/J02/['U']\n"
     ]
    },
    {
     "ename": "OSError",
     "evalue": "[Errno 22] Invalid argument: '../seg_letter/J02\\\\../../seg_letter_new/J02\\\\\".89.jpg'",
     "output_type": "error",
     "traceback": [
      "\u001b[1;31m---------------------------------------------------------------------------\u001b[0m",
      "\u001b[1;31mOSError\u001b[0m                                   Traceback (most recent call last)",
      "\u001b[1;32m<ipython-input-22-e75707500573>\u001b[0m in \u001b[0;36m<module>\u001b[1;34m\u001b[0m\n\u001b[0;32m     26\u001b[0m \u001b[1;33m\u001b[0m\u001b[0m\n\u001b[0;32m     27\u001b[0m     \u001b[1;31m# Move the file to the new directory\u001b[0m\u001b[1;33m\u001b[0m\u001b[1;33m\u001b[0m\u001b[1;33m\u001b[0m\u001b[0m\n\u001b[1;32m---> 28\u001b[1;33m     \u001b[0mshutil\u001b[0m\u001b[1;33m.\u001b[0m\u001b[0mcopy\u001b[0m\u001b[1;33m(\u001b[0m\u001b[0mold_path\u001b[0m\u001b[1;33m,\u001b[0m \u001b[0mnew_path\u001b[0m\u001b[1;33m)\u001b[0m\u001b[1;33m\u001b[0m\u001b[1;33m\u001b[0m\u001b[0m\n\u001b[0m\u001b[0;32m     29\u001b[0m \u001b[1;33m\u001b[0m\u001b[0m\n\u001b[0;32m     30\u001b[0m     \u001b[0mprint\u001b[0m\u001b[1;33m(\u001b[0m\u001b[1;34mf\"Moved: {old_filename} to {new_directory_name}/{new_filename}\"\u001b[0m\u001b[1;33m)\u001b[0m\u001b[1;33m\u001b[0m\u001b[1;33m\u001b[0m\u001b[0m\n",
      "\u001b[1;32m~\\Anaconda3\\lib\\shutil.py\u001b[0m in \u001b[0;36mcopy\u001b[1;34m(src, dst, follow_symlinks)\u001b[0m\n\u001b[0;32m    246\u001b[0m     \u001b[1;32mif\u001b[0m \u001b[0mos\u001b[0m\u001b[1;33m.\u001b[0m\u001b[0mpath\u001b[0m\u001b[1;33m.\u001b[0m\u001b[0misdir\u001b[0m\u001b[1;33m(\u001b[0m\u001b[0mdst\u001b[0m\u001b[1;33m)\u001b[0m\u001b[1;33m:\u001b[0m\u001b[1;33m\u001b[0m\u001b[1;33m\u001b[0m\u001b[0m\n\u001b[0;32m    247\u001b[0m         \u001b[0mdst\u001b[0m \u001b[1;33m=\u001b[0m \u001b[0mos\u001b[0m\u001b[1;33m.\u001b[0m\u001b[0mpath\u001b[0m\u001b[1;33m.\u001b[0m\u001b[0mjoin\u001b[0m\u001b[1;33m(\u001b[0m\u001b[0mdst\u001b[0m\u001b[1;33m,\u001b[0m \u001b[0mos\u001b[0m\u001b[1;33m.\u001b[0m\u001b[0mpath\u001b[0m\u001b[1;33m.\u001b[0m\u001b[0mbasename\u001b[0m\u001b[1;33m(\u001b[0m\u001b[0msrc\u001b[0m\u001b[1;33m)\u001b[0m\u001b[1;33m)\u001b[0m\u001b[1;33m\u001b[0m\u001b[1;33m\u001b[0m\u001b[0m\n\u001b[1;32m--> 248\u001b[1;33m     \u001b[0mcopyfile\u001b[0m\u001b[1;33m(\u001b[0m\u001b[0msrc\u001b[0m\u001b[1;33m,\u001b[0m \u001b[0mdst\u001b[0m\u001b[1;33m,\u001b[0m \u001b[0mfollow_symlinks\u001b[0m\u001b[1;33m=\u001b[0m\u001b[0mfollow_symlinks\u001b[0m\u001b[1;33m)\u001b[0m\u001b[1;33m\u001b[0m\u001b[1;33m\u001b[0m\u001b[0m\n\u001b[0m\u001b[0;32m    249\u001b[0m     \u001b[0mcopymode\u001b[0m\u001b[1;33m(\u001b[0m\u001b[0msrc\u001b[0m\u001b[1;33m,\u001b[0m \u001b[0mdst\u001b[0m\u001b[1;33m,\u001b[0m \u001b[0mfollow_symlinks\u001b[0m\u001b[1;33m=\u001b[0m\u001b[0mfollow_symlinks\u001b[0m\u001b[1;33m)\u001b[0m\u001b[1;33m\u001b[0m\u001b[1;33m\u001b[0m\u001b[0m\n\u001b[0;32m    250\u001b[0m     \u001b[1;32mreturn\u001b[0m \u001b[0mdst\u001b[0m\u001b[1;33m\u001b[0m\u001b[1;33m\u001b[0m\u001b[0m\n",
      "\u001b[1;32m~\\Anaconda3\\lib\\shutil.py\u001b[0m in \u001b[0;36mcopyfile\u001b[1;34m(src, dst, follow_symlinks)\u001b[0m\n\u001b[0;32m    119\u001b[0m     \u001b[1;32melse\u001b[0m\u001b[1;33m:\u001b[0m\u001b[1;33m\u001b[0m\u001b[1;33m\u001b[0m\u001b[0m\n\u001b[0;32m    120\u001b[0m         \u001b[1;32mwith\u001b[0m \u001b[0mopen\u001b[0m\u001b[1;33m(\u001b[0m\u001b[0msrc\u001b[0m\u001b[1;33m,\u001b[0m \u001b[1;34m'rb'\u001b[0m\u001b[1;33m)\u001b[0m \u001b[1;32mas\u001b[0m \u001b[0mfsrc\u001b[0m\u001b[1;33m:\u001b[0m\u001b[1;33m\u001b[0m\u001b[1;33m\u001b[0m\u001b[0m\n\u001b[1;32m--> 121\u001b[1;33m             \u001b[1;32mwith\u001b[0m \u001b[0mopen\u001b[0m\u001b[1;33m(\u001b[0m\u001b[0mdst\u001b[0m\u001b[1;33m,\u001b[0m \u001b[1;34m'wb'\u001b[0m\u001b[1;33m)\u001b[0m \u001b[1;32mas\u001b[0m \u001b[0mfdst\u001b[0m\u001b[1;33m:\u001b[0m\u001b[1;33m\u001b[0m\u001b[1;33m\u001b[0m\u001b[0m\n\u001b[0m\u001b[0;32m    122\u001b[0m                 \u001b[0mcopyfileobj\u001b[0m\u001b[1;33m(\u001b[0m\u001b[0mfsrc\u001b[0m\u001b[1;33m,\u001b[0m \u001b[0mfdst\u001b[0m\u001b[1;33m)\u001b[0m\u001b[1;33m\u001b[0m\u001b[1;33m\u001b[0m\u001b[0m\n\u001b[0;32m    123\u001b[0m     \u001b[1;32mreturn\u001b[0m \u001b[0mdst\u001b[0m\u001b[1;33m\u001b[0m\u001b[1;33m\u001b[0m\u001b[0m\n",
      "\u001b[1;31mOSError\u001b[0m: [Errno 22] Invalid argument: '../seg_letter/J02\\\\../../seg_letter_new/J02\\\\\".89.jpg'"
     ]
    }
   ],
   "source": [
    "import os\n",
    "import shutil\n",
    "# Define your list of tuples (old filename, new filename)\n",
    "file_rename_list = result\n",
    "# [\n",
    "#     (\"old_file1.jpg\", \"new_name1.jpg\"),\n",
    "#     (\"old_file2.jpg\", \"new_name2.jpg\"),\n",
    "#     # Add more tuples as needed\n",
    "# ]\n",
    "\n",
    "# Replace 'path/to/your/folder' with the path to the folder containing your files\n",
    "folder_path = image_folder_path\n",
    "\n",
    "# Define the name of the new directory\n",
    "new_directory_name = \"../../seg_letter_new/J02\"\n",
    "\n",
    "# Create the new directory\n",
    "new_directory_path = os.path.join(folder_path, new_directory_name)\n",
    "os.makedirs(new_directory_path, exist_ok=True)\n",
    "\n",
    "# Iterate through the list of tuples\n",
    "for old_filename, new_filename in file_rename_list:\n",
    "    # Construct the full paths for the old and new names\n",
    "    old_path = os.path.join(folder_path, old_filename)\n",
    "    new_path = os.path.join(new_directory_path, new_filename[0]+old_filename[:-4]+\".jpg\")\n",
    "\n",
    "    # Move the file to the new directory\n",
    "    shutil.copy(old_path, new_path)\n",
    "\n",
    "    print(f\"Moved: {old_filename} to {new_directory_name}/{new_filename}\")"
   ]
  },
  {
   "cell_type": "code",
   "execution_count": 1,
   "metadata": {},
   "outputs": [
    {
     "name": "stdout",
     "output_type": "stream",
     "text": [
      "Requirement already satisfied: numpy in c:\\users\\jinpaiduizhang\\anaconda3\\lib\\site-packages (1.21.6)\n",
      "Requirement already satisfied: matplotlib in c:\\users\\jinpaiduizhang\\anaconda3\\lib\\site-packages (3.1.1)\n",
      "Requirement already satisfied: cycler>=0.10 in c:\\users\\jinpaiduizhang\\anaconda3\\lib\\site-packages (from matplotlib) (0.10.0)\n",
      "Requirement already satisfied: kiwisolver>=1.0.1 in c:\\users\\jinpaiduizhang\\anaconda3\\lib\\site-packages (from matplotlib) (1.1.0)\n",
      "Requirement already satisfied: pyparsing!=2.0.4,!=2.1.2,!=2.1.6,>=2.0.1 in c:\\users\\jinpaiduizhang\\anaconda3\\lib\\site-packages (from matplotlib) (2.4.2)\n",
      "Requirement already satisfied: python-dateutil>=2.1 in c:\\users\\jinpaiduizhang\\anaconda3\\lib\\site-packages (from matplotlib) (2.8.0)\n",
      "Requirement already satisfied: numpy>=1.11 in c:\\users\\jinpaiduizhang\\anaconda3\\lib\\site-packages (from matplotlib) (1.21.6)\n",
      "Requirement already satisfied: six in c:\\users\\jinpaiduizhang\\anaconda3\\lib\\site-packages (from cycler>=0.10->matplotlib) (1.12.0)\n",
      "Requirement already satisfied: setuptools in c:\\users\\jinpaiduizhang\\anaconda3\\lib\\site-packages (from kiwisolver>=1.0.1->matplotlib) (41.4.0)\n"
     ]
    },
    {
     "name": "stderr",
     "output_type": "stream",
     "text": [
      "C:\\Users\\jinpaiduizhang\\Anaconda3\\lib\\site-packages\\sklearn\\linear_model\\least_angle.py:30: DeprecationWarning: `np.float` is a deprecated alias for the builtin `float`. To silence this warning, use `float` by itself. Doing this will not modify any behavior and is safe. If you specifically wanted the numpy scalar type, use `np.float64` here.\n",
      "Deprecated in NumPy 1.20; for more details and guidance: https://numpy.org/devdocs/release/1.20.0-notes.html#deprecations\n",
      "  method='lar', copy_X=True, eps=np.finfo(np.float).eps,\n",
      "C:\\Users\\jinpaiduizhang\\Anaconda3\\lib\\site-packages\\sklearn\\linear_model\\least_angle.py:167: DeprecationWarning: `np.float` is a deprecated alias for the builtin `float`. To silence this warning, use `float` by itself. Doing this will not modify any behavior and is safe. If you specifically wanted the numpy scalar type, use `np.float64` here.\n",
      "Deprecated in NumPy 1.20; for more details and guidance: https://numpy.org/devdocs/release/1.20.0-notes.html#deprecations\n",
      "  method='lar', copy_X=True, eps=np.finfo(np.float).eps,\n",
      "C:\\Users\\jinpaiduizhang\\Anaconda3\\lib\\site-packages\\sklearn\\linear_model\\least_angle.py:284: DeprecationWarning: `np.float` is a deprecated alias for the builtin `float`. To silence this warning, use `float` by itself. Doing this will not modify any behavior and is safe. If you specifically wanted the numpy scalar type, use `np.float64` here.\n",
      "Deprecated in NumPy 1.20; for more details and guidance: https://numpy.org/devdocs/release/1.20.0-notes.html#deprecations\n",
      "  eps=np.finfo(np.float).eps, copy_Gram=True, verbose=0,\n",
      "C:\\Users\\jinpaiduizhang\\Anaconda3\\lib\\site-packages\\sklearn\\linear_model\\least_angle.py:862: DeprecationWarning: `np.float` is a deprecated alias for the builtin `float`. To silence this warning, use `float` by itself. Doing this will not modify any behavior and is safe. If you specifically wanted the numpy scalar type, use `np.float64` here.\n",
      "Deprecated in NumPy 1.20; for more details and guidance: https://numpy.org/devdocs/release/1.20.0-notes.html#deprecations\n",
      "  eps=np.finfo(np.float).eps, copy_X=True, fit_path=True,\n",
      "C:\\Users\\jinpaiduizhang\\Anaconda3\\lib\\site-packages\\sklearn\\linear_model\\least_angle.py:1101: DeprecationWarning: `np.float` is a deprecated alias for the builtin `float`. To silence this warning, use `float` by itself. Doing this will not modify any behavior and is safe. If you specifically wanted the numpy scalar type, use `np.float64` here.\n",
      "Deprecated in NumPy 1.20; for more details and guidance: https://numpy.org/devdocs/release/1.20.0-notes.html#deprecations\n",
      "  eps=np.finfo(np.float).eps, copy_X=True, fit_path=True,\n",
      "C:\\Users\\jinpaiduizhang\\Anaconda3\\lib\\site-packages\\sklearn\\linear_model\\least_angle.py:1127: DeprecationWarning: `np.float` is a deprecated alias for the builtin `float`. To silence this warning, use `float` by itself. Doing this will not modify any behavior and is safe. If you specifically wanted the numpy scalar type, use `np.float64` here.\n",
      "Deprecated in NumPy 1.20; for more details and guidance: https://numpy.org/devdocs/release/1.20.0-notes.html#deprecations\n",
      "  eps=np.finfo(np.float).eps, positive=False):\n",
      "C:\\Users\\jinpaiduizhang\\Anaconda3\\lib\\site-packages\\sklearn\\linear_model\\least_angle.py:1362: DeprecationWarning: `np.float` is a deprecated alias for the builtin `float`. To silence this warning, use `float` by itself. Doing this will not modify any behavior and is safe. If you specifically wanted the numpy scalar type, use `np.float64` here.\n",
      "Deprecated in NumPy 1.20; for more details and guidance: https://numpy.org/devdocs/release/1.20.0-notes.html#deprecations\n",
      "  max_n_alphas=1000, n_jobs=None, eps=np.finfo(np.float).eps,\n",
      "C:\\Users\\jinpaiduizhang\\Anaconda3\\lib\\site-packages\\sklearn\\linear_model\\least_angle.py:1602: DeprecationWarning: `np.float` is a deprecated alias for the builtin `float`. To silence this warning, use `float` by itself. Doing this will not modify any behavior and is safe. If you specifically wanted the numpy scalar type, use `np.float64` here.\n",
      "Deprecated in NumPy 1.20; for more details and guidance: https://numpy.org/devdocs/release/1.20.0-notes.html#deprecations\n",
      "  max_n_alphas=1000, n_jobs=None, eps=np.finfo(np.float).eps,\n",
      "C:\\Users\\jinpaiduizhang\\Anaconda3\\lib\\site-packages\\sklearn\\linear_model\\least_angle.py:1738: DeprecationWarning: `np.float` is a deprecated alias for the builtin `float`. To silence this warning, use `float` by itself. Doing this will not modify any behavior and is safe. If you specifically wanted the numpy scalar type, use `np.float64` here.\n",
      "Deprecated in NumPy 1.20; for more details and guidance: https://numpy.org/devdocs/release/1.20.0-notes.html#deprecations\n",
      "  eps=np.finfo(np.float).eps, copy_X=True, positive=False):\n",
      "C:\\Users\\jinpaiduizhang\\Anaconda3\\lib\\site-packages\\sklearn\\decomposition\\online_lda.py:29: DeprecationWarning: `np.float` is a deprecated alias for the builtin `float`. To silence this warning, use `float` by itself. Doing this will not modify any behavior and is safe. If you specifically wanted the numpy scalar type, use `np.float64` here.\n",
      "Deprecated in NumPy 1.20; for more details and guidance: https://numpy.org/devdocs/release/1.20.0-notes.html#deprecations\n",
      "  EPS = np.finfo(np.float).eps\n"
     ]
    }
   ],
   "source": [
    "import time\n",
    "import sys\n",
    "! pip install numpy\n",
    "import numpy as np\n",
    "! pip install matplotlib\n",
    "import matplotlib.pyplot as plt\n",
    "\n",
    "import math\n",
    "import os\n",
    "from matplotlib.pyplot import imread\n",
    "# from mpl_toolkits.mplot3d import Axes3D #This is for 3d scatter plots.\n",
    "\n",
    "import cv2\n",
    "import functools\n",
    "from sklearn.decomposition import PCA\n"
   ]
  },
  {
   "cell_type": "markdown",
   "metadata": {},
   "source": [
    "\n",
    "These programming exercises will focus on K-means clustering. \n",
    "\n",
    "If you're unsure of how k-means works, read this very helpful and freely available online breakdown from Stanford's CS221 course; https://stanford.edu/~cpiech/cs221/handouts/kmeans.html\n"
   ]
  },
  {
   "cell_type": "code",
   "execution_count": 2,
   "metadata": {},
   "outputs": [
    {
     "data": {
      "text/plain": [
       "array([255, 255, 255, ..., 255, 255, 255], dtype=uint8)"
      ]
     },
     "execution_count": 2,
     "metadata": {},
     "output_type": "execute_result"
    }
   ],
   "source": [
    "train_images = []\n",
    "path = \"../output3\"\n",
    "for file in os.listdir(path):\n",
    "    if file.endswith(\".png\"):\n",
    "        im = cv2.imread(path + \"/\" + file)\n",
    "        y = list(im.ravel())\n",
    "        y = np.array(y)\n",
    "        #im =imread(path + \"/\" + file)\n",
    "        train_images.append(y)\n",
    "# plt.imshow(train_images[0])  #not using since it is 1D array\n",
    "# plt.show()\n",
    "train_images[0]\n"
   ]
  },
  {
   "cell_type": "code",
   "execution_count": 3,
   "metadata": {},
   "outputs": [
    {
     "data": {
      "text/plain": [
       "PCA(copy=True, iterated_power='auto', n_components=578, random_state=2023,\n",
       "    svd_solver='auto', tol=0.0, whiten=False)"
      ]
     },
     "execution_count": 3,
     "metadata": {},
     "output_type": "execute_result"
    }
   ],
   "source": [
    "#X = np.load(\"./data.npy\")\n",
    "X = np.array(train_images)\n",
    "m,n = X.shape\n",
    "pca = PCA(n_components = min(m,n),random_state=2023)\n",
    "Y = X.T\n",
    "pca.fit(X)\n",
    "\n",
    "\n",
    "# k=4"
   ]
  },
  {
   "cell_type": "code",
   "execution_count": 4,
   "metadata": {},
   "outputs": [
    {
     "name": "stdout",
     "output_type": "stream",
     "text": [
      "(578, 578)\n"
     ]
    }
   ],
   "source": [
    "X_pca = pca.transform(X)\n",
    "print(X_pca.shape)\n",
    "X= X_pca"
   ]
  },
  {
   "cell_type": "markdown",
   "metadata": {},
   "source": [
    "\n",
    "K-means is a special, simple case of the Expectation Maximisation (EM) algorithm.\n",
    "\n",
    "This simplified EM (k-means), is divided into two steps.\n",
    "\n",
    "The **E-Step**, where for every sample in your dataset you find which \"centroid\" that datapoint is closest to that sample, and record that information.\n",
    "\n",
    "The **M-Step**, where you move each \"centroid\" to the center of the samples which were found to be closest to it in the **E-Step**.\n",
    "\n",
    "Each *centroid* is simply an estimated mean of a cluster. If you have $1$ centroid, then this centroid will become the mean of all your data.\n",
    "\n",
    "Centroids are initially random values, and the k-means algorithm attempts to modify them so that each one represents the center of a cluster.\n",
    "\n",
    "We have implemented a centroids initialization function."
   ]
  },
  {
   "cell_type": "code",
   "execution_count": 5,
   "metadata": {},
   "outputs": [],
   "source": [
    "from random import sample\n",
    "import random\n",
    "random.seed(1)\n",
    "def initialise_parameters(m, X):\n",
    "    C = sample(list(X), k=m)\n",
    "    return np.array(C)\n",
    "\n",
    "\n"
   ]
  },
  {
   "cell_type": "markdown",
   "metadata": {},
   "source": [
    "\n",
    "\n",
    "---\n",
    "   **1.1:** $E\\_step(C, X) = L$, where $L$ is a matrix of the same dimension of the dataset $X$.\n",
    "   \n",
    "   This function is is the **E-Step** \n",
    "\n",
    "---"
   ]
  },
  {
   "cell_type": "code",
   "execution_count": 6,
   "metadata": {},
   "outputs": [],
   "source": [
    "def distance(centre,sample):\n",
    "    return(math.sqrt(np.sum((centre-sample)**2)))\n",
    "#     return(math.sqrt((centre[0]-sample[0])**2+(centre[1]-sample[1])**2))\n",
    "def E_step(C, X):\n",
    "    L = np.zeros(X.shape)\n",
    "    for i in range(0, X.shape[0]):\n",
    "        ags = np.argmin(np.linalg.norm(C - X[i], axis = 1))\n",
    "        L[i] = C[ags]\n",
    "    return L\n",
    "# L = E_step(C, X)/\n",
    "\n",
    "# fig = plt.figure(figsize=(16, 10))\n",
    "# ax = fig.add_subplot(111, projection='3d')\n",
    "# ax.scatter(L[:, 0], L[:, 1],L[:,2\"])\n",
    "# plt.show()\n",
    "# print(L)"
   ]
  },
  {
   "cell_type": "markdown",
   "metadata": {},
   "source": [
    "**TASK 1.2:** Create a function $M\\_step(C, X, L) = C$ which returns $C$ modified so that each centroid in $C$ is placed in the middle of the samples assigned to it. This is the **M-Step**.\n",
    "\n",
    "In other words, make each centroid in $C$ the average of all the samples which were found to be closest to it during the **E-step**. This is also called the \"update step\" for K-means.\n",
    "\n",
    "---\n",
    "\n",
    "**HINT:** https://docs.scipy.org/doc/numpy/reference/generated/numpy.array_equal.html"
   ]
  },
  {
   "cell_type": "code",
   "execution_count": 7,
   "metadata": {},
   "outputs": [],
   "source": [
    "def M_step(C, X, L):\n",
    "    new_C = np.zeros(C.shape)\n",
    "    for i in range(0, C.shape[0]):\n",
    "        centroid = C[i]\n",
    "        count = np.count_nonzero(np.all(L == centroid, axis = 1))\n",
    "        new_C[i] = np.sum(X[np.all(L == C[i], axis = 1)], axis = 0) / count\n",
    "    return new_C\n",
    "\n",
    "# print('Before:')\n",
    "# print(C)\n",
    "# print('\\nAfter:')\n",
    "# new_C = M_step(C, X, L)\n",
    "# print(new_C)"
   ]
  },
  {
   "cell_type": "markdown",
   "metadata": {},
   "source": [
    "Implement $kmeans(X, m, threshold) = C, L$ which takes a dataset $X$ (of any dimension) and a scalar value $m$ and a scalar $threshold$ as input. "
   ]
  },
  {
   "cell_type": "code",
   "execution_count": 8,
   "metadata": {},
   "outputs": [
    {
     "name": "stdout",
     "output_type": "stream",
     "text": [
      "Done\n"
     ]
    }
   ],
   "source": [
    "\n",
    "def kmeans(X, m, threshold):\n",
    "    L = np.zeros(X.shape)\n",
    "    C = initialise_parameters(m, X)\n",
    "    diff = float('inf')\n",
    "    loss_prev = float('inf')\n",
    "    while diff > threshold:\n",
    "        L = E_step(C, X)\n",
    "        loss_cur = np.sum((np.linalg.norm(X - L, axis=1)**2))\n",
    "        diff = abs(loss_prev - loss_cur)\n",
    "        loss_prev = loss_cur\n",
    "        C = M_step(C, X, L)\n",
    "    # due to the fact that we pair the data point and cluster centroid\n",
    "    # by the value in L match the value in C, we need to do E_step one more time\n",
    "    L = E_step(C, X)\n",
    "    return C, L\n",
    "\n",
    "# C_final, L_final = kmeans(X, k, 1e-6)\n",
    "\n",
    "print('Done')\n",
    "# print(C_final)\n",
    "def allocator(X, L, c):\n",
    "    cluster = []\n",
    "    for i in range(L.shape[0]):\n",
    "        if np.array_equal(L[i, :], c):\n",
    "            cluster.append(X[i, :])\n",
    "    return np.asarray(cluster)\n"
   ]
  },
  {
   "cell_type": "code",
   "execution_count": 9,
   "metadata": {},
   "outputs": [],
   "source": [
    "def evaluation(X, L_final, C_final):\n",
    "    length = 0\n",
    "    total_distance = 0 #evaluation\n",
    "    density = 0\n",
    "    for i in range(k):\n",
    "        cluster = allocator(X, L_final, C_final[i, :])\n",
    "#         print(\"the \"+str(i)+\" cluster is: \"+str(cluster[:,i]))\n",
    "        length += len(cluster)\n",
    "        for d in range(cluster.shape[0]):\n",
    "            total_distance += distance(C_final[i,:],cluster[d,:])\n",
    "        density += total_distance/len(cluster)\n",
    "    density = total_distance/k\n",
    "    return length,total_distance,density\n",
    "# length,total_distance = evaluation(X, L_final, C_final)\n",
    "# print(\"sum \"+str(length))\n",
    "# print(\"The distance is \"+ str(total_distance))"
   ]
  },
  {
   "cell_type": "code",
   "execution_count": 10,
   "metadata": {},
   "outputs": [
    {
     "name": "stdout",
     "output_type": "stream",
     "text": [
      "1 2 3 4 5 6 7 8 9 10 11 12 13 14 15 16 17 18 19 20 21 22 23 24 25 26 27 28 29 30 31 32 33 34 35 36 37 Error, when i = 37 the clusters start overlapping: 591\n",
      "38 39 40 41 42 43 44 45 46 47 48 49 "
     ]
    },
    {
     "data": {
      "image/png": "[encoded data removed]",
      "text/plain": [
       "<Figure size 1152x720 with 1 Axes>"
      ]
     },
     "metadata": {
      "needs_background": "light"
     },
     "output_type": "display_data"
    }
   ],
   "source": [
    "xaxis = []\n",
    "densityaxis = []\n",
    "yaxis = []\n",
    "wrongtimes = 0\n",
    "for i in range(1,50):\n",
    "    xaxis.append(i)\n",
    "    k = i\n",
    "    C_final, L_final = kmeans(X, k, 1e-6)\n",
    "    length,total_distance,density = evaluation(X, L_final, C_final)\n",
    "    yaxis.append(total_distance)\n",
    "    densityaxis.append(density)\n",
    "    print(k,end = \" \")\n",
    "    if(length!=X.shape[0]):\n",
    "        print(\"Error, when i = \"+str(i)+\" the clusters start overlapping: \"+str(length))\n",
    "        wrongtimes += 1\n",
    "    else:\n",
    "        wrongtimes = 0\n",
    "    \n",
    "    if(wrongtimes>=5):\n",
    "        break\n",
    "        \n",
    "\n",
    "fig = plt.figure(figsize=(16, 10))\n",
    "plt.plot(xaxis,densityaxis)\n",
    "plt.xlabel(\"Number of potential cluster\")\n",
    "plt.ylabel(\"sparseness\")\n",
    "plt.show()"
   ]
  },
  {
   "cell_type": "code",
   "execution_count": 14,
   "metadata": {},
   "outputs": [],
   "source": [
    "import pandas as pd\n",
    "darray = np.array(densityaxis) # start at cluster 1\n",
    "outcome = np.zeros(darray.shape[0]-1) \n",
    "for i in range(outcome.shape[0]): #start at cluster 2\n",
    "    outcome[i] = (darray[i+1] - darray[i])/darray[i]\n",
    "outcome = outcome.tolist()"
   ]
  },
  {
   "cell_type": "code",
   "execution_count": 155,
   "metadata": {},
   "outputs": [
    {
     "data": {
      "text/plain": [
       "[<matplotlib.lines.Line2D at 0x18706a81e48>]"
      ]
     },
     "execution_count": 155,
     "metadata": {},
     "output_type": "execute_result"
    },
    {
     "data": {
      "image/png": "[encoded data removed]",
      "text/plain": [
       "<Figure size 432x288 with 1 Axes>"
      ]
     },
     "metadata": {
      "needs_background": "light"
     },
     "output_type": "display_data"
    }
   ],
   "source": [
    "plt.plot(xaxis[1:],outcome)"
   ]
  },
  {
   "cell_type": "code",
   "execution_count": 11,
   "metadata": {},
   "outputs": [
    {
     "name": "stdout",
     "output_type": "stream",
     "text": [
      "clusters: \n",
      "[array([ 42,  45,  89, 100, 167, 287, 288, 311, 380, 381, 418, 452, 489,\n",
      "        527, 545, 556])\n",
      " array([  2,   3,   4,   5,  30,  31,  32,  33,  36,  37,  38,  39,  43,\n",
      "         44,  46,  47,  49,  50,  51,  52,  55,  65,  66,  68,  69,  84,\n",
      "        101, 102, 103, 104, 120, 121, 122, 124, 132, 136, 177, 179, 180,\n",
      "        181, 195, 196, 197, 199, 221, 224, 225, 226, 246, 257, 258, 259,\n",
      "        260, 276, 277, 279, 280, 292, 293, 294, 295, 297, 343, 378, 396,\n",
      "        397, 422, 433, 540, 544, 546, 547, 551, 552, 553, 561, 562])\n",
      " array([  0,  14,  15,  34,  75,  76,  82,  83,  85,  86, 145, 223, 245,\n",
      "        352, 393, 395, 451, 466, 500, 522, 528, 534, 538])\n",
      " array([  6, 184, 185, 194, 198, 210, 212, 298, 299, 301, 302, 303, 304,\n",
      "        309, 310, 312, 313, 314, 315, 316, 317, 327, 328, 329, 330, 333,\n",
      "        346, 347, 348, 349, 364, 389, 400, 411, 484, 485, 486, 487, 488,\n",
      "        490, 491, 492, 513, 514, 516, 518, 519, 520, 521, 542, 543, 550,\n",
      "        555, 557, 558, 559, 565, 566, 568])\n",
      " array([  7,   8,  17,  22,  24,  35,  48,  61,  70,  71,  94,  95, 105,\n",
      "        106, 107, 108, 113, 114, 117, 118, 119, 127, 129, 130, 131, 140,\n",
      "        146, 147, 148, 149, 151, 152, 153, 161, 162, 163, 164, 165, 166,\n",
      "        193, 209, 217, 218, 219, 220, 227, 228, 234, 249, 251, 254, 255,\n",
      "        261, 262, 270, 271, 290, 291, 296, 308, 326, 331, 332, 335, 341,\n",
      "        342, 344, 354, 375, 376, 394, 408, 420, 423, 443, 445, 456, 467,\n",
      "        478, 523, 532, 536, 537, 549, 569])\n",
      " array([ 16,  40,  58,  59,  60,  72,  73,  74, 109, 110, 111, 115, 116,\n",
      "        123, 125, 126, 137, 138, 139, 141, 142, 143, 144, 150, 159, 160,\n",
      "        168, 169, 174, 175, 176, 182, 186, 187, 188, 190, 191, 207, 208,\n",
      "        239, 240, 241, 247, 248, 250, 263, 264, 265, 266, 268, 269, 272,\n",
      "        273, 274, 275, 289, 305, 306, 307, 320, 323, 324, 325, 334, 336,\n",
      "        337, 338, 339, 340, 350, 355, 356, 358, 359, 367, 391, 401, 409,\n",
      "        416, 425, 432, 434, 446, 453, 454, 458, 465, 472, 479, 483, 502,\n",
      "        503, 504, 515, 517, 526, 533, 535, 548])\n",
      " array([  1,  12,  23,  41,  56,  57,  67,  78,  87,  88, 112, 128, 134,\n",
      "        156, 178, 183, 189, 192, 200, 201, 202, 211, 252, 253, 256, 267,\n",
      "        278, 281, 282, 285, 286, 300, 319, 322, 353, 357, 360, 361, 362,\n",
      "        363, 369, 374, 377, 379, 382, 383, 388, 390, 392, 398, 399, 402,\n",
      "        403, 417, 426, 427, 435, 436, 437, 438, 444, 468, 480, 481, 493,\n",
      "        501, 505, 506, 507, 524, 529, 530, 531, 554, 567])\n",
      " array([ 25, 170, 172, 283, 284, 318, 345, 351, 370, 371, 372, 373, 384,\n",
      "        385, 386, 387, 410, 421, 424, 428, 429, 430, 431, 439, 440, 441,\n",
      "        442, 447, 448, 449, 450, 457, 459, 471, 473, 474, 475, 476, 482,\n",
      "        494, 495, 496, 497, 511, 525])\n",
      " array([ 53,  54,  62,  63,  64,  96,  97,  98,  99, 171, 173, 236, 237,\n",
      "        238, 321, 365, 366, 368, 404, 405, 406, 407, 412, 413, 414, 415,\n",
      "        419, 455, 460, 461, 462, 463, 464, 469, 470, 477, 498, 499, 512,\n",
      "        564])\n",
      " array([  9,  10,  11,  13,  18,  19,  20,  21,  26,  27,  28,  29,  77,\n",
      "         79,  80,  81,  90,  91,  92,  93, 133, 135, 154, 155, 157, 158,\n",
      "        203, 204, 205, 206, 213, 214, 215, 216, 222, 229, 230, 231, 232,\n",
      "        233, 235, 242, 243, 244, 508, 509, 510, 539, 541, 560, 563, 570,\n",
      "        571, 572, 573, 574, 575, 576, 577])                             ]\n"
     ]
    },
    {
     "name": "stderr",
     "output_type": "stream",
     "text": [
      "C:\\Users\\jinpaiduizhang\\Anaconda3\\lib\\site-packages\\ipykernel_launcher.py:23: VisibleDeprecationWarning: Creating an ndarray from ragged nested sequences (which is a list-or-tuple of lists-or-tuples-or ndarrays with different lengths or shapes) is deprecated. If you meant to do this, you must specify 'dtype=object' when creating the ndarray.\n"
     ]
    }
   ],
   "source": [
    "# one time cluster\n",
    "\n",
    "\n",
    "k=10 # Use this to see the cluster circumstance in specific cluster number\n",
    "\n",
    "C_f, L_f = kmeans(X, k, 1e-6)\n",
    "\n",
    "total_img = []\n",
    "def allocator2(X,L, c):\n",
    "    cluster = []\n",
    "    idlist = []\n",
    "    for i in range(L.shape[0]):\n",
    "        if np.array_equal(L[i, :], c):\n",
    "            cluster.append(X[i, :])\n",
    "            idlist.append(i)\n",
    "    return idlist\n",
    "for i in range(k):\n",
    "#     print(\"In cluster: \"+str(i))\n",
    "    idlist = allocator2(X,L_f,C_f[i, :])\n",
    "#     print(idlist)\n",
    "    total_img.append(np.array(idlist))\n",
    "    \n",
    "total_img = np.array(total_img)\n",
    "\n",
    "\n",
    "\n",
    "# index of images\n",
    "print(\"clusters: \")\n",
    "\n",
    "print(total_img)"
   ]
  },
  {
   "cell_type": "code",
   "execution_count": 13,
   "metadata": {},
   "outputs": [
    {
     "name": "stdout",
     "output_type": "stream",
     "text": [
      "Cluster 0 contains: \n",
      "137.png. 14.png. 18.png. 19.png. 25.png. 358.png. 359.png. 38.png. 441.png. 442.png. 476.png. 506.png. 54.png. 574.png. 7.png. 8.png. None\n",
      "Cluster 1 contains: \n",
      "100.png. 101.png. 102.png. 103.png. 126.png. 127.png. 128.png. 129.png. 131.png. 132.png. 133.png. 134.png. 138.png. 139.png. 140.png. 141.png. 143.png. 144.png. 145.png. 146.png. 149.png. 158.png. 159.png. 160.png. 161.png. 175.png. 190.png. 191.png. 192.png. 193.png. 207.png. 208.png. 209.png. 210.png. 218.png. 221.png. 259.png. 260.png. 261.png. 262.png. 275.png. 276.png. 277.png. 279.png. 299.png. 300.png. 301.png. 302.png. 320.png. 330.png. 331.png. 332.png. 333.png. 348.png. 349.png. 350.png. 351.png. 362.png. 363.png. 364.png. 365.png. 367.png. 408.png. 44.png. 456.png. 457.png. 48.png. 49.png. 65.png. 69.png. 70.png. 71.png. 75.png. 76.png. 77.png. 84.png. 85.png. None\n",
      "Cluster 2 contains: \n",
      "1.png. 111.png. 112.png. 13.png. 167.png. 168.png. 173.png. 174.png. 176.png. 177.png. 23.png. 30.png. 32.png. 416.png. 453.png. 455.png. 505.png. 519.png. 55.png. 57.png. 575.png. 6.png. 63.png. None\n",
      "Cluster 3 contains: \n",
      "104.png. 265.png. 266.png. 274.png. 278.png. 289.png. 290.png. 368.png. 369.png. 370.png. 371.png. 372.png. 373.png. 378.png. 379.png. 380.png. 381.png. 382.png. 383.png. 384.png. 385.png. 394.png. 395.png. 396.png. 397.png. 4.png. 410.png. 411.png. 412.png. 413.png. 427.png. 45.png. 46.png. 47.png. 535.png. 536.png. 537.png. 538.png. 539.png. 540.png. 541.png. 542.png. 561.png. 562.png. 564.png. 566.png. 567.png. 568.png. 569.png. 67.png. 68.png. 74.png. 79.png. 80.png. 81.png. 82.png. 88.png. 89.png. 90.png. None\n",
      "Cluster 4 contains: \n",
      "105.png. 106.png. 114.png. 119.png. 120.png. 130.png. 142.png. 154.png. 162.png. 163.png. 184.png. 185.png. 194.png. 195.png. 196.png. 197.png. 200.png. 201.png. 204.png. 205.png. 206.png. 213.png. 215.png. 216.png. 217.png. 225.png. 230.png. 231.png. 232.png. 233.png. 235.png. 236.png. 237.png. 244.png. 245.png. 246.png. 247.png. 248.png. 249.png. 273.png. 288.png. 295.png. 296.png. 297.png. 298.png. 303.png. 304.png. 31.png. 323.png. 325.png. 328.png. 329.png. 334.png. 335.png. 342.png. 343.png. 360.png. 361.png. 366.png. 377.png. 393.png. 398.png. 399.png. 400.png. 406.png. 407.png. 409.png. 418.png. 437.png. 438.png. 454.png. 467.png. 478.png. 480.png. 499.png. 50.png. 51.png. 52.png. 53.png. 570.png. 58.png. 61.png. 62.png. 73.png. 91.png. None\n",
      "Cluster 5 contains: \n",
      "113.png. 135.png. 151.png. 152.png. 153.png. 164.png. 165.png. 166.png. 198.png. 199.png. 2.png. 202.png. 203.png. 21.png. 211.png. 212.png. 222.png. 223.png. 224.png. 226.png. 227.png. 228.png. 229.png. 234.png. 242.png. 243.png. 250.png. 251.png. 256.png. 257.png. 258.png. 263.png. 267.png. 268.png. 269.png. 270.png. 271.png. 286.png. 287.png. 314.png. 315.png. 316.png. 321.png. 322.png. 324.png. 336.png. 337.png. 338.png. 339.png. 340.png. 341.png. 344.png. 345.png. 346.png. 347.png. 36.png. 374.png. 375.png. 376.png. 388.png. 390.png. 391.png. 392.png. 40.png. 401.png. 402.png. 403.png. 404.png. 405.png. 414.png. 419.png. 42.png. 421.png. 422.png. 43.png. 451.png. 460.png. 468.png. 474.png. 482.png. 489.png. 490.png. 500.png. 507.png. 508.png. 511.png. 518.png. 524.png. 530.png. 534.png. 551.png. 552.png. 553.png. 563.png. 565.png. 573.png. 59.png. 60.png. 72.png. None\n",
      "Cluster 6 contains: \n",
      "10.png. 11.png. 12.png. 136.png. 15.png. 150.png. 16.png. 17.png. 178.png. 179.png. 20.png. 214.png. 22.png. 24.png. 26.png. 264.png. 27.png. 272.png. 28.png. 280.png. 281.png. 29.png. 326.png. 327.png. 33.png. 34.png. 35.png. 352.png. 353.png. 356.png. 357.png. 37.png. 387.png. 39.png. 417.png. 420.png. 423.png. 424.png. 425.png. 426.png. 431.png. 436.png. 439.png. 440.png. 443.png. 444.png. 449.png. 450.png. 452.png. 458.png. 459.png. 461.png. 462.png. 475.png. 483.png. 484.png. 491.png. 492.png. 493.png. 494.png. 5.png. 520.png. 531.png. 532.png. 543.png. 550.png. 554.png. 555.png. 556.png. 571.png. 576.png. 577.png. 578.png. 78.png. 9.png. None\n",
      "Cluster 7 contains: \n",
      "121.png. 252.png. 254.png. 354.png. 355.png. 386.png. 41.png. 415.png. 432.png. 433.png. 434.png. 435.png. 445.png. 446.png. 447.png. 448.png. 469.png. 479.png. 481.png. 485.png. 486.png. 487.png. 488.png. 495.png. 496.png. 497.png. 498.png. 501.png. 502.png. 503.png. 504.png. 510.png. 512.png. 523.png. 525.png. 526.png. 527.png. 528.png. 533.png. 544.png. 545.png. 546.png. 547.png. 56.png. 572.png. None\n",
      "Cluster 8 contains: \n",
      "147.png. 148.png. 155.png. 156.png. 157.png. 186.png. 187.png. 188.png. 189.png. 253.png. 255.png. 311.png. 312.png. 313.png. 389.png. 428.png. 429.png. 430.png. 463.png. 464.png. 465.png. 466.png. 470.png. 471.png. 472.png. 473.png. 477.png. 509.png. 513.png. 514.png. 515.png. 516.png. 517.png. 521.png. 522.png. 529.png. 548.png. 549.png. 560.png. 87.png. None\n",
      "Cluster 9 contains: \n",
      "107.png. 108.png. 109.png. 110.png. 115.png. 116.png. 117.png. 118.png. 122.png. 123.png. 124.png. 125.png. 169.png. 170.png. 171.png. 172.png. 180.png. 181.png. 182.png. 183.png. 219.png. 220.png. 238.png. 239.png. 240.png. 241.png. 282.png. 283.png. 284.png. 285.png. 291.png. 292.png. 293.png. 294.png. 3.png. 305.png. 306.png. 307.png. 308.png. 309.png. 310.png. 317.png. 318.png. 319.png. 557.png. 558.png. 559.png. 64.png. 66.png. 83.png. 86.png. 92.png. 93.png. 94.png. 95.png. 96.png. 97.png. 98.png. 99.png. None\n"
     ]
    }
   ],
   "source": [
    "\n",
    "def showimg(x): #show one image\\\n",
    "    i = 0 # file 0 is a directory created by ipynb.\n",
    "    for file in os.listdir(path):\n",
    "        if file.endswith(\".png\"):\n",
    "            if(x == i): \n",
    "                im = cv2.imread(path + \"/\" +file)\n",
    "                print(str(file),end=\". \")\n",
    "                break\n",
    "            else:\n",
    "                i += 1\n",
    "    return im\n",
    "def see_a_cluster(total_img, x):\n",
    "    for i in total_img[x]:\n",
    "        showimg(i)\n",
    "\n",
    "# see the first cluster    \n",
    "# see_a_cluster(total_img,0) #(0 is index of cluster, change it to see different cluster)\n",
    "for i in range(k):\n",
    "    print(\"Cluster \"+str(i)+\" contains: \")\n",
    "    print(see_a_cluster(total_img,i))"
   ]
  },
  {
   "cell_type": "code",
   "execution_count": null,
   "metadata": {},
   "outputs": [],
   "source": []
  }
 ],
 "metadata": {
  "kernelspec": {
   "display_name": "Python 3 (ipykernel)",
   "language": "python",
   "name": "python3"
  },
  "language_info": {
   "codemirror_mode": {
    "name": "ipython",
    "version": 3
   },
   "file_extension": ".py",
   "mimetype": "text/x-python",
   "name": "python",
   "nbconvert_exporter": "python",
   "pygments_lexer": "ipython3",
   "version": "3.11.5"
  }
 },
 "nbformat": 4,
 "nbformat_minor": 4
}
