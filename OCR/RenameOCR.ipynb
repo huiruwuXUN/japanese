{
 "cells": [
  {
   "cell_type": "code",
   "execution_count": 2,
   "id": "4490f611-0076-4548-8d1e-395efb60b2d9",
   "metadata": {
    "tags": []
   },
   "outputs": [
    {
     "name": "stdout",
     "output_type": "stream",
     "text": [
      "Error: [WinError 123] 文件名、目录名或卷标语法不正确。: '../../pilot data/data\\\\B\\\\B_1_80.jpg' -> '../../pilot data/data\\\\B\\\\<__B_1_80.jpg.jpg'. Skipping B_1_80.jpg\n",
      "Error: [WinError 3] 系统找不到指定的路径。: '../../pilot data/data\\\\B\\\\B_2_78.jpg' -> '\\\\ \\\\__B_2_78.jpg.jpg'. Skipping B_2_78.jpg\n",
      "Error: [WinError 123] 文件名、目录名或卷标语法不正确。: '../../pilot data/data\\\\C\\\\C_2_21.jpg' -> '../../pilot data/data\\\\C\\\\>__C_2_21.jpg.jpg'. Skipping C_2_21.jpg\n",
      "Error: [WinError 123] 文件名、目录名或卷标语法不正确。: '../../pilot data/data\\\\C\\\\C_2_22.jpg' -> '../../pilot data/data\\\\C\\\\カ?__C_2_22.jpg.jpg'. Skipping C_2_22.jpg\n",
      "Error: [WinError 123] 文件名、目录名或卷标语法不正确。: '../../pilot data/data\\\\C\\\\C_3_2.jpg' -> '../../pilot data/data\\\\C\\\\* 時__C_3_2.jpg.jpg'. Skipping C_3_2.jpg\n",
      "Error: [WinError 123] 文件名、目录名或卷标语法不正确。: '../../pilot data/data\\\\C\\\\C_3_33.jpg' -> '../../pilot data/data\\\\C\\\\*__C_3_33.jpg.jpg'. Skipping C_3_33.jpg\n",
      "Error: [WinError 123] 文件名、目录名或卷标语法不正确。: '../../pilot data/data\\\\C\\\\C_4_41.jpg' -> '../../pilot data/data\\\\C\\\\*__C_4_41.jpg.jpg'. Skipping C_4_41.jpg\n",
      "Error: [WinError 123] 文件名、目录名或卷标语法不正确。: '../../pilot data/data\\\\C\\\\C_4_6.jpg' -> '../../pilot data/data\\\\C\\\\>__C_4_6.jpg.jpg'. Skipping C_4_6.jpg\n",
      "Error: [WinError 3] 系统找不到指定的路径。: '../../pilot data/data\\\\C\\\\C_5_20.jpg' -> '\\\\ \\\\__C_5_20.jpg.jpg'. Skipping C_5_20.jpg\n",
      "Error: [WinError 123] 文件名、目录名或卷标语法不正确。: '../../pilot data/data\\\\C\\\\C_5_39.jpg' -> '../../pilot data/data\\\\C\\\\> >__C_5_39.jpg.jpg'. Skipping C_5_39.jpg\n",
      "Error: [WinError 123] 文件名、目录名或卷标语法不正确。: '../../pilot data/data\\\\D\\\\D_2_1.jpg' -> '../../pilot data/data\\\\D\\\\>__D_2_1.jpg.jpg'. Skipping D_2_1.jpg\n",
      "Error: [WinError 123] 文件名、目录名或卷标语法不正确。: '../../pilot data/data\\\\D\\\\D_2_49.jpg' -> '../../pilot data/data\\\\D\\\\( *__D_2_49.jpg.jpg'. Skipping D_2_49.jpg\n",
      "Error: [WinError 3] 系统找不到指定的路径。: '../../pilot data/data\\\\D\\\\D_2_8.jpg' -> '\\\\ \\\\__D_2_8.jpg.jpg'. Skipping D_2_8.jpg\n",
      "Error: [WinError 123] 文件名、目录名或卷标语法不正确。: '../../pilot data/data\\\\yongsong\\\\yongsong_1_1.jpg' -> '../../pilot data/data\\\\yongsong\\\\!?__yongsong_1_1.jpg.jpg'. Skipping yongsong_1_1.jpg\n",
      "Error: [WinError 123] 文件名、目录名或卷标语法不正确。: '../../pilot data/data\\\\yongsong\\\\yongsong_1_38.jpg' -> '../../pilot data/data\\\\yongsong\\\\?__yongsong_1_38.jpg.jpg'. Skipping yongsong_1_38.jpg\n",
      "Error: [WinError 123] 文件名、目录名或卷标语法不正确。: '../../pilot data/data\\\\yongsong\\\\yongsong_1_44.jpg' -> '../../pilot data/data\\\\yongsong\\\\?__yongsong_1_44.jpg.jpg'. Skipping yongsong_1_44.jpg\n",
      "Error: [WinError 123] 文件名、目录名或卷标语法不正确。: '../../pilot data/data\\\\yongsong\\\\yongsong_3_16.jpg' -> '../../pilot data/data\\\\yongsong\\\\え?__yongsong_3_16.jpg.jpg'. Skipping yongsong_3_16.jpg\n",
      "Error: [WinError 123] 文件名、目录名或卷标语法不正确。: '../../pilot data/data\\\\yongsong\\\\yongsong_3_29.jpg' -> '../../pilot data/data\\\\yongsong\\\\え?__yongsong_3_29.jpg.jpg'. Skipping yongsong_3_29.jpg\n",
      "Error: [WinError 123] 文件名、目录名或卷标语法不正确。: '../../pilot data/data\\\\yongsong\\\\yongsong_3_7.jpg' -> '../../pilot data/data\\\\yongsong\\\\!?__yongsong_3_7.jpg.jpg'. Skipping yongsong_3_7.jpg\n",
      "Error: [WinError 123] 文件名、目录名或卷标语法不正确。: '../../pilot data/data\\\\yongsong\\\\yongsong_4_7.jpg' -> '../../pilot data/data\\\\yongsong\\\\え?__yongsong_4_7.jpg.jpg'. Skipping yongsong_4_7.jpg\n",
      "Error: [WinError 123] 文件名、目录名或卷标语法不正确。: '../../pilot data/data\\\\yongsong\\\\yongsong_5_21.jpg' -> '../../pilot data/data\\\\yongsong\\\\?__yongsong_5_21.jpg.jpg'. Skipping yongsong_5_21.jpg\n",
      "Error: [WinError 123] 文件名、目录名或卷标语法不正确。: '../../pilot data/data\\\\yongsong\\\\yongsong_5_3.jpg' -> '../../pilot data/data\\\\yongsong\\\\???__yongsong_5_3.jpg.jpg'. Skipping yongsong_5_3.jpg\n",
      "Error: [WinError 123] 文件名、目录名或卷标语法不正确。: '../../pilot data/data\\\\yongsong\\\\yongsong_5_39.jpg' -> '../../pilot data/data\\\\yongsong\\\\!?__yongsong_5_39.jpg.jpg'. Skipping yongsong_5_39.jpg\n"
     ]
    }
   ],
   "source": [
    "import os\n",
    "import pandas as pd\n",
    "\n",
    "def rename_images_with_excel_mapping(excel_file, image_folder):\n",
    "    # Read the Excel file\n",
    "    mapping_df = pd.read_excel(excel_file)\n",
    "    \n",
    "    # Iterate through each row in the Excel file\n",
    "    for index, row in mapping_df.iterrows():\n",
    "        folder_name = row[0]\n",
    "        current_name = row[1]\n",
    "        new_name = row[2]\n",
    "        \n",
    "        # Get the full path of the folder containing images\n",
    "        folder_path = os.path.join(image_folder, folder_name)\n",
    "        \n",
    "        # Check if the folder exists\n",
    "        if os.path.exists(folder_path):\n",
    "            # Traverse through files in the folder\n",
    "            for file in os.listdir(folder_path):\n",
    "                if file == current_name:\n",
    "                    # Get the full path of the current image file\n",
    "                    current_file_path = os.path.join(folder_path, file)\n",
    "                    \n",
    "                    # Construct the new file name with an index and ensure it ends with '.jpg'\n",
    "                    _, ext = os.path.splitext(file)\n",
    "                    new_file_name = f\"{new_name}__{current_name}.jpg\"\n",
    "                    \n",
    "                    # Construct the new file path with the replaced name\n",
    "                    new_file_path = os.path.join(folder_path, new_file_name)\n",
    "                    \n",
    "                    try:\n",
    "                        # Rename the image file\n",
    "                        os.rename(current_file_path, new_file_path)\n",
    "                        \n",
    "                    except Exception as e:\n",
    "                        print(f\"Error: {e}. Skipping {current_name}\")\n",
    "                    break  # Break once the file is renamed to avoid unnecessary iterations\n",
    "        else:\n",
    "            print(f\"Folder {folder_name} not found in the specified image folder.\")\n",
    "\n",
    "\n",
    "excel_file = '../new_pilotdata_ocr.xlsx'  # Change this to your Excel file name\n",
    "image_folder = '../../pilot data/data'  # Change this to your image folder\n",
    "\n",
    "rename_images_with_excel_mapping(excel_file, image_folder)\n"
   ]
  }
 ],
 "metadata": {
  "kernelspec": {
   "display_name": "Python 3 (ipykernel)",
   "language": "python",
   "name": "python3"
  },
  "language_info": {
   "codemirror_mode": {
    "name": "ipython",
    "version": 3
   },
   "file_extension": ".py",
   "mimetype": "text/x-python",
   "name": "python",
   "nbconvert_exporter": "python",
   "pygments_lexer": "ipython3",
   "version": "3.11.5"
  }
 },
 "nbformat": 4,
 "nbformat_minor": 5
}
