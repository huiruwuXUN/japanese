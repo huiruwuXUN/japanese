{
 "cells": [
  {
   "cell_type": "code",
   "execution_count": 1,
   "id": "e9c0c50b-af1a-4d21-93b1-69238827465d",
   "metadata": {
    "tags": []
   },
   "outputs": [
    {
     "name": "stderr",
     "output_type": "stream",
     "text": [
      "100%|████████████████████████████████████████████████████████████████████████████████████| 2/2 [00:00<00:00, 65.57it/s]"
     ]
    },
    {
     "name": "stdout",
     "output_type": "stream",
     "text": [
      "あ: {'あ__56.jpg.jpg', 'あ__109.jpg.jpg', 'あ__7.jpg.jpg', 'あ__62.jpg.jpg', 'あ__50.jpg.jpg', 'あ__91.jpg.jpg', 'あ__31.jpg.jpg'}\n",
      "の: {'の__yongsong_1_12.jpg.jpg', 'の__yongsong_1_5.jpg.jpg'}\n",
      "く: {'く__33.jpg.jpg', 'く__23.jpg.jpg', 'く__13.jpg.jpg'}\n"
     ]
    },
    {
     "name": "stderr",
     "output_type": "stream",
     "text": [
      "\n"
     ]
    }
   ],
   "source": [
    "import os\n",
    "from tqdm import tqdm\n",
    "\n",
    "image_folder_path = '../../pilot data/ocr/'  # dir/image inside\n",
    "commonkaha = ['は', 'か', 'へ', 'で', 'す', 'あ', 'お', 'の', 'に', 'を', 'る', 'く', 'し', 'な', 'よ', 'ス', 'ル']\n",
    "commonkanji = ['日', '事', '人', '一', '見', '本', '子', '出', '年', '大', '言', '学', '分', '中', '記', '会', '新', '月', '時', '行', '本', '立', '気', '報', '思', '上', '語', '自', '者', '生', '文', '明', '情', '国', '朝', '用', '書', '私', '手', '間', '小', '合']\n",
    "\n",
    "# Create sets for commonkaha and commonkanji\n",
    "kaha_sets = {char: set() for char in commonkaha}\n",
    "kanji_sets = {char: set() for char in commonkanji}\n",
    "\n",
    "# Traverse through the image folder\n",
    "for img_dir_name in tqdm(os.listdir(image_folder_path)):\n",
    "    for filename in os.listdir(os.path.join(image_folder_path, img_dir_name)):\n",
    "        if filename.endswith(('.jpg', '.jpeg', '.png', '.bmp')):\n",
    "            first_char = filename.split('_')[0]\n",
    "            # Check if the first character is in commonkaha\n",
    "            if first_char in commonkaha:\n",
    "                kaha_sets[first_char].add(filename)\n",
    "            # Check if the first character is in commonkanji\n",
    "            elif first_char in commonkanji:\n",
    "                kanji_sets[first_char].add(filename)\n",
    "\n",
    "# Print or manipulate the sets as needed\n",
    "for char, img_set in kaha_sets.items():\n",
    "    if img_set:\n",
    "        print(f\"{char}: {img_set}\")\n",
    "\n",
    "for char, img_set in kanji_sets.items():\n",
    "    if img_set:\n",
    "        print(f\"{char}: {img_set}\")"
   ]
  },
  {
   "cell_type": "code",
   "execution_count": 54,
   "id": "c1583ffd-5f22-44eb-a861-b8a7752a5ac6",
   "metadata": {},
   "outputs": [],
   "source": [
    "import cv2\n",
    "import numpy as np\n",
    "import os\n",
    "\n",
    "def load_local_image(file_path):\n",
    "    \"\"\" 从本地加载图像 \"\"\"\n",
    "    if os.path.exists(file_path):\n",
    "        image = cv2.imread(file_path)\n",
    "        return image\n",
    "    else:\n",
    "        print(f\"文件 {file_path} 不存在\")\n",
    "        return None\n",
    "\n",
    "def preprocess_image(image, margin=10, fixed_size=(200, 200)):\n",
    "    if image is None:\n",
    "        print(\"图像为空，无法进行预处理\")\n",
    "        return None\n",
    "\n",
    "    # 转换为灰度图\n",
    "    gray = cv2.cvtColor(image, cv2.COLOR_BGR2GRAY)\n",
    "    # 自适应阈值\n",
    "    binary = cv2.adaptiveThreshold(gray, 255, cv2.ADAPTIVE_THRESH_GAUSSIAN_C, cv2.THRESH_BINARY_INV, 11, 2)\n",
    "\n",
    "    # 寻找轮廓\n",
    "    contours, _ = cv2.findContours(binary, cv2.RETR_EXTERNAL, cv2.CHAIN_APPROX_SIMPLE)\n",
    "    if contours:\n",
    "        # 寻找最大轮廓\n",
    "        c = max(contours, key=cv2.contourArea)\n",
    "        x, y, w, h = cv2.boundingRect(c)\n",
    "\n",
    "        # 裁剪并添加留白\n",
    "        cropped = binary[y-margin:y+h+margin, x-margin:x+w+margin]\n",
    "\n",
    "        # 检查裁剪后的图像尺寸\n",
    "        if cropped.shape[0] < fixed_size[0] or cropped.shape[1] < fixed_size[1]:\n",
    "            # 如果尺寸小于fixed_size，则先填充到fixed_size\n",
    "            padded = cv2.copyMakeBorder(cropped, \n",
    "                                        top=margin, bottom=margin, \n",
    "                                        left=margin, right=margin, \n",
    "                                        borderType=cv2.BORDER_CONSTANT, \n",
    "                                        value=[0, 0, 0])\n",
    "            cropped = padded[:fixed_size[0], :fixed_size[1]]\n",
    "\n",
    "        # 调整到固定尺寸\n",
    "        resized = cv2.resize(cropped, fixed_size)\n",
    "\n",
    "        return resized\n",
    "    else:\n",
    "        print(\"none\")\n",
    "        return None\n",
    "\n",
    "\n",
    "def extract_features(binary_image):\n",
    "    # \"\"\" 在处理后的图像上提取特征 \"\"\"\n",
    "    # if np.sum(binary_image == 255) == 0:\n",
    "    #     print(\"图像中没有白色像素，无法提取特征\")\n",
    "    #     return None\n",
    "\n",
    "    features = {\n",
    "        'white_pixels_ratio': np.sum(binary_image == 255) / binary_image.size\n",
    "    }\n",
    "    return features\n",
    "\n",
    "# 遍历文件夹中的图像并提取特征\n",
    "# dirurl = \"testocr2\"  # 替换为您的图像文件夹路径\n",
    "# image_folder_path\n"
   ]
  },
  {
   "cell_type": "code",
   "execution_count": null,
   "id": "5d95f2b1-5af4-4b54-8a67-105aca2cb89d",
   "metadata": {},
   "outputs": [],
   "source": [
    "#extract features with images set\n",
    "def process_image_set(image_set, dir_path):\n",
    "    \"\"\" 处理一组图像文件，并提取特征 \"\"\"\n",
    "    features_list = []\n",
    "    for file_name in image_set:\n",
    "        file_path = os.path.join(dir_path, file_name)\n",
    "        image = cv2.imread(file_path)\n",
    "        if image is not None:\n",
    "            preprocessed_image = preprocess_image(image)\n",
    "            if preprocessed_image is not None:\n",
    "                features = extract_features(preprocessed_image)\n",
    "                if features is not None:\n",
    "                    features_list.append(features)\n",
    "            else:\n",
    "                print(f\"预处理图像 {file_name} 失败\")\n",
    "        else:\n",
    "            print(f\"加载图像 {file_name} 失败\")\n",
    "    return features_list\n"
   ]
  },
  {
   "cell_type": "code",
   "execution_count": 55,
   "id": "621cb3a4-57c0-4099-af52-3d8e4754c94b",
   "metadata": {
    "tags": []
   },
   "outputs": [
    {
     "name": "stdout",
     "output_type": "stream",
     "text": [
      "1.1.jpg\n",
      "1.jpg\n",
      "2.jpg\n",
      "3.jpg\n",
      "4.jpg\n",
      "5.jpg\n",
      "6.1.jpg\n",
      "6.jpg\n",
      "7.jpg\n",
      "8.jpg\n",
      "[('1.1.jpg', {'white_pixels_ratio': 0.0}), ('1.jpg', {'white_pixels_ratio': 0.06665}), ('2.jpg', {'white_pixels_ratio': 0.0799}), ('3.jpg', {'white_pixels_ratio': 0.0}), ('4.jpg', {'white_pixels_ratio': 0.07485}), ('5.jpg', {'white_pixels_ratio': 0.0}), ('6.1.jpg', {'white_pixels_ratio': 0.086675}), ('6.jpg', {'white_pixels_ratio': 0.087025}), ('7.jpg', {'white_pixels_ratio': 0.059625}), ('8.jpg', {'white_pixels_ratio': 0.0})]\n"
     ]
    }
   ],
   "source": [
    "#extract features from image\n",
    "dirurl = \"testocr2\"\n",
    "feature_list = []\n",
    "for img in os.listdir(dirurl):\n",
    "    if img.endswith(('.jpg', '.jpeg', '.png', '.bmp')):\n",
    "        file_path = os.path.join(dirurl, img)\n",
    "        image = load_local_image(file_path)\n",
    "        \n",
    "        if image is not None:\n",
    "            preprocessed_image = preprocess_image(image)\n",
    "            if preprocessed_image is not None:\n",
    "                features = extract_features(preprocessed_image)\n",
    "                if features is not None:\n",
    "                    feature_list.append((img,features))\n",
    "                    print(img)\n",
    "\n",
    "print(feature_list)"
   ]
  },
  {
   "cell_type": "code",
   "execution_count": null,
   "id": "2ea94327-ecac-4aaa-9985-a55996c49ffa",
   "metadata": {},
   "outputs": [],
   "source": []
  }
 ],
 "metadata": {
  "kernelspec": {
   "display_name": "Python 3 (ipykernel)",
   "language": "python",
   "name": "python3"
  },
  "language_info": {
   "codemirror_mode": {
    "name": "ipython",
    "version": 3
   },
   "file_extension": ".py",
   "mimetype": "text/x-python",
   "name": "python",
   "nbconvert_exporter": "python",
   "pygments_lexer": "ipython3",
   "version": "3.11.5"
  }
 },
 "nbformat": 4,
 "nbformat_minor": 5
}
