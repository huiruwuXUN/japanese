{
 "cells": [
  {
   "cell_type": "code",
   "execution_count": 1,
   "id": "46339b2d-916f-467b-b5ed-804f990e1fc0",
   "metadata": {
    "tags": []
   },
   "outputs": [
    {
     "name": "stderr",
     "output_type": "stream",
     "text": [
      "C:\\Users\\hp\\Anaconda3\\envs\\arslan_env\\Lib\\site-packages\\tqdm\\auto.py:21: TqdmWarning: IProgress not found. Please update jupyter and ipywidgets. See https://ipywidgets.readthedocs.io/en/stable/user_install.html\n",
      "  from .autonotebook import tqdm as notebook_tqdm\n",
      "C:\\Users\\hp\\Anaconda3\\envs\\arslan_env\\Lib\\site-packages\\transformers\\tokenization_utils_base.py:1617: FutureWarning: `clean_up_tokenization_spaces` was not set. It will be set to `True` by default. This behavior will be deprecated in transformers v4.45, and will be then set to `False` by default. For more details check this issue: https://github.com/huggingface/transformers/issues/31884\n",
      "  warnings.warn(\n",
      "VisionEncoderDecoderModel has generative capabilities, as `prepare_inputs_for_generation` is explicitly overwritten. However, it doesn't directly inherit from `GenerationMixin`. From 👉v4.50👈 onwards, `PreTrainedModel` will NOT inherit from `GenerationMixin`, and this model will lose the ability to call `generate` and other related functions.\n",
      "  - If you're using `trust_remote_code=True`, you can get rid of this warning by loading the model with an auto class. See https://huggingface.co/docs/transformers/en/model_doc/auto#auto-classes\n",
      "  - If you are the owner of the model architecture code, please modify your model class such that it inherits from `GenerationMixin` (after `PreTrainedModel`, otherwise you'll get an exception).\n",
      "  - If you are not the owner of the model architecture class, please contact the model code owner to update it.\n"
     ]
    }
   ],
   "source": [
    "# !pip install transformers\n",
    "# !pip install fugashi\n",
    "# !pip install unidic\n",
    "# need transformers, protobuf, fugashi\n",
    "from transformers import AutoTokenizer, VisionEncoderDecoderModel\n",
    "\n",
    "tokenizer = AutoTokenizer.from_pretrained(\"kha-white/manga-ocr-base\")\n",
    "model = VisionEncoderDecoderModel.from_pretrained(\"kha-white/manga-ocr-base\")\n",
    "\n"
   ]
  },
  {
   "cell_type": "code",
   "execution_count": 3,
   "id": "2b2016fb-17ca-449d-be6e-794b5c798691",
   "metadata": {
    "tags": []
   },
   "outputs": [
    {
     "name": "stdout",
     "output_type": "stream",
     "text": [
      "1.1.jpgえ\n",
      "1.jpgえ\n",
      "2.jpgか\n",
      "3.jpgへ 、\n",
      "4.jpgで\n",
      "5.jpgに\n",
      "6.1.jpgは\n",
      "6.jpgは\n",
      "7.jpgへ\n",
      "8.jpgち\n",
      "words.jpgw o r d s\n"
     ]
    }
   ],
   "source": [
    "import os\n",
    "from PIL import Image\n",
    "import torch\n",
    "import torchvision.transforms as transforms\n",
    "from torchvision.transforms import Resize, ToTensor\n",
    "from tqdm import tqdm\n",
    "import openpyxl\n",
    "\n",
    "dirpath = \"testocr2/\"\n",
    "\n",
    "for i in os.listdir(dirpath):\n",
    "    if i.endswith(('.jpg', '.jpeg', '.png', '.bmp')):\n",
    "        image_path = dirpath + i\n",
    "        image = Image.open(image_path)\n",
    "        resize = Resize((224, 224))\n",
    "        image = resize(image)\n",
    "        # Define the transformations\n",
    "        transform = transforms.Compose([\n",
    "            transforms.ToTensor(),  # Convert PIL Image to tensor\n",
    "            # Add any additional transformations as needed\n",
    "        ])\n",
    "\n",
    "        # Apply the transformations\n",
    "        image_tensor = transform(image)\n",
    "\n",
    "        \n",
    "        # Add an extra dimension to simulate batch size of 1\n",
    "        image_tensor = image_tensor.unsqueeze(0)\n",
    "\n",
    "        # Pass the image through the model\n",
    "        generated_ids = model.generate(image_tensor)\n",
    "\n",
    "        # Decode generated text\n",
    "        generated_text = tokenizer.batch_decode(generated_ids, skip_special_tokens=True)[0]\n",
    "\n",
    "        print(i + generated_text)"
   ]
  },
  {
   "cell_type": "code",
   "execution_count": 7,
   "id": "1cfd5d6e-2ac5-4b5b-b083-28419f26544a",
   "metadata": {
    "tags": []
   },
   "outputs": [],
   "source": [
    "def jap_ocr(image_path):\n",
    "    image = Image.open(image_path)\n",
    "    resize = Resize((224, 224))\n",
    "    image = resize(image)\n",
    "    image_tensor = transform(image)\n",
    "    image_tensor = image_tensor.unsqueeze(0)\n",
    "    \n",
    "    generated_ids = model.generate(image_tensor)\n",
    "    generated_text = tokenizer.batch_decode(generated_ids, skip_special_tokens=True)[0]\n",
    "    return generated_text"
   ]
  },
  {
   "cell_type": "code",
   "execution_count": 9,
   "id": "2bbf67ad-1ae4-4f04-ae37-497e0d253df7",
   "metadata": {
    "tags": []
   },
   "outputs": [],
   "source": [
    "import pandas as pd\n",
    "import glob\n",
    "\n",
    "# Specify the path to your CSV files\n",
    "path = \"../../pilot data/cl_author\"  # Update this to the path of your CSV files\n",
    "all_files = glob.glob(path + \"/*.csv\")\n",
    "\n",
    "# List to hold data from each CSV\n",
    "li = []\n",
    "\n",
    "# Loop through all files and read them into a dataframe, then append to the list\n",
    "for filename in all_files:\n",
    "    df = pd.read_csv(filename, index_col=None, header=0)\n",
    "    li.append(df)\n",
    "\n",
    "# Concatenate all dataframes in the list into one dataframe\n",
    "frame = pd.concat(li, axis=0, ignore_index=True)\n",
    "\n",
    "# Optionally, you can save the merged dataframe to a new CSV file\n",
    "frame.to_csv('merged.csv', index=False)"
   ]
  },
  {
   "cell_type": "code",
   "execution_count": 12,
   "id": "3e6c2901-283b-496e-b3e5-89c4ff4cdbc3",
   "metadata": {
    "tags": []
   },
   "outputs": [
    {
     "name": "stderr",
     "output_type": "stream",
     "text": [
      "100%|████████████████████████████████████████████████████████████████████████████████████| 8/8 [06:22<00:00, 47.87s/it]\n"
     ]
    }
   ],
   "source": [
    "import pandas as pd\n",
    "\n",
    "# image_folder_name = 'seg_letter'\n",
    "image_folder_path = '../../pilot data/data/'# dir/dir/image\n",
    "type_classifier = \"merged.csv\"\n",
    "\n",
    "workbook = openpyxl.Workbook()\n",
    "sheet = workbook.active\n",
    "transform = transforms.Compose([\n",
    "            transforms.ToTensor(),  # Convert PIL Image to tensor\n",
    "            # Add any additional transformations as needed\n",
    "        ])\n",
    "label_map = pd.read_csv(type_classifier, index_col=0).to_dict()['Class']\n",
    "result = []\n",
    "for img_dir_name in tqdm(os.listdir(image_folder_path)): \n",
    "    for filename in os.listdir(os.path.join(image_folder_path, img_dir_name)): \n",
    "        if filename.endswith(('.jpg', '.jpeg', '.png', '.bmp')):\n",
    "            image_path = os.path.join(image_folder_path, img_dir_name, filename)\n",
    "            # 根据label_map中的标签选择OCR函数\n",
    "            label = label_map.get(filename)\n",
    "            if label == 'Kana':\n",
    "                text = jap_ocr(image_path)\n",
    "            elif label == 'Kanji':\n",
    "                text = \"this is kanji\"\n",
    "            else:\n",
    "                text = \"No OCR due to unknown label\"\n",
    "            result.append((img_dir_name, filename, text))\n",
    "    \n",
    "for (img_dir_name,filename,text) in result:\n",
    "    \n",
    "    sheet.append((img_dir_name,filename,text))\n",
    "        \n",
    "workbook.save(\"../pilot_data_ocr.xlsx\")\n",
    "workbook.close()"
   ]
  },
  {
   "cell_type": "code",
   "execution_count": null,
   "id": "1951a600-3dce-4573-b607-202d759d5ca8",
   "metadata": {},
   "outputs": [],
   "source": []
  }
 ],
 "metadata": {
  "kernelspec": {
   "display_name": "Python 3 (ipykernel)",
   "language": "python",
   "name": "python3"
  },
  "language_info": {
   "codemirror_mode": {
    "name": "ipython",
    "version": 3
   },
   "file_extension": ".py",
   "mimetype": "text/x-python",
   "name": "python",
   "nbconvert_exporter": "python",
   "pygments_lexer": "ipython3",
   "version": "3.12.5"
  }
 },
 "nbformat": 4,
 "nbformat_minor": 5
}
