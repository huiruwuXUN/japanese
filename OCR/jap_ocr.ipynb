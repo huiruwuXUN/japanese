{
 "cells": [
  {
   "cell_type": "code",
   "execution_count": 22,
   "id": "46339b2d-916f-467b-b5ed-804f990e1fc0",
   "metadata": {
    "tags": []
   },
   "outputs": [
    {
     "name": "stderr",
     "output_type": "stream",
     "text": [
      "C:\\Users\\jinpaiduizhang\\Anaconda3\\envs\\zhienv\\Lib\\site-packages\\huggingface_hub\\file_download.py:1132: FutureWarning: `resume_download` is deprecated and will be removed in version 1.0.0. Downloads always resume when possible. If you want to force a new download, use `force_download=True`.\n",
      "  warnings.warn(\n"
     ]
    }
   ],
   "source": [
    "from transformers import AutoTokenizer, VisionEncoderDecoderModel\n",
    "\n",
    "tokenizer = AutoTokenizer.from_pretrained(\"kha-white/manga-ocr-base\")\n",
    "model = VisionEncoderDecoderModel.from_pretrained(\"kha-white/manga-ocr-base\")\n",
    "\n"
   ]
  },
  {
   "cell_type": "code",
   "execution_count": 24,
   "id": "1cfd5d6e-2ac5-4b5b-b083-28419f26544a",
   "metadata": {
    "tags": []
   },
   "outputs": [],
   "source": [
    "import os\n",
    "from PIL import Image\n",
    "import torch\n",
    "import torchvision.transforms as transforms\n",
    "from torchvision.transforms import Resize, ToTensor\n",
    "from tqdm import tqdm\n",
    "import openpyxl\n",
    "\n",
    "def jap_ocr(image_path):\n",
    "    image = Image.open(image_path)\n",
    "    resize = Resize((224, 224))\n",
    "    image = resize(image)\n",
    "    image_tensor = transform(image)\n",
    "    image_tensor = image_tensor.unsqueeze(0)\n",
    "    \n",
    "    generated_ids = model.generate(image_tensor)\n",
    "    generated_text = tokenizer.batch_decode(generated_ids, skip_special_tokens=True)[0]\n",
    "    return generated_text"
   ]
  },
  {
   "cell_type": "code",
   "execution_count": 32,
   "id": "9b1fb8b0-0b8a-49e2-a9cf-806e293e1e36",
   "metadata": {
    "tags": []
   },
   "outputs": [],
   "source": [
    "import os\n",
    "from google.cloud import vision_v1\n",
    "from google.oauth2 import service_account\n",
    "from tqdm import tqdm\n",
    "import openpyxl\n",
    "import shutil\n",
    "\n",
    "credentials_path = '../../credentials.json'\n",
    "def google_ocr(image_path, credentials_path):\n",
    "    # Initialize the client\n",
    "    credentials = service_account.Credentials.from_service_account_file(credentials_path)\n",
    "    client = vision_v1.ImageAnnotatorClient(credentials=credentials)\n",
    "\n",
    "    # Read the image\n",
    "    with open(image_path, 'rb') as image_file:\n",
    "        content = image_file.read()\n",
    "    \n",
    "    image = vision_v1.Image(content=content)\n",
    "    response = client.text_detection(image=image)\n",
    "    texts = response.text_annotations# Extract and store the detected text in a list\n",
    "    if texts:\n",
    "        texts = texts[-1].description.split('\\n')\n",
    "    return texts\n"
   ]
  },
  {
   "cell_type": "code",
   "execution_count": 1,
   "id": "2bbf67ad-1ae4-4f04-ae37-497e0d253df7",
   "metadata": {
    "tags": []
   },
   "outputs": [],
   "source": [
    "import pandas as pd\n",
    "import glob\n",
    "\n",
    "# Specify the path to your CSV files\n",
    "path = \"../../pilot data/classifypilot\"  \n",
    "all_files = glob.glob(path + \"/*.csv\")\n",
    "\n",
    "# List to hold data from each CSV\n",
    "li = []\n",
    "\n",
    "# Loop through all files and read them into a dataframe, then append to the list\n",
    "for filename in all_files:\n",
    "    df = pd.read_csv(filename, index_col=None, header=0)\n",
    "    li.append(df)\n",
    "\n",
    "# Concatenate all dataframes in the list into one dataframe\n",
    "frame = pd.concat(li, axis=0, ignore_index=True)\n",
    "\n",
    "# Optionally, you can save the merged dataframe to a new CSV file\n",
    "frame.to_csv('merged.csv', index=False)"
   ]
  },
  {
   "cell_type": "code",
   "execution_count": 53,
   "id": "3e6c2901-283b-496e-b3e5-89c4ff4cdbc3",
   "metadata": {
    "tags": []
   },
   "outputs": [
    {
     "name": "stderr",
     "output_type": "stream",
     "text": [
      "100%|████████████████████████████████████████████████████████████████████████████████████| 8/8 [09:20<00:00, 70.12s/it]\n"
     ]
    }
   ],
   "source": [
    "import pandas as pd\n",
    "\n",
    "# image_folder_name = 'seg_letter'\n",
    "image_folder_path = '../../pilot data/data/'# dir/dir/image\n",
    "type_classifier = \"merged.csv\"\n",
    "\n",
    "workbook = openpyxl.Workbook()\n",
    "sheet = workbook.active\n",
    "transform = transforms.Compose([\n",
    "            transforms.ToTensor(),  # Convert PIL Image to tensor\n",
    "            # Add any additional transformations as needed\n",
    "        ])\n",
    "label_map = pd.read_csv(type_classifier, index_col=0).to_dict()['Class']\n",
    "result = []\n",
    "for img_dir_name in tqdm(os.listdir(image_folder_path)): \n",
    "    for filename in os.listdir(os.path.join(image_folder_path, img_dir_name)): \n",
    "        if filename.endswith(('.jpg', '.jpeg', '.png', '.bmp')):\n",
    "            image_path = os.path.join(image_folder_path, img_dir_name, filename)\n",
    "            \n",
    "            label = label_map.get(filename)\n",
    "            if label == 'Kana':\n",
    "                text = jap_ocr(image_path)\n",
    "            elif label == 'Kanji':\n",
    "                text = google_ocr(image_path,credentials_path)\n",
    "                if text == []:\n",
    "                    text = jap_ocr(image_path)\n",
    "            else:\n",
    "                text = \"unknown label\"\n",
    "            result.append((img_dir_name, filename, text))"
   ]
  },
  {
   "cell_type": "code",
   "execution_count": 54,
   "id": "ee98d259-ad02-4ea6-8b14-384252dd0a50",
   "metadata": {
    "tags": []
   },
   "outputs": [],
   "source": [
    "from openpyxl import Workbook\n",
    "\n",
    "def save_to_excel(results, excel_path):\n",
    "    workbook = Workbook()\n",
    "    sheet = workbook.active\n",
    "    sheet.append([\"group\", \"ocr\", \"filename\"])\n",
    "    for (img_dir_name, filename, text) in results:\n",
    "        if text != []:\n",
    "            combined_text = ' '.join(text) if isinstance(text, list) else text\n",
    "            sheet.append((img_dir_name, filename, combined_text))\n",
    "        else:\n",
    "            sheet.append((img_dir_name, filename, \"\"))\n",
    "    workbook.save(excel_path)\n",
    "    workbook.close()\n",
    "    df = pd.read_excel(excel_path)\n",
    "    df.rename(columns={df.columns[0]: 'group', df.columns[1]: 'ocr', df.columns[2]: 'filename'}, inplace=True)\n",
    "    df.to_excel(excel_path, index=False)\n",
    "    return excel_path\n",
    "\n",
    "excel_path = 'pilot_data_ocr1.xlsx'\n",
    "save_to_excel(result, excel_path)"
   ]
  },
  {
   "cell_type": "code",
   "execution_count": null,
   "id": "1951a600-3dce-4573-b607-202d759d5ca8",
   "metadata": {},
   "outputs": [],
   "source": []
  }
 ],
 "metadata": {
  "kernelspec": {
   "display_name": "Python 3 (ipykernel)",
   "language": "python",
   "name": "python3"
  },
  "language_info": {
   "codemirror_mode": {
    "name": "ipython",
    "version": 3
   },
   "file_extension": ".py",
   "mimetype": "text/x-python",
   "name": "python",
   "nbconvert_exporter": "python",
   "pygments_lexer": "ipython3",
   "version": "3.11.5"
  }
 },
 "nbformat": 4,
 "nbformat_minor": 5
}
