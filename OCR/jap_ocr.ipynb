{
 "cells": [
  {
   "cell_type": "code",
   "execution_count": 1,
   "id": "46339b2d-916f-467b-b5ed-804f990e1fc0",
   "metadata": {
    "tags": []
   },
   "outputs": [],
   "source": [
    "from transformers import AutoTokenizer, VisionEncoderDecoderModel\n",
    "\n",
    "tokenizer = AutoTokenizer.from_pretrained(\"kha-white/manga-ocr-base\")\n",
    "model = VisionEncoderDecoderModel.from_pretrained(\"kha-white/manga-ocr-base\")\n",
    "\n"
   ]
  },
  {
   "cell_type": "code",
   "execution_count": 2,
   "id": "2b2016fb-17ca-449d-be6e-794b5c798691",
   "metadata": {
    "tags": []
   },
   "outputs": [
    {
     "name": "stdout",
     "output_type": "stream",
     "text": [
      "1.jpgえ\n",
      "2.jpgか\n",
      "4.jpgで\n",
      "5.jpgに\n",
      "6.jpgは\n",
      "7.jpgへ\n",
      "8.jpgち\n"
     ]
    }
   ],
   "source": [
    "import os\n",
    "from PIL import Image\n",
    "import torch\n",
    "import torchvision.transforms as transforms\n",
    "from torchvision.transforms import Resize, ToTensor\n",
    "from tqdm import tqdm\n",
    "import openpyxl\n",
    "\n",
    "dirpath = \"testocr2/\"\n",
    "\n",
    "for i in os.listdir(dirpath):\n",
    "    if i.endswith(('.jpg', '.jpeg', '.png', '.bmp')):\n",
    "        image_path = dirpath + i\n",
    "        image = Image.open(image_path)\n",
    "        resize = Resize((224, 224))\n",
    "        image = resize(image)\n",
    "        # Define the transformations\n",
    "        transform = transforms.Compose([\n",
    "            transforms.ToTensor(),  # Convert PIL Image to tensor\n",
    "            # Add any additional transformations as needed\n",
    "        ])\n",
    "\n",
    "        # Apply the transformations\n",
    "        image_tensor = transform(image)\n",
    "\n",
    "        # Add an extra dimension to simulate batch size of 1\n",
    "        image_tensor = image_tensor.unsqueeze(0)\n",
    "\n",
    "        # Pass the image through the model\n",
    "        generated_ids = model.generate(image_tensor)\n",
    "\n",
    "        # Decode generated text\n",
    "        generated_text = tokenizer.batch_decode(generated_ids, skip_special_tokens=True)[0]\n",
    "\n",
    "        print(i + generated_text)"
   ]
  },
  {
   "cell_type": "code",
   "execution_count": 3,
   "id": "1cfd5d6e-2ac5-4b5b-b083-28419f26544a",
   "metadata": {
    "tags": []
   },
   "outputs": [],
   "source": [
    "def jap_ocr(image_path):\n",
    "    image = Image.open(image_path)\n",
    "    resize = Resize((224, 224))\n",
    "    image = resize(image)\n",
    "    image_tensor = transform(image)\n",
    "    image_tensor = image_tensor.unsqueeze(0)\n",
    "    \n",
    "    generated_ids = model.generate(image_tensor)\n",
    "    generated_text = tokenizer.batch_decode(generated_ids, skip_special_tokens=True)[0]\n",
    "    return generated_text"
   ]
  },
  {
   "cell_type": "code",
   "execution_count": 4,
   "id": "3e6c2901-283b-496e-b3e5-89c4ff4cdbc3",
   "metadata": {
    "tags": []
   },
   "outputs": [
    {
     "name": "stderr",
     "output_type": "stream",
     "text": [
      "100%|████████████████████████████████████████████████████████████████████████████████████| 8/8 [06:22<00:00, 47.76s/it]\n"
     ]
    }
   ],
   "source": [
    "# image_folder_name = 'seg_letter'\n",
    "image_folder_path = '../../pilot data/data/'# dir/dir/image\n",
    "\n",
    "workbook = openpyxl.Workbook()\n",
    "sheet = workbook.active\n",
    "transform = transforms.Compose([\n",
    "            transforms.ToTensor(),  # Convert PIL Image to tensor\n",
    "            # Add any additional transformations as needed\n",
    "        ])\n",
    "result = []\n",
    "for img_dir_name in tqdm(os.listdir(image_folder_path)): \n",
    "    for filename in os.listdir(image_folder_path + img_dir_name): \n",
    "        if filename.endswith(('.jpg', '.jpeg', '.png', '.bmp')):\n",
    "            image_path = os.path.join(image_folder_path,img_dir_name, filename)\n",
    "            text = jap_ocr(image_path)\n",
    "            result.append((img_dir_name,filename,text))\n",
    "    \n",
    "for (img_dir_name,filename,text) in result:\n",
    "    \n",
    "    sheet.append((img_dir_name,filename,text))\n",
    "        \n",
    "workbook.save(\"../new_pilotdata_ocr.xlsx\")\n",
    "workbook.close()"
   ]
  },
  {
   "cell_type": "code",
   "execution_count": null,
   "id": "4d418721-13ec-4ec5-8d1a-333a97c7119b",
   "metadata": {},
   "outputs": [],
   "source": []
  }
 ],
 "metadata": {
  "kernelspec": {
   "display_name": "Python 3 (ipykernel)",
   "language": "python",
   "name": "python3"
  },
  "language_info": {
   "codemirror_mode": {
    "name": "ipython",
    "version": 3
   },
   "file_extension": ".py",
   "mimetype": "text/x-python",
   "name": "python",
   "nbconvert_exporter": "python",
   "pygments_lexer": "ipython3",
   "version": "3.11.5"
  }
 },
 "nbformat": 4,
 "nbformat_minor": 5
}
