{
 "cells": [
  {
   "cell_type": "code",
   "execution_count": 1,
   "metadata": {},
   "outputs": [
    {
     "ename": "ModuleNotFoundError",
     "evalue": "No module named 'google.cloud'",
     "output_type": "error",
     "traceback": [
      "\u001b[1;31m---------------------------------------------------------------------------\u001b[0m",
      "\u001b[1;31mModuleNotFoundError\u001b[0m                       Traceback (most recent call last)",
      "\u001b[1;32m~\\AppData\\Local\\Temp/ipykernel_15968/3139125832.py\u001b[0m in \u001b[0;36m<module>\u001b[1;34m\u001b[0m\n\u001b[0;32m      1\u001b[0m \u001b[1;32mimport\u001b[0m \u001b[0mos\u001b[0m\u001b[1;33m\u001b[0m\u001b[1;33m\u001b[0m\u001b[0m\n\u001b[1;32m----> 2\u001b[1;33m \u001b[1;32mfrom\u001b[0m \u001b[0mgoogle\u001b[0m\u001b[1;33m.\u001b[0m\u001b[0mcloud\u001b[0m \u001b[1;32mimport\u001b[0m \u001b[0mvision_v1\u001b[0m\u001b[1;33m\u001b[0m\u001b[1;33m\u001b[0m\u001b[0m\n\u001b[0m\u001b[0;32m      3\u001b[0m \u001b[1;32mfrom\u001b[0m \u001b[0mgoogle\u001b[0m\u001b[1;33m.\u001b[0m\u001b[0moauth2\u001b[0m \u001b[1;32mimport\u001b[0m \u001b[0mservice_account\u001b[0m\u001b[1;33m\u001b[0m\u001b[1;33m\u001b[0m\u001b[0m\n\u001b[0;32m      4\u001b[0m \u001b[1;32mfrom\u001b[0m \u001b[0mtqdm\u001b[0m \u001b[1;32mimport\u001b[0m \u001b[0mtqdm\u001b[0m\u001b[1;33m\u001b[0m\u001b[1;33m\u001b[0m\u001b[0m\n\u001b[0;32m      5\u001b[0m \u001b[1;32mimport\u001b[0m \u001b[0mopenpyxl\u001b[0m\u001b[1;33m\u001b[0m\u001b[1;33m\u001b[0m\u001b[0m\n",
      "\u001b[1;31mModuleNotFoundError\u001b[0m: No module named 'google.cloud'"
     ]
    }
   ],
   "source": [
    "import os\n",
    "from google.cloud import vision_v1\n",
    "from google.oauth2 import service_account\n",
    "from tqdm import tqdm\n",
    "import openpyxl\n",
    "import shutil\n",
    "\n",
    "def batch_ocr(image_folder_path, credentials_path):\n",
    "    # Initialize the client\n",
    "    credentials = service_account.Credentials.from_service_account_file(credentials_path)\n",
    "    client = vision_v1.ImageAnnotatorClient(credentials=credentials)\n",
    "\n",
    "    # Initialize an empty list to store the results\n",
    "    results = []\n",
    "\n",
    "    # Iterate through the images in the folder\n",
    "    for filename in os.listdir(image_folder_path):\n",
    "        if filename.endswith(('.jpg', '.jpeg', '.png', '.bmp')):\n",
    "            image_path = os.path.join(image_folder_path, filename)\n",
    "            # Read the image\n",
    "            with open(image_path, 'rb') as image_file:\n",
    "                content = image_file.read()\n",
    "            # Perform OCR on the image\n",
    "            image = vision_v1.Image(content=content)\n",
    "            response = client.text_detection(image=image)\n",
    "\n",
    "            # Extract and store the detected text in a list\n",
    "            texts = response.text_annotations\n",
    "            if texts:\n",
    "                detected_text = texts[-1].description.split('\\n')\n",
    "                results.append((filename,detected_text))\n",
    "\n",
    "    return results\n",
    "# Example usage:\n",
    "# Replace 'path/to/your/credentials.json' and 'path/to/your/image_folder' with your paths\n",
    "# detected_texts = batch_ocr('path/to/your/image_folder', 'path/to/your/credentials.json')\n",
    "# for i, result in enumerate(detected_texts, start=1):\n",
    "#     print(f\"Text from Image {i}:\")\n",
    "#     for line in result:\n",
    "#         print(line)\n",
    "# image_folder_path = '../seg_letter/J02'"
   ]
  },
  {
   "cell_type": "code",
   "execution_count": null,
   "metadata": {},
   "outputs": [],
   "source": []
  },
  {
   "cell_type": "code",
   "execution_count": 2,
   "metadata": {
    "tags": []
   },
   "outputs": [
    {
     "ename": "NameError",
     "evalue": "name 'batch_ocr' is not defined",
     "output_type": "error",
     "traceback": [
      "\u001b[1;31m---------------------------------------------------------------------------\u001b[0m",
      "\u001b[1;31mNameError\u001b[0m                                 Traceback (most recent call last)",
      "\u001b[1;32m~\\AppData\\Local\\Temp/ipykernel_15968/3707632110.py\u001b[0m in \u001b[0;36m<module>\u001b[1;34m\u001b[0m\n\u001b[0;32m      1\u001b[0m \u001b[0mimage_folder_path\u001b[0m \u001b[1;33m=\u001b[0m \u001b[1;34m'testocr2'\u001b[0m\u001b[1;33m\u001b[0m\u001b[1;33m\u001b[0m\u001b[0m\n\u001b[0;32m      2\u001b[0m \u001b[0mcredentials_path\u001b[0m \u001b[1;33m=\u001b[0m \u001b[1;34m'../../credentials.json'\u001b[0m\u001b[1;33m\u001b[0m\u001b[1;33m\u001b[0m\u001b[0m\n\u001b[1;32m----> 3\u001b[1;33m \u001b[0mresult\u001b[0m \u001b[1;33m=\u001b[0m \u001b[0mbatch_ocr\u001b[0m\u001b[1;33m(\u001b[0m\u001b[0mimage_folder_path\u001b[0m\u001b[1;33m,\u001b[0m\u001b[0mcredentials_path\u001b[0m\u001b[1;33m)\u001b[0m\u001b[1;33m\u001b[0m\u001b[1;33m\u001b[0m\u001b[0m\n\u001b[0m\u001b[0;32m      4\u001b[0m \u001b[1;32mfor\u001b[0m \u001b[1;33m(\u001b[0m\u001b[0mname\u001b[0m\u001b[1;33m,\u001b[0m\u001b[0mtext\u001b[0m\u001b[1;33m)\u001b[0m \u001b[1;32min\u001b[0m \u001b[0mresult\u001b[0m\u001b[1;33m:\u001b[0m\u001b[1;33m\u001b[0m\u001b[1;33m\u001b[0m\u001b[0m\n\u001b[0;32m      5\u001b[0m     \u001b[0mprint\u001b[0m\u001b[1;33m(\u001b[0m\u001b[0mname\u001b[0m \u001b[1;33m+\u001b[0m \u001b[1;34m\" \"\u001b[0m \u001b[1;33m+\u001b[0m \u001b[0mstr\u001b[0m\u001b[1;33m(\u001b[0m\u001b[0mtext\u001b[0m\u001b[1;33m[\u001b[0m\u001b[1;33m:\u001b[0m\u001b[1;33m]\u001b[0m\u001b[1;33m)\u001b[0m\u001b[1;33m)\u001b[0m\u001b[1;33m\u001b[0m\u001b[1;33m\u001b[0m\u001b[0m\n",
      "\u001b[1;31mNameError\u001b[0m: name 'batch_ocr' is not defined"
     ]
    }
   ],
   "source": [
    "image_folder_path = 'testocr2'\n",
    "credentials_path = '../../credentials.json'\n",
    "result = batch_ocr(image_folder_path,credentials_path)\n",
    "for (name,text) in result:\n",
    "    print(name + \" \" + str(text[:]))"
   ]
  },
  {
   "cell_type": "code",
   "execution_count": 3,
   "metadata": {
    "tags": []
   },
   "outputs": [
    {
     "ename": "NameError",
     "evalue": "name 'openpyxl' is not defined",
     "output_type": "error",
     "traceback": [
      "\u001b[1;31m---------------------------------------------------------------------------\u001b[0m",
      "\u001b[1;31mNameError\u001b[0m                                 Traceback (most recent call last)",
      "\u001b[1;32m~\\AppData\\Local\\Temp/ipykernel_15968/1678600494.py\u001b[0m in \u001b[0;36m<module>\u001b[1;34m\u001b[0m\n\u001b[0;32m      3\u001b[0m \u001b[1;31m# Replace with your own Google Cloud credentials JSON file path\u001b[0m\u001b[1;33m\u001b[0m\u001b[1;33m\u001b[0m\u001b[1;33m\u001b[0m\u001b[0m\n\u001b[0;32m      4\u001b[0m \u001b[0mcredentials_path\u001b[0m \u001b[1;33m=\u001b[0m \u001b[1;34m'../../credentials.json'\u001b[0m\u001b[1;33m\u001b[0m\u001b[1;33m\u001b[0m\u001b[0m\n\u001b[1;32m----> 5\u001b[1;33m \u001b[0mworkbook\u001b[0m \u001b[1;33m=\u001b[0m \u001b[0mopenpyxl\u001b[0m\u001b[1;33m.\u001b[0m\u001b[0mWorkbook\u001b[0m\u001b[1;33m(\u001b[0m\u001b[1;33m)\u001b[0m\u001b[1;33m\u001b[0m\u001b[1;33m\u001b[0m\u001b[0m\n\u001b[0m\u001b[0;32m      6\u001b[0m \u001b[0msheet\u001b[0m \u001b[1;33m=\u001b[0m \u001b[0mworkbook\u001b[0m\u001b[1;33m.\u001b[0m\u001b[0mactive\u001b[0m\u001b[1;33m\u001b[0m\u001b[1;33m\u001b[0m\u001b[0m\n\u001b[0;32m      7\u001b[0m \u001b[1;33m\u001b[0m\u001b[0m\n",
      "\u001b[1;31mNameError\u001b[0m: name 'openpyxl' is not defined"
     ]
    }
   ],
   "source": [
    "# image_folder_name = 'seg_letter'\n",
    "image_folder_path = '../../pilot data/data/'\n",
    "# Replace with your own Google Cloud credentials JSON file path\n",
    "credentials_path = '../../credentials.json'\n",
    "workbook = openpyxl.Workbook()\n",
    "sheet = workbook.active\n",
    "\n",
    "for file_name in tqdm(os.listdir(image_folder_path)):\n",
    "    result = batch_ocr(image_folder_path + file_name,credentials_path)\n",
    "    \n",
    "    for (img_name,ocr_text) in result:\n",
    "        text = \"\"\n",
    "        for i in ocr_text:\n",
    "            text += i\n",
    "        sheet.append((file_name,img_name,text))\n",
    "        \n",
    "workbook.save(\"../pilotdata_output.xlsx\")\n",
    "workbook.close()"
   ]
  },
  {
   "cell_type": "code",
   "execution_count": 4,
   "metadata": {
    "tags": []
   },
   "outputs": [
    {
     "ename": "NameError",
     "evalue": "name 'batch_ocr' is not defined",
     "output_type": "error",
     "traceback": [
      "\u001b[1;31m---------------------------------------------------------------------------\u001b[0m",
      "\u001b[1;31mNameError\u001b[0m                                 Traceback (most recent call last)",
      "\u001b[1;32m~\\AppData\\Local\\Temp/ipykernel_15968/3237829697.py\u001b[0m in \u001b[0;36m<module>\u001b[1;34m\u001b[0m\n\u001b[0;32m      4\u001b[0m \u001b[1;31m# Replace with your own Google Cloud credentials JSON file path\u001b[0m\u001b[1;33m\u001b[0m\u001b[1;33m\u001b[0m\u001b[1;33m\u001b[0m\u001b[0m\n\u001b[0;32m      5\u001b[0m \u001b[0mcredentials_path\u001b[0m \u001b[1;33m=\u001b[0m \u001b[1;34m'../../credentials.json'\u001b[0m\u001b[1;33m\u001b[0m\u001b[1;33m\u001b[0m\u001b[0m\n\u001b[1;32m----> 6\u001b[1;33m \u001b[0mresult\u001b[0m \u001b[1;33m=\u001b[0m \u001b[0mbatch_ocr\u001b[0m\u001b[1;33m(\u001b[0m\u001b[0mimage_folder_path\u001b[0m\u001b[1;33m,\u001b[0m\u001b[0mcredentials_path\u001b[0m\u001b[1;33m)\u001b[0m\u001b[1;33m\u001b[0m\u001b[1;33m\u001b[0m\u001b[0m\n\u001b[0m\u001b[0;32m      7\u001b[0m \u001b[1;31m# Define your list of tuples (old filename, new filename)\u001b[0m\u001b[1;33m\u001b[0m\u001b[1;33m\u001b[0m\u001b[1;33m\u001b[0m\u001b[0m\n\u001b[0;32m      8\u001b[0m \u001b[0mfile_rename_list\u001b[0m \u001b[1;33m=\u001b[0m \u001b[0mresult\u001b[0m\u001b[1;33m\u001b[0m\u001b[1;33m\u001b[0m\u001b[0m\n",
      "\u001b[1;31mNameError\u001b[0m: name 'batch_ocr' is not defined"
     ]
    }
   ],
   "source": [
    "# run program on one image, image paste and output the result of ocr in a new folder\n",
    "image_folder_name = 'RC05028_00'\n",
    "image_folder_path = '../../seg_letter/seg_letter'+image_folder_name\n",
    "# Replace with your own Google Cloud credentials JSON file path\n",
    "credentials_path = '../../credentials.json'\n",
    "result = batch_ocr(image_folder_path,credentials_path)\n",
    "# Define your list of tuples (old filename, new filename)\n",
    "file_rename_list = result\n",
    "\n",
    "# Replace 'path/to/your/folder' with the path to the folder containing your files\n",
    "folder_path = image_folder_path\n",
    "\n",
    "# Define the name of the new directory\n",
    "new_directory_name = \"../../seg_letter_new/\" + image_folder_name\n",
    "\n",
    "# Create the new directory\n",
    "new_directory_path = os.path.join(folder_path, new_directory_name)\n",
    "os.makedirs(new_directory_path, exist_ok=True)\n",
    "\n",
    "# Iterate through the list of tuples\n",
    "for old_filename, new_filename in file_rename_list:\n",
    "    # Construct the full paths for the old and new names\n",
    "    old_path = os.path.join(folder_path, old_filename)\n",
    "    new_path = os.path.join(new_directory_path, new_filename[0]+old_filename[:-4]+\".jpg\")\n",
    "\n",
    "    # Move the file to the new directory\n",
    "    shutil.copy(old_path, new_path)\n",
    "\n",
    "#     print(f\"Copied: {old_filename} to {new_directory_name}/{new_filename}\")"
   ]
  },
  {
   "cell_type": "code",
   "execution_count": null,
   "metadata": {},
   "outputs": [],
   "source": []
  },
  {
   "cell_type": "code",
   "execution_count": null,
   "metadata": {},
   "outputs": [],
   "source": []
  }
 ],
 "metadata": {
  "kernelspec": {
   "display_name": "Python 3 (ipykernel)",
   "language": "python",
   "name": "python3"
  },
  "language_info": {
   "codemirror_mode": {
    "name": "ipython",
    "version": 3
   },
   "file_extension": ".py",
   "mimetype": "text/x-python",
   "name": "python",
   "nbconvert_exporter": "python",
   "pygments_lexer": "ipython3",
   "version": "3.9.6"
  }
 },
 "nbformat": 4,
 "nbformat_minor": 4
}
